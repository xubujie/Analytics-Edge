{
 "cells": [
  {
   "cell_type": "markdown",
   "metadata": {
    "collapsed": true
   },
   "source": [
    "# regression for speed\n",
    "Author: Bujie Xu\n",
    "\n",
    "speed = Distance/measured time"
   ]
  },
  {
   "cell_type": "markdown",
   "metadata": {},
   "source": [
    "# regression for power"
   ]
  },
  {
   "cell_type": "markdown",
   "metadata": {},
   "source": [
    "## Load Data "
   ]
  },
  {
   "cell_type": "code",
   "execution_count": 23,
   "metadata": {
    "collapsed": false
   },
   "outputs": [],
   "source": [
    "import numpy as np\n",
    "import pandas as pd\n",
    "import matplotlib\n",
    "import sklearn\n",
    "import matplotlib.pyplot as plt\n",
    "from scipy.stats import skew\n",
    "from scipy.stats.stats import pearsonr\n",
    "\n",
    "%config InlineBackend.figure_format = 'png' \n",
    "%matplotlib inline"
   ]
  },
  {
   "cell_type": "code",
   "execution_count": 24,
   "metadata": {
    "collapsed": true
   },
   "outputs": [],
   "source": [
    "# load data\n",
    "train = pd.read_csv(filepath_or_buffer=\"../data/data_train.csv\",sep=\";\")\n",
    "test = pd.read_csv(filepath_or_buffer=\"../data/data_test.csv\",sep=\";\")"
   ]
  },
  {
   "cell_type": "code",
   "execution_count": 25,
   "metadata": {
    "collapsed": false
   },
   "outputs": [
    {
     "data": {
      "text/html": [
       "<div>\n",
       "<table border=\"1\" class=\"dataframe\">\n",
       "  <thead>\n",
       "    <tr style=\"text-align: right;\">\n",
       "      <th></th>\n",
       "      <th>RiderID</th>\n",
       "      <th>Index</th>\n",
       "      <th>Date</th>\n",
       "      <th>Time</th>\n",
       "      <th>Average_Gradient</th>\n",
       "      <th>Max_Gradient</th>\n",
       "      <th>Distance</th>\n",
       "      <th>Highest_point</th>\n",
       "      <th>Lowest_point</th>\n",
       "      <th>Measured_time</th>\n",
       "      <th>Moving_time</th>\n",
       "      <th>Average_heart_rate</th>\n",
       "      <th>Max_heart_rate</th>\n",
       "      <th>Speed</th>\n",
       "      <th>Power</th>\n",
       "      <th>Cadence</th>\n",
       "    </tr>\n",
       "  </thead>\n",
       "  <tbody>\n",
       "    <tr>\n",
       "      <th>0</th>\n",
       "      <td>1</td>\n",
       "      <td>78294</td>\n",
       "      <td>2015-02-09</td>\n",
       "      <td>05:50:12</td>\n",
       "      <td>0.0</td>\n",
       "      <td>5.0</td>\n",
       "      <td>9980.400</td>\n",
       "      <td>128.4</td>\n",
       "      <td>124.6</td>\n",
       "      <td>1375</td>\n",
       "      <td>1375</td>\n",
       "      <td>105.8</td>\n",
       "      <td>114</td>\n",
       "      <td>7.258473</td>\n",
       "      <td>92.4</td>\n",
       "      <td>85.3</td>\n",
       "    </tr>\n",
       "    <tr>\n",
       "      <th>1</th>\n",
       "      <td>1</td>\n",
       "      <td>62861</td>\n",
       "      <td>2014-08-23</td>\n",
       "      <td>12:52:26</td>\n",
       "      <td>3.3</td>\n",
       "      <td>16.0</td>\n",
       "      <td>1666.010</td>\n",
       "      <td>204.6</td>\n",
       "      <td>147.9</td>\n",
       "      <td>252</td>\n",
       "      <td>252</td>\n",
       "      <td>157.5</td>\n",
       "      <td>170</td>\n",
       "      <td>6.611151</td>\n",
       "      <td>271.9</td>\n",
       "      <td>88.3</td>\n",
       "    </tr>\n",
       "    <tr>\n",
       "      <th>2</th>\n",
       "      <td>1</td>\n",
       "      <td>88658</td>\n",
       "      <td>2014-09-30</td>\n",
       "      <td>06:19:38</td>\n",
       "      <td>0.0</td>\n",
       "      <td>0.0</td>\n",
       "      <td>345.600</td>\n",
       "      <td>59.0</td>\n",
       "      <td>59.0</td>\n",
       "      <td>36</td>\n",
       "      <td>36</td>\n",
       "      <td>158.9</td>\n",
       "      <td>160</td>\n",
       "      <td>9.600000</td>\n",
       "      <td>274.4</td>\n",
       "      <td>103.4</td>\n",
       "    </tr>\n",
       "    <tr>\n",
       "      <th>3</th>\n",
       "      <td>1</td>\n",
       "      <td>77748</td>\n",
       "      <td>2015-02-21</td>\n",
       "      <td>14:25:18</td>\n",
       "      <td>-8.3</td>\n",
       "      <td>-0.5</td>\n",
       "      <td>1572.900</td>\n",
       "      <td>617.8</td>\n",
       "      <td>487.2</td>\n",
       "      <td>123</td>\n",
       "      <td>123</td>\n",
       "      <td>99.1</td>\n",
       "      <td>104</td>\n",
       "      <td>12.787805</td>\n",
       "      <td>72.8</td>\n",
       "      <td>66.4</td>\n",
       "    </tr>\n",
       "    <tr>\n",
       "      <th>4</th>\n",
       "      <td>1</td>\n",
       "      <td>64485</td>\n",
       "      <td>2012-08-24</td>\n",
       "      <td>06:34:28</td>\n",
       "      <td>-7.6</td>\n",
       "      <td>-4.8</td>\n",
       "      <td>435.352</td>\n",
       "      <td>54.4</td>\n",
       "      <td>21.4</td>\n",
       "      <td>59</td>\n",
       "      <td>59</td>\n",
       "      <td>100.3</td>\n",
       "      <td>111</td>\n",
       "      <td>7.378847</td>\n",
       "      <td>4.9</td>\n",
       "      <td>60.3</td>\n",
       "    </tr>\n",
       "  </tbody>\n",
       "</table>\n",
       "</div>"
      ],
      "text/plain": [
       "   RiderID  Index        Date      Time  Average_Gradient  Max_Gradient  \\\n",
       "0        1  78294  2015-02-09  05:50:12               0.0           5.0   \n",
       "1        1  62861  2014-08-23  12:52:26               3.3          16.0   \n",
       "2        1  88658  2014-09-30  06:19:38               0.0           0.0   \n",
       "3        1  77748  2015-02-21  14:25:18              -8.3          -0.5   \n",
       "4        1  64485  2012-08-24  06:34:28              -7.6          -4.8   \n",
       "\n",
       "   Distance  Highest_point  Lowest_point  Measured_time  Moving_time  \\\n",
       "0  9980.400          128.4         124.6           1375         1375   \n",
       "1  1666.010          204.6         147.9            252          252   \n",
       "2   345.600           59.0          59.0             36           36   \n",
       "3  1572.900          617.8         487.2            123          123   \n",
       "4   435.352           54.4          21.4             59           59   \n",
       "\n",
       "   Average_heart_rate  Max_heart_rate      Speed  Power  Cadence  \n",
       "0               105.8             114   7.258473   92.4     85.3  \n",
       "1               157.5             170   6.611151  271.9     88.3  \n",
       "2               158.9             160   9.600000  274.4    103.4  \n",
       "3                99.1             104  12.787805   72.8     66.4  \n",
       "4               100.3             111   7.378847    4.9     60.3  "
      ]
     },
     "execution_count": 25,
     "metadata": {},
     "output_type": "execute_result"
    }
   ],
   "source": [
    "train.head()"
   ]
  },
  {
   "cell_type": "code",
   "execution_count": 26,
   "metadata": {
    "collapsed": false
   },
   "outputs": [
    {
     "data": {
      "text/html": [
       "<div>\n",
       "<table border=\"1\" class=\"dataframe\">\n",
       "  <thead>\n",
       "    <tr style=\"text-align: right;\">\n",
       "      <th></th>\n",
       "      <th>Id</th>\n",
       "      <th>RiderID</th>\n",
       "      <th>Index</th>\n",
       "      <th>Date</th>\n",
       "      <th>Time</th>\n",
       "      <th>Average_Gradient</th>\n",
       "      <th>Max_Gradient</th>\n",
       "      <th>Distance</th>\n",
       "      <th>Highest_point</th>\n",
       "      <th>Lowest_point</th>\n",
       "      <th>Measured_time</th>\n",
       "      <th>Moving_time</th>\n",
       "      <th>Average_heart_rate</th>\n",
       "      <th>Max_heart_rate</th>\n",
       "      <th>Speed</th>\n",
       "      <th>Power</th>\n",
       "      <th>Cadence</th>\n",
       "    </tr>\n",
       "  </thead>\n",
       "  <tbody>\n",
       "    <tr>\n",
       "      <th>0</th>\n",
       "      <td>1</td>\n",
       "      <td>1</td>\n",
       "      <td>87837</td>\n",
       "      <td>2012-05-20</td>\n",
       "      <td>09:04:45</td>\n",
       "      <td>1.6</td>\n",
       "      <td>2.2</td>\n",
       "      <td>506.70</td>\n",
       "      <td>5.6</td>\n",
       "      <td>-2.4</td>\n",
       "      <td>50</td>\n",
       "      <td>50</td>\n",
       "      <td>173.6</td>\n",
       "      <td>176</td>\n",
       "      <td>NaN</td>\n",
       "      <td>397.2</td>\n",
       "      <td>90.6</td>\n",
       "    </tr>\n",
       "    <tr>\n",
       "      <th>1</th>\n",
       "      <td>2</td>\n",
       "      <td>1</td>\n",
       "      <td>13232</td>\n",
       "      <td>2013-08-26</td>\n",
       "      <td>06:43:07</td>\n",
       "      <td>0.0</td>\n",
       "      <td>0.0</td>\n",
       "      <td>351.68</td>\n",
       "      <td>32.0</td>\n",
       "      <td>32.0</td>\n",
       "      <td>58</td>\n",
       "      <td>58</td>\n",
       "      <td>110.8</td>\n",
       "      <td>115</td>\n",
       "      <td>NaN</td>\n",
       "      <td>64.2</td>\n",
       "      <td>89.7</td>\n",
       "    </tr>\n",
       "    <tr>\n",
       "      <th>2</th>\n",
       "      <td>3</td>\n",
       "      <td>1</td>\n",
       "      <td>63908</td>\n",
       "      <td>2013-10-26</td>\n",
       "      <td>08:51:52</td>\n",
       "      <td>-4.7</td>\n",
       "      <td>-1.8</td>\n",
       "      <td>650.00</td>\n",
       "      <td>236.4</td>\n",
       "      <td>206.0</td>\n",
       "      <td>54</td>\n",
       "      <td>54</td>\n",
       "      <td>94.8</td>\n",
       "      <td>100</td>\n",
       "      <td>NaN</td>\n",
       "      <td>21.3</td>\n",
       "      <td>75.9</td>\n",
       "    </tr>\n",
       "    <tr>\n",
       "      <th>3</th>\n",
       "      <td>4</td>\n",
       "      <td>1</td>\n",
       "      <td>97224</td>\n",
       "      <td>2014-09-08</td>\n",
       "      <td>07:00:46</td>\n",
       "      <td>0.0</td>\n",
       "      <td>0.0</td>\n",
       "      <td>345.60</td>\n",
       "      <td>59.0</td>\n",
       "      <td>59.0</td>\n",
       "      <td>63</td>\n",
       "      <td>63</td>\n",
       "      <td>116.1</td>\n",
       "      <td>121</td>\n",
       "      <td>NaN</td>\n",
       "      <td>85.4</td>\n",
       "      <td>69.0</td>\n",
       "    </tr>\n",
       "    <tr>\n",
       "      <th>4</th>\n",
       "      <td>5</td>\n",
       "      <td>1</td>\n",
       "      <td>69163</td>\n",
       "      <td>2015-04-09</td>\n",
       "      <td>05:53:50</td>\n",
       "      <td>0.0</td>\n",
       "      <td>0.0</td>\n",
       "      <td>345.60</td>\n",
       "      <td>59.0</td>\n",
       "      <td>59.0</td>\n",
       "      <td>52</td>\n",
       "      <td>52</td>\n",
       "      <td>112.5</td>\n",
       "      <td>114</td>\n",
       "      <td>NaN</td>\n",
       "      <td>84.8</td>\n",
       "      <td>84.8</td>\n",
       "    </tr>\n",
       "  </tbody>\n",
       "</table>\n",
       "</div>"
      ],
      "text/plain": [
       "   Id  RiderID  Index        Date      Time  Average_Gradient  Max_Gradient  \\\n",
       "0   1        1  87837  2012-05-20  09:04:45               1.6           2.2   \n",
       "1   2        1  13232  2013-08-26  06:43:07               0.0           0.0   \n",
       "2   3        1  63908  2013-10-26  08:51:52              -4.7          -1.8   \n",
       "3   4        1  97224  2014-09-08  07:00:46               0.0           0.0   \n",
       "4   5        1  69163  2015-04-09  05:53:50               0.0           0.0   \n",
       "\n",
       "   Distance  Highest_point  Lowest_point  Measured_time  Moving_time  \\\n",
       "0    506.70            5.6          -2.4             50           50   \n",
       "1    351.68           32.0          32.0             58           58   \n",
       "2    650.00          236.4         206.0             54           54   \n",
       "3    345.60           59.0          59.0             63           63   \n",
       "4    345.60           59.0          59.0             52           52   \n",
       "\n",
       "   Average_heart_rate  Max_heart_rate  Speed  Power  Cadence  \n",
       "0               173.6             176    NaN  397.2     90.6  \n",
       "1               110.8             115    NaN   64.2     89.7  \n",
       "2                94.8             100    NaN   21.3     75.9  \n",
       "3               116.1             121    NaN   85.4     69.0  \n",
       "4               112.5             114    NaN   84.8     84.8  "
      ]
     },
     "execution_count": 26,
     "metadata": {},
     "output_type": "execute_result"
    }
   ],
   "source": [
    "test.head()"
   ]
  },
  {
   "cell_type": "markdown",
   "metadata": {},
   "source": [
    "# Data Preprocessing"
   ]
  },
  {
   "cell_type": "code",
   "execution_count": 190,
   "metadata": {
    "collapsed": false
   },
   "outputs": [],
   "source": [
    "# remove useless columns\n",
    "data = train.drop([\"Index\",\"Date\",\"Time\",\"RiderID\"], axis=1)\n",
    "rider = pd.get_dummies(train['RiderID'].astype('category'))"
   ]
  },
  {
   "cell_type": "code",
   "execution_count": 191,
   "metadata": {
    "collapsed": false
   },
   "outputs": [],
   "source": [
    "# Split data into train and test\n",
    "from sklearn.model_selection import train_test_split\n",
    "X, y = data.drop(['Power'], axis=1), data['Power']"
   ]
  },
  {
   "cell_type": "code",
   "execution_count": 192,
   "metadata": {
    "collapsed": false
   },
   "outputs": [],
   "source": [
    "from sklearn.preprocessing import PolynomialFeatures\n",
    "ploy = PolynomialFeatures(2)\n",
    "X = ploy.fit_transform(X)"
   ]
  },
  {
   "cell_type": "code",
   "execution_count": 193,
   "metadata": {
    "collapsed": false
   },
   "outputs": [],
   "source": [
    "X = np.hstack((X,rider))"
   ]
  },
  {
   "cell_type": "code",
   "execution_count": 194,
   "metadata": {
    "collapsed": false
   },
   "outputs": [
    {
     "data": {
      "text/plain": [
       "array([[  1. ,   0. ,   5. , ...,   0. ,   0. ,   0. ],\n",
       "       [  1. ,   3.3,  16. , ...,   0. ,   0. ,   0. ],\n",
       "       [  1. ,   0. ,   0. , ...,   0. ,   0. ,   0. ],\n",
       "       ..., \n",
       "       [  1. ,  -0.3,   3.7, ...,   0. ,   0. ,   1. ],\n",
       "       [  1. ,  -0.2,  11.7, ...,   0. ,   0. ,   1. ],\n",
       "       [  1. ,   0. ,   0. , ...,   0. ,   0. ,   1. ]])"
      ]
     },
     "execution_count": 194,
     "metadata": {},
     "output_type": "execute_result"
    }
   ],
   "source": [
    "X"
   ]
  },
  {
   "cell_type": "code",
   "execution_count": 28,
   "metadata": {
    "collapsed": false
   },
   "outputs": [],
   "source": [
    "#def logPlot(col):\n",
    "#    matplotlib.rcParams['figure.figsize'] = (12.0, 6.0)\n",
    "#    data = pd.DataFrame({col:train[col],\"log(distance +1)\":np.log1p(train[col])})\n",
    "#    data.hist()"
   ]
  },
  {
   "cell_type": "code",
   "execution_count": 63,
   "metadata": {
    "collapsed": false
   },
   "outputs": [],
   "source": [
    "# log transform skewed numeric features:\n",
    "#numeric_feats = train_data.dtypes[train_data.dtypes != \"object\"].index\n",
    "#print numeric_feats\n",
    "#skewed_feats = train_data[numeric_feats].apply(lambda x: skew(x.dropna()))\n",
    "#print skewed_feats\n",
    "#skewed_feats = skewed_feats[skewed_feats >= ]"
   ]
  },
  {
   "cell_type": "markdown",
   "metadata": {
    "collapsed": false
   },
   "source": [
    "## Models\n",
    "use regularized linear regression models from scikit learn module. try both Lasso and Ridge regularization."
   ]
  },
  {
   "cell_type": "code",
   "execution_count": 195,
   "metadata": {
    "collapsed": false
   },
   "outputs": [],
   "source": [
    "from sklearn.linear_model import Ridge, RidgeCV, ElasticNet, LassoCV, LassoLarsCV\n",
    "from sklearn.model_selection import cross_val_score\n",
    "\n",
    "def rmse_cv(model):\n",
    "    rmse = np.sqrt(-cross_val_score(model, X, y, scoring = \"neg_mean_squared_error\", cv = 5))\n",
    "    return(rmse)"
   ]
  },
  {
   "cell_type": "code",
   "execution_count": 196,
   "metadata": {
    "collapsed": true
   },
   "outputs": [],
   "source": [
    "model_ridge = Ridge()"
   ]
  },
  {
   "cell_type": "code",
   "execution_count": 197,
   "metadata": {
    "collapsed": false
   },
   "outputs": [],
   "source": [
    "alphas = [0.05, 0.1, 0.3, 1, 3, 5, 10, 15, 30, 50, 75,200]\n",
    "cv_ridge = [rmse_cv(Ridge(alpha = alpha)).mean() for alpha in alphas]"
   ]
  },
  {
   "cell_type": "code",
   "execution_count": 198,
   "metadata": {
    "collapsed": false
   },
   "outputs": [
    {
     "data": {
      "text/plain": [
       "<matplotlib.text.Text at 0x118c49a50>"
      ]
     },
     "execution_count": 198,
     "metadata": {},
     "output_type": "execute_result"
    },
    {
     "data": {
      "image/png": "[encoded data removed]",
      "text/plain": [
       "<matplotlib.figure.Figure at 0x1144ca650>"
      ]
     },
     "metadata": {},
     "output_type": "display_data"
    }
   ],
   "source": [
    "cv_ridge = pd.Series(cv_ridge, index = alphas)\n",
    "cv_ridge.plot(title = \"Validation - Just Do It\")\n",
    "plt.xlabel(\"alpha\")\n",
    "plt.ylabel(\"rmse\")"
   ]
  },
  {
   "cell_type": "code",
   "execution_count": 199,
   "metadata": {
    "collapsed": false
   },
   "outputs": [
    {
     "data": {
      "text/plain": [
       "63.886775652083053"
      ]
     },
     "execution_count": 199,
     "metadata": {},
     "output_type": "execute_result"
    }
   ],
   "source": [
    "cv_ridge.min()"
   ]
  },
  {
   "cell_type": "code",
   "execution_count": 106,
   "metadata": {
    "collapsed": false
   },
   "outputs": [],
   "source": [
    "# neural_newtowrk\n",
    "from sklearn.neural_network import MLPRegressor\n",
    "alphas = [0.05, 0.1, 0.3, 1, 3, 5, 10, 15, 30, 50, 75]\n",
    "cv_ridge = [rmse_cv(MLPRegressor(alpha = alpha)).mean() for alpha in alphas]"
   ]
  },
  {
   "cell_type": "code",
   "execution_count": null,
   "metadata": {
    "collapsed": false
   },
   "outputs": [],
   "source": [
    "# random forest\n",
    "from sklearn.ensemble import RandomForestRegressor\n",
    "clf = RandomForestRegressor(n_estimators= 500, n_jobs=1)\n",
    "cv_ridge = rmse_cv(clf)"
   ]
  },
  {
   "cell_type": "code",
   "execution_count": null,
   "metadata": {
    "collapsed": true
   },
   "outputs": [],
   "source": [
    "cv_ridge"
   ]
  }
 ],
 "metadata": {
  "anaconda-cloud": {},
  "kernelspec": {
   "display_name": "Python 2",
   "language": "python",
   "name": "python2"
  },
  "language_info": {
   "codemirror_mode": {
    "name": "ipython",
    "version": 2
   },
   "file_extension": ".py",
   "mimetype": "text/x-python",
   "name": "python",
   "nbconvert_exporter": "python",
   "pygments_lexer": "ipython2",
   "version": "2.7.12"
  }
 },
 "nbformat": 4,
 "nbformat_minor": 0
}
