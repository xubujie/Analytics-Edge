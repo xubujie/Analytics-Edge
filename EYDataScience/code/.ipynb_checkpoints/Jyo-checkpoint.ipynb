{
 "cells": [
  {
   "cell_type": "markdown",
   "metadata": {
    "collapsed": true
   },
   "source": [
    "# regression for speed\n",
    "Author: Bujie Xu\n",
    "\n",
    "speed = Distance/measured time"
   ]
  },
  {
   "cell_type": "code",
   "execution_count": 419,
   "metadata": {
    "collapsed": true
   },
   "outputs": [],
   "source": [
    "import numpy as np\n",
    "import pandas as pd\n",
    "import matplotlib\n",
    "import sklearn\n",
    "import matplotlib.pyplot as plt\n",
    "from scipy.stats import skew\n",
    "from scipy.stats.stats import pearsonr\n",
    "\n",
    "%config InlineBackend.figure_format = 'png' \n",
    "%matplotlib inline"
   ]
  },
  {
   "cell_type": "code",
   "execution_count": 420,
   "metadata": {
    "collapsed": true
   },
   "outputs": [],
   "source": [
    "# learning curver\n",
    "from sklearn.model_selection import learning_curve\n",
    "from sklearn.model_selection import ShuffleSplit\n",
    "\n",
    "\n",
    "def plot_learning_curve(estimator, title, X, y, ylim=None, cv=None,\n",
    "                        n_jobs=1, train_sizes=np.linspace(.1, 1.0, 5)):\n",
    "    \"\"\"\n",
    "    Generate a simple plot of the test and training learning curve.\n",
    "\n",
    "    Parameters\n",
    "    ----------\n",
    "    estimator : object type that implements the \"fit\" and \"predict\" methods\n",
    "        An object of that type which is cloned for each validation.\n",
    "\n",
    "    title : string\n",
    "        Title for the chart.\n",
    "\n",
    "    X : array-like, shape (n_samples, n_features)\n",
    "        Training vector, where n_samples is the number of samples and\n",
    "        n_features is the number of features.\n",
    "\n",
    "    y : array-like, shape (n_samples) or (n_samples, n_features), optional\n",
    "        Target relative to X for classification or regression;\n",
    "        None for unsupervised learning.\n",
    "\n",
    "    ylim : tuple, shape (ymin, ymax), optional\n",
    "        Defines minimum and maximum yvalues plotted.\n",
    "\n",
    "    cv : int, cross-validation generator or an iterable, optional\n",
    "        Determines the cross-validation splitting strategy.\n",
    "        Possible inputs for cv are:\n",
    "          - None, to use the default 3-fold cross-validation,\n",
    "          - integer, to specify the number of folds.\n",
    "          - An object to be used as a cross-validation generator.\n",
    "          - An iterable yielding train/test splits.\n",
    "\n",
    "        For integer/None inputs, if ``y`` is binary or multiclass,\n",
    "        :class:`StratifiedKFold` used. If the estimator is not a classifier\n",
    "        or if ``y`` is neither binary nor multiclass, :class:`KFold` is used.\n",
    "\n",
    "        Refer :ref:`User Guide <cross_validation>` for the various\n",
    "        cross-validators that can be used here.\n",
    "\n",
    "    n_jobs : integer, optional\n",
    "        Number of jobs to run in parallel (default 1).\n",
    "    \"\"\"\n",
    "    plt.figure()\n",
    "    plt.title(title)\n",
    "    if ylim is not None:\n",
    "        plt.ylim(*ylim)\n",
    "    plt.xlabel(\"Training examples\")\n",
    "    plt.ylabel(\"Score\")\n",
    "    train_sizes, train_scores, test_scores = learning_curve(\n",
    "        estimator, X, y, scoring=\"neg_mean_squared_error\",cv=cv, n_jobs=n_jobs, train_sizes=train_sizes)\n",
    "    train_scores_mean = np.mean(train_scores, axis=1)\n",
    "    train_scores_std = np.std(train_scores, axis=1)\n",
    "    test_scores_mean = np.mean(test_scores, axis=1)\n",
    "    test_scores_std = np.std(test_scores, axis=1)\n",
    "    plt.grid()\n",
    "\n",
    "    plt.fill_between(train_sizes, train_scores_mean - train_scores_std,\n",
    "                     train_scores_mean + train_scores_std, alpha=0.1,\n",
    "                     color=\"r\")\n",
    "    plt.fill_between(train_sizes, test_scores_mean - test_scores_std,\n",
    "                     test_scores_mean + test_scores_std, alpha=0.1, color=\"g\")\n",
    "    plt.plot(train_sizes, train_scores_mean, 'o-', color=\"r\",\n",
    "             label=\"Training score\")\n",
    "    plt.plot(train_sizes, test_scores_mean, 'o-', color=\"g\",\n",
    "             label=\"Cross-validation score\")\n",
    "\n",
    "    plt.legend(loc=\"best\")\n",
    "    return plt"
   ]
  },
  {
   "cell_type": "code",
   "execution_count": 421,
   "metadata": {
    "collapsed": true
   },
   "outputs": [],
   "source": [
    "# validation curve\n",
    "from sklearn.model_selection import validation_curve\n",
    "\n",
    "def plot_validation_curve(estimator, title, X, y,cv=None, \n",
    "                          n_jobs = 1,param_range=np.logspace(-6, -1, 100)):\n",
    "    train_scores, test_scores = validation_curve(\n",
    "        estimator, X, y, param_name=\"alpha\", param_range=param_range,\n",
    "        cv=cv, scoring=\"neg_mean_squared_error\", n_jobs = n_jobs )\n",
    "    train_scores_mean = np.mean(train_scores, axis=1)\n",
    "    train_scores_std = np.std(train_scores, axis=1)\n",
    "    test_scores_mean = np.mean(test_scores, axis=1)\n",
    "    test_scores_std = np.std(test_scores, axis=1)\n",
    "\n",
    "    plt.title(title)\n",
    "    plt.xlabel(\"alpha\")\n",
    "    plt.ylabel(\"Score\")\n",
    "    lw = 2\n",
    "    plt.semilogx(param_range, train_scores_mean, label=\"Training score\",\n",
    "                 color=\"darkorange\", lw=lw)\n",
    "    plt.fill_between(param_range, train_scores_mean - train_scores_std,\n",
    "                     train_scores_mean + train_scores_std, alpha=0.2,\n",
    "                     color=\"darkorange\", lw=lw)\n",
    "    plt.semilogx(param_range, test_scores_mean, label=\"Cross-validation score\",\n",
    "                 color=\"navy\", lw=lw)\n",
    "    plt.fill_between(param_range, test_scores_mean - test_scores_std,\n",
    "                     test_scores_mean + test_scores_std, alpha=0.2,\n",
    "                     color=\"navy\", lw=lw)\n",
    "    plt.legend(loc=\"best\")\n",
    "    return plt"
   ]
  },
  {
   "cell_type": "code",
   "execution_count": 513,
   "metadata": {
    "collapsed": false
   },
   "outputs": [],
   "source": [
    "# load data\n",
    "train_csv = pd.read_csv(filepath_or_buffer=\"../data/data_train.csv\",sep=\";\")\n",
    "test_csv = pd.read_csv(filepath_or_buffer=\"../data/data_test.csv\",sep=\";\")"
   ]
  },
  {
   "cell_type": "markdown",
   "metadata": {},
   "source": [
    "### Speed: predict result"
   ]
  },
  {
   "cell_type": "code",
   "execution_count": 428,
   "metadata": {
    "collapsed": false
   },
   "outputs": [],
   "source": [
    "speed_test = test_csv.loc[test_csv.Speed.isnull()]\n",
    "speed_test.Speed = speed_test.Distance/speed_test.Measured_time"
   ]
  },
  {
   "cell_type": "code",
   "execution_count": 429,
   "metadata": {
    "collapsed": true
   },
   "outputs": [],
   "source": [
    "speed_result = speed_test[['Id','Speed']]"
   ]
  },
  {
   "cell_type": "code",
   "execution_count": 430,
   "metadata": {
    "collapsed": false
   },
   "outputs": [
    {
     "data": {
      "text/html": [
       "<div>\n",
       "<table border=\"1\" class=\"dataframe\">\n",
       "  <thead>\n",
       "    <tr style=\"text-align: right;\">\n",
       "      <th></th>\n",
       "      <th>Id</th>\n",
       "      <th>Speed</th>\n",
       "    </tr>\n",
       "  </thead>\n",
       "  <tbody>\n",
       "    <tr>\n",
       "      <th>0</th>\n",
       "      <td>1</td>\n",
       "      <td>10.134000</td>\n",
       "    </tr>\n",
       "    <tr>\n",
       "      <th>1</th>\n",
       "      <td>2</td>\n",
       "      <td>6.063448</td>\n",
       "    </tr>\n",
       "    <tr>\n",
       "      <th>2</th>\n",
       "      <td>3</td>\n",
       "      <td>12.037037</td>\n",
       "    </tr>\n",
       "    <tr>\n",
       "      <th>3</th>\n",
       "      <td>4</td>\n",
       "      <td>5.485714</td>\n",
       "    </tr>\n",
       "    <tr>\n",
       "      <th>4</th>\n",
       "      <td>5</td>\n",
       "      <td>6.646154</td>\n",
       "    </tr>\n",
       "  </tbody>\n",
       "</table>\n",
       "</div>"
      ],
      "text/plain": [
       "   Id      Speed\n",
       "0   1  10.134000\n",
       "1   2   6.063448\n",
       "2   3  12.037037\n",
       "3   4   5.485714\n",
       "4   5   6.646154"
      ]
     },
     "execution_count": 430,
     "metadata": {},
     "output_type": "execute_result"
    }
   ],
   "source": [
    "speed_result.head()"
   ]
  },
  {
   "cell_type": "markdown",
   "metadata": {},
   "source": [
    "## Part2 :Regression for Candence"
   ]
  },
  {
   "cell_type": "markdown",
   "metadata": {},
   "source": [
    "## Data Preprocessing (Cadence)"
   ]
  },
  {
   "cell_type": "code",
   "execution_count": 514,
   "metadata": {
    "collapsed": true
   },
   "outputs": [],
   "source": [
    "all_data = pd.concat((train_csv, test_csv))\n",
    "all_data.Speed = all_data.Speed.fillna(all_data.Distance/all_data.Measured_time)"
   ]
  },
  {
   "cell_type": "code",
   "execution_count": 515,
   "metadata": {
    "collapsed": true
   },
   "outputs": [],
   "source": [
    "all_data.Date = pd.to_datetime(all_data.Date)\n",
    "all_data.Time = pd.to_datetime(all_data.Time)\n",
    "all_data['Year'] = all_data.Date.apply(lambda date:date.year)\n",
    "all_data['Month'] = all_data.Date.apply(lambda date:date.month)\n",
    "all_data['Hour'] = all_data.Time.apply(lambda time:time.hour)"
   ]
  },
  {
   "cell_type": "code",
   "execution_count": 576,
   "metadata": {
    "collapsed": false
   },
   "outputs": [],
   "source": [
    "# remove useless columns\n",
    "cadence = all_data.drop(['Index','Date','Time'], axis=1)"
   ]
  },
  {
   "cell_type": "code",
   "execution_count": 577,
   "metadata": {
    "collapsed": false
   },
   "outputs": [],
   "source": [
    "# change categorical data to dummys\n",
    "cadence.RiderID = cadence.RiderID.astype('category')\n",
    "cadence.Month = cadence.Month.astype('category')\n",
    "cadence.Hour = cadence.Hour.astype('category')\n",
    "cadence.Year = cadence.Year.astype('category')\n",
    "cadence = pd.get_dummies(cadence)"
   ]
  },
  {
   "cell_type": "code",
   "execution_count": 578,
   "metadata": {
    "collapsed": true
   },
   "outputs": [],
   "source": [
    "# add new feature speed/dis\n",
    "cadence['1/Measured_time'] = 1/cadence.Measured_time"
   ]
  },
  {
   "cell_type": "code",
   "execution_count": 579,
   "metadata": {
    "collapsed": false
   },
   "outputs": [
    {
     "data": {
      "text/plain": [
       "Index([u'Average_Gradient', u'Average_heart_rate', u'Cadence', u'Distance',\n",
       "       u'Highest_point', u'Id', u'Lowest_point', u'Max_Gradient',\n",
       "       u'Max_heart_rate', u'Measured_time', u'Moving_time', u'Power', u'Speed',\n",
       "       u'RiderID_1', u'RiderID_2', u'RiderID_3', u'RiderID_4', u'RiderID_5',\n",
       "       u'RiderID_6', u'RiderID_7', u'RiderID_8', u'RiderID_9', u'RiderID_10',\n",
       "       u'RiderID_11', u'RiderID_12', u'RiderID_13', u'RiderID_14',\n",
       "       u'RiderID_15', u'Year_2008', u'Year_2009', u'Year_2010', u'Year_2011',\n",
       "       u'Year_2012', u'Year_2013', u'Year_2014', u'Year_2015', u'Year_2016',\n",
       "       u'Month_1', u'Month_2', u'Month_3', u'Month_4', u'Month_5', u'Month_6',\n",
       "       u'Month_7', u'Month_8', u'Month_9', u'Month_10', u'Month_11',\n",
       "       u'Month_12', u'Hour_0', u'Hour_1', u'Hour_2', u'Hour_3', u'Hour_4',\n",
       "       u'Hour_5', u'Hour_6', u'Hour_7', u'Hour_8', u'Hour_9', u'Hour_10',\n",
       "       u'Hour_11', u'Hour_12', u'Hour_13', u'Hour_14', u'Hour_15', u'Hour_16',\n",
       "       u'Hour_17', u'Hour_18', u'Hour_19', u'Hour_20', u'Hour_21', u'Hour_22',\n",
       "       u'Hour_23', u'1/Measured_time'],\n",
       "      dtype='object')"
      ]
     },
     "execution_count": 579,
     "metadata": {},
     "output_type": "execute_result"
    }
   ],
   "source": [
    "cadence.columns"
   ]
  },
  {
   "cell_type": "code",
   "execution_count": 580,
   "metadata": {
    "collapsed": false
   },
   "outputs": [],
   "source": [
    "cadence_train = cadence.dropna(subset=['Cadence','Power'],how = 'any')\n",
    "cadence_test = cadence.loc[cadence['Cadence'].isnull()]"
   ]
  },
  {
   "cell_type": "code",
   "execution_count": 581,
   "metadata": {
    "collapsed": true
   },
   "outputs": [],
   "source": [
    "dropList = ['Cadence','Id']\n",
    "cadence_X_train, cadence_y = cadence_train.drop(dropList, axis=1), cadence_train['Cadence']\n",
    "cadence_columns = cadence_X_train.columns\n",
    "cadence_X_test = cadence_test.drop(dropList, axis=1)"
   ]
  },
  {
   "cell_type": "code",
   "execution_count": 582,
   "metadata": {
    "collapsed": false
   },
   "outputs": [
    {
     "data": {
      "text/plain": [
       "(120000, 72)"
      ]
     },
     "execution_count": 582,
     "metadata": {},
     "output_type": "execute_result"
    }
   ],
   "source": [
    "cadence_X_train.shape"
   ]
  },
  {
   "cell_type": "code",
   "execution_count": 307,
   "metadata": {
    "collapsed": false
   },
   "outputs": [],
   "source": [
    "# try log transform the target\n",
    "# numeric_feats = cadence_train.dtypes[cadence_train.dtypes != \"object\"].index\n",
    "\n",
    "#skewed_feats = cadence_train[numeric_feats].apply(lambda x: skew(x.dropna())) #compute skewness\n",
    "#skewed_feats = skewed_feats[skewed_feats > 1]\n",
    "#skewed_feats = skewed_feats.index\n",
    "#skewed_feats = np.hstack((skewed_feats[1],skewed_feats[-1]))\n",
    "#cadence_train[skewed_feats] = np.log1p(cadence_train[skewed_feats])\n",
    "#cadence_train[['Distance','/Dist']] = np.log1p(cadence_train[['Distance','1/Dist']])"
   ]
  },
  {
   "cell_type": "code",
   "execution_count": 472,
   "metadata": {
    "collapsed": false
   },
   "outputs": [],
   "source": [
    "# from sklearn.preprocessing import MinMaxScaler\n",
    "# min_max = MinMaxScaler()\n",
    "# X_train = min_max.fit_transform(X_train)\n",
    "# X_test = min_max.transform(X_test)"
   ]
  },
  {
   "cell_type": "code",
   "execution_count": 406,
   "metadata": {
    "collapsed": true
   },
   "outputs": [],
   "source": [
    "# from sklearn.preprocessing import StandardScaler\n",
    "# x_scaler = StandardScaler()\n",
    "# X_train = x_scaler.fit_transform(X_)"
   ]
  },
  {
   "cell_type": "code",
   "execution_count": 407,
   "metadata": {
    "collapsed": false
   },
   "outputs": [],
   "source": [
    "# X_train = np.hstack((X_train, riderID))"
   ]
  },
  {
   "cell_type": "markdown",
   "metadata": {},
   "source": [
    "## Cadence: Models "
   ]
  },
  {
   "cell_type": "code",
   "execution_count": 408,
   "metadata": {
    "collapsed": false
   },
   "outputs": [],
   "source": [
    "# from sklearn.linear_model import Ridge, RidgeCV, ElasticNet, LassoCV, LassoLarsCV, Lasso\n",
    "# from sklearn.model_selection import cross_val_score\n",
    "\n",
    "# def rmse_cv(model):\n",
    "#     rmse = np.sqrt(-cross_val_score(model, X_train, y, scoring = \"neg_mean_squared_error\", cv = 5))\n",
    "#     return(rmse)"
   ]
  },
  {
   "cell_type": "markdown",
   "metadata": {},
   "source": [
    "## RandomForestRegressor"
   ]
  },
  {
   "cell_type": "code",
   "execution_count": 583,
   "metadata": {
    "collapsed": false
   },
   "outputs": [
    {
     "name": "stdout",
     "output_type": "stream",
     "text": [
      "Fitting 5 folds for each of 6 candidates, totalling 30 fits\n",
      "[CV] max_features=0.2, n_estimators=500, min_samples_leaf=50 .........\n",
      "[CV] max_features=0.2, n_estimators=500, min_samples_leaf=50 .........\n",
      "[CV] max_features=0.2, n_estimators=500, min_samples_leaf=50 .........\n",
      "[CV] max_features=0.2, n_estimators=500, min_samples_leaf=50 .........\n",
      "[CV]  max_features=0.2, n_estimators=500, min_samples_leaf=50, score=-89.530951, total= 4.0min\n",
      "[CV] max_features=0.2, n_estimators=500, min_samples_leaf=50 .........\n"
     ]
    },
    {
     "name": "stderr",
     "output_type": "stream",
     "text": [
      "[Parallel(n_jobs=-1)]: Done   1 tasks      | elapsed:  4.2min\n"
     ]
    },
    {
     "name": "stdout",
     "output_type": "stream",
     "text": [
      "[CV]  max_features=0.2, n_estimators=500, min_samples_leaf=50, score=-212.542765, total= 4.0min\n",
      "[CV] max_features=0.2, n_estimators=1000, min_samples_leaf=50 ........\n"
     ]
    },
    {
     "name": "stderr",
     "output_type": "stream",
     "text": [
      "[Parallel(n_jobs=-1)]: Done   2 tasks      | elapsed:  4.2min\n"
     ]
    },
    {
     "name": "stdout",
     "output_type": "stream",
     "text": [
      "[CV]  max_features=0.2, n_estimators=500, min_samples_leaf=50, score=-114.006973, total= 4.1min\n",
      "[CV] max_features=0.2, n_estimators=1000, min_samples_leaf=50 ........\n"
     ]
    },
    {
     "name": "stderr",
     "output_type": "stream",
     "text": [
      "[Parallel(n_jobs=-1)]: Done   3 tasks      | elapsed:  4.2min\n"
     ]
    },
    {
     "name": "stdout",
     "output_type": "stream",
     "text": [
      "[CV]  max_features=0.2, n_estimators=500, min_samples_leaf=50, score=-126.551440, total= 4.1min\n",
      "[CV] max_features=0.2, n_estimators=1000, min_samples_leaf=50 ........\n"
     ]
    },
    {
     "name": "stderr",
     "output_type": "stream",
     "text": [
      "[Parallel(n_jobs=-1)]: Done   4 tasks      | elapsed:  4.2min\n"
     ]
    },
    {
     "name": "stdout",
     "output_type": "stream",
     "text": [
      "[CV]  max_features=0.2, n_estimators=500, min_samples_leaf=50, score=-129.771622, total= 4.0min\n",
      "[CV] max_features=0.2, n_estimators=1000, min_samples_leaf=50 ........\n"
     ]
    },
    {
     "name": "stderr",
     "output_type": "stream",
     "text": [
      "[Parallel(n_jobs=-1)]: Done   5 tasks      | elapsed:  8.3min\n"
     ]
    },
    {
     "name": "stdout",
     "output_type": "stream",
     "text": [
      "[CV]  max_features=0.2, n_estimators=1000, min_samples_leaf=50, score=-211.656828, total= 7.9min\n",
      "[CV] max_features=0.2, n_estimators=1000, min_samples_leaf=50 ........\n"
     ]
    },
    {
     "name": "stderr",
     "output_type": "stream",
     "text": [
      "[Parallel(n_jobs=-1)]: Done   6 tasks      | elapsed: 12.4min\n"
     ]
    },
    {
     "name": "stdout",
     "output_type": "stream",
     "text": [
      "[CV]  max_features=0.2, n_estimators=1000, min_samples_leaf=50, score=-113.891933, total= 8.0min\n",
      "[CV] max_features=9, n_estimators=500, min_samples_leaf=50 ...........\n"
     ]
    },
    {
     "name": "stderr",
     "output_type": "stream",
     "text": [
      "[Parallel(n_jobs=-1)]: Done   7 tasks      | elapsed: 12.5min\n"
     ]
    },
    {
     "name": "stdout",
     "output_type": "stream",
     "text": [
      "[CV]  max_features=0.2, n_estimators=1000, min_samples_leaf=50, score=-126.640830, total= 8.0min\n",
      "[CV] max_features=9, n_estimators=500, min_samples_leaf=50 ...........\n"
     ]
    },
    {
     "name": "stderr",
     "output_type": "stream",
     "text": [
      "[Parallel(n_jobs=-1)]: Done   8 tasks      | elapsed: 12.5min\n"
     ]
    },
    {
     "name": "stdout",
     "output_type": "stream",
     "text": [
      "[CV]  max_features=9, n_estimators=500, min_samples_leaf=50, score=-112.298628, total= 2.8min\n",
      "[CV] max_features=9, n_estimators=500, min_samples_leaf=50 ...........\n"
     ]
    },
    {
     "name": "stderr",
     "output_type": "stream",
     "text": [
      "[Parallel(n_jobs=-1)]: Done   9 tasks      | elapsed: 15.4min\n"
     ]
    },
    {
     "name": "stdout",
     "output_type": "stream",
     "text": [
      "[CV]  max_features=9, n_estimators=500, min_samples_leaf=50, score=-133.753604, total= 2.8min\n",
      "[CV] max_features=9, n_estimators=500, min_samples_leaf=50 ...........\n"
     ]
    },
    {
     "name": "stderr",
     "output_type": "stream",
     "text": [
      "[Parallel(n_jobs=-1)]: Done  10 tasks      | elapsed: 15.4min\n"
     ]
    },
    {
     "name": "stdout",
     "output_type": "stream",
     "text": [
      "[CV]  max_features=0.2, n_estimators=1000, min_samples_leaf=50, score=-89.427095, total= 7.8min\n",
      "[CV] max_features=9, n_estimators=500, min_samples_leaf=50 ...........\n"
     ]
    },
    {
     "name": "stderr",
     "output_type": "stream",
     "text": [
      "[Parallel(n_jobs=-1)]: Done  11 tasks      | elapsed: 16.4min\n"
     ]
    },
    {
     "name": "stdout",
     "output_type": "stream",
     "text": [
      "[CV]  max_features=9, n_estimators=500, min_samples_leaf=50, score=-219.572948, total= 2.7min\n",
      "[CV] max_features=9, n_estimators=1000, min_samples_leaf=50 ..........\n"
     ]
    },
    {
     "name": "stderr",
     "output_type": "stream",
     "text": [
      "[Parallel(n_jobs=-1)]: Done  12 tasks      | elapsed: 18.3min\n"
     ]
    },
    {
     "name": "stdout",
     "output_type": "stream",
     "text": [
      "[CV]  max_features=9, n_estimators=500, min_samples_leaf=50, score=-92.124738, total= 2.8min\n",
      "[CV] max_features=9, n_estimators=1000, min_samples_leaf=50 ..........\n"
     ]
    },
    {
     "name": "stderr",
     "output_type": "stream",
     "text": [
      "[Parallel(n_jobs=-1)]: Done  13 tasks      | elapsed: 18.3min\n"
     ]
    },
    {
     "name": "stdout",
     "output_type": "stream",
     "text": [
      "[CV]  max_features=9, n_estimators=500, min_samples_leaf=50, score=-130.917176, total= 2.7min\n",
      "[CV] max_features=9, n_estimators=1000, min_samples_leaf=50 ..........\n"
     ]
    },
    {
     "name": "stderr",
     "output_type": "stream",
     "text": [
      "[Parallel(n_jobs=-1)]: Done  14 tasks      | elapsed: 19.3min\n"
     ]
    },
    {
     "name": "stdout",
     "output_type": "stream",
     "text": [
      "[CV]  max_features=0.2, n_estimators=1000, min_samples_leaf=50, score=-129.612506, total=53.6min\n",
      "[CV] max_features=9, n_estimators=1000, min_samples_leaf=50 ..........\n"
     ]
    },
    {
     "name": "stderr",
     "output_type": "stream",
     "text": [
      "[Parallel(n_jobs=-1)]: Done  15 tasks      | elapsed: 66.4min\n"
     ]
    },
    {
     "name": "stdout",
     "output_type": "stream",
     "text": [
      "[CV]  max_features=9, n_estimators=1000, min_samples_leaf=50, score=-134.012944, total=51.5min\n",
      "[CV] max_features=9, n_estimators=1000, min_samples_leaf=50 ..........\n"
     ]
    },
    {
     "name": "stderr",
     "output_type": "stream",
     "text": [
      "[Parallel(n_jobs=-1)]: Done  16 tasks      | elapsed: 70.1min\n"
     ]
    },
    {
     "name": "stdout",
     "output_type": "stream",
     "text": [
      "[CV]  max_features=9, n_estimators=1000, min_samples_leaf=50, score=-112.463060, total=51.4min\n",
      "[CV] max_features=12, n_estimators=500, min_samples_leaf=50 ..........\n"
     ]
    },
    {
     "name": "stderr",
     "output_type": "stream",
     "text": [
      "[Parallel(n_jobs=-1)]: Done  17 tasks      | elapsed: 70.1min\n"
     ]
    },
    {
     "name": "stdout",
     "output_type": "stream",
     "text": [
      "[CV]  max_features=9, n_estimators=1000, min_samples_leaf=50, score=-220.104186, total=51.4min\n",
      "[CV] max_features=12, n_estimators=500, min_samples_leaf=50 ..........\n"
     ]
    },
    {
     "name": "stderr",
     "output_type": "stream",
     "text": [
      "[Parallel(n_jobs=-1)]: Done  18 tasks      | elapsed: 71.1min\n"
     ]
    },
    {
     "name": "stdout",
     "output_type": "stream",
     "text": [
      "[CV]  max_features=9, n_estimators=1000, min_samples_leaf=50, score=-92.128625, total= 5.8min\n",
      "[CV] max_features=12, n_estimators=500, min_samples_leaf=50 ..........\n"
     ]
    },
    {
     "name": "stderr",
     "output_type": "stream",
     "text": [
      "[Parallel(n_jobs=-1)]: Done  19 tasks      | elapsed: 72.4min\n"
     ]
    },
    {
     "name": "stdout",
     "output_type": "stream",
     "text": [
      "[CV]  max_features=12, n_estimators=500, min_samples_leaf=50, score=-128.388579, total= 3.5min\n",
      "[CV] max_features=12, n_estimators=500, min_samples_leaf=50 ..........\n"
     ]
    },
    {
     "name": "stderr",
     "output_type": "stream",
     "text": [
      "[Parallel(n_jobs=-1)]: Done  20 tasks      | elapsed: 73.8min\n"
     ]
    },
    {
     "name": "stdout",
     "output_type": "stream",
     "text": [
      "[CV]  max_features=12, n_estimators=500, min_samples_leaf=50, score=-113.446601, total= 3.5min\n",
      "[CV] max_features=12, n_estimators=500, min_samples_leaf=50 ..........\n"
     ]
    },
    {
     "name": "stderr",
     "output_type": "stream",
     "text": [
      "[Parallel(n_jobs=-1)]: Done  21 tasks      | elapsed: 74.7min\n"
     ]
    },
    {
     "name": "stdout",
     "output_type": "stream",
     "text": [
      "[CV]  max_features=9, n_estimators=1000, min_samples_leaf=50, score=-131.115660, total= 5.6min\n",
      "[CV] max_features=12, n_estimators=1000, min_samples_leaf=50 .........\n"
     ]
    },
    {
     "name": "stderr",
     "output_type": "stream",
     "text": [
      "[Parallel(n_jobs=-1)]: Done  22 tasks      | elapsed: 76.0min\n"
     ]
    },
    {
     "name": "stdout",
     "output_type": "stream",
     "text": [
      "[CV]  max_features=12, n_estimators=500, min_samples_leaf=50, score=-214.900433, total= 3.4min\n",
      "[CV] max_features=12, n_estimators=1000, min_samples_leaf=50 .........\n"
     ]
    },
    {
     "name": "stderr",
     "output_type": "stream",
     "text": [
      "[Parallel(n_jobs=-1)]: Done  23 tasks      | elapsed: 76.0min\n"
     ]
    },
    {
     "name": "stdout",
     "output_type": "stream",
     "text": [
      "[CV]  max_features=12, n_estimators=500, min_samples_leaf=50, score=-90.350147, total= 3.4min\n",
      "[CV] max_features=12, n_estimators=1000, min_samples_leaf=50 .........\n",
      "[CV]  max_features=12, n_estimators=500, min_samples_leaf=50, score=-130.351771, total= 3.5min\n",
      "[CV] max_features=12, n_estimators=1000, min_samples_leaf=50 .........\n"
     ]
    },
    {
     "name": "stderr",
     "output_type": "stream",
     "text": [
      "[Parallel(n_jobs=-1)]: Done  25 out of  30 | elapsed: 78.4min remaining: 15.7min\n"
     ]
    },
    {
     "name": "stdout",
     "output_type": "stream",
     "text": [
      "[CV]  max_features=12, n_estimators=1000, min_samples_leaf=50, score=-113.471876, total=17.6min\n",
      "[CV] max_features=12, n_estimators=1000, min_samples_leaf=50 .........\n",
      "[CV]  max_features=12, n_estimators=1000, min_samples_leaf=50, score=-128.270946, total=17.6min\n"
     ]
    },
    {
     "name": "stderr",
     "output_type": "stream",
     "text": [
      "[Parallel(n_jobs=-1)]: Done  27 out of  30 | elapsed: 94.0min remaining: 10.4min\n"
     ]
    },
    {
     "name": "stdout",
     "output_type": "stream",
     "text": [
      "[CV]  max_features=12, n_estimators=1000, min_samples_leaf=50, score=-214.393493, total=17.3min\n",
      "[CV]  max_features=12, n_estimators=1000, min_samples_leaf=50, score=-90.120433, total=17.0min\n",
      "[CV]  max_features=12, n_estimators=1000, min_samples_leaf=50, score=-130.172292, total= 3.8min\n"
     ]
    },
    {
     "name": "stderr",
     "output_type": "stream",
     "text": [
      "[Parallel(n_jobs=-1)]: Done  30 out of  30 | elapsed: 97.9min finished\n"
     ]
    },
    {
     "data": {
      "text/plain": [
       "GridSearchCV(cv=5, error_score='raise',\n",
       "       estimator=RandomForestRegressor(bootstrap=True, criterion='mse', max_depth=None,\n",
       "           max_features='auto', max_leaf_nodes=None,\n",
       "           min_impurity_split=1e-07, min_samples_leaf=1,\n",
       "           min_samples_split=2, min_weight_fraction_leaf=0.0,\n",
       "           n_estimators=10, n_jobs=1, oob_score=False, random_state=None,\n",
       "           verbose=0, warm_start=False),\n",
       "       fit_params={}, iid=True, n_jobs=-1,\n",
       "       param_grid={'n_estimators': [500, 1000], 'max_features': [0.2, 9, 12], 'min_samples_leaf': [50]},\n",
       "       pre_dispatch='2*n_jobs', refit=True, return_train_score=True,\n",
       "       scoring='neg_mean_squared_error', verbose=20)"
      ]
     },
     "execution_count": 583,
     "metadata": {},
     "output_type": "execute_result"
    }
   ],
   "source": [
    "from sklearn.ensemble import RandomForestRegressor\n",
    "from sklearn.model_selection import GridSearchCV\n",
    "rfr = RandomForestRegressor()\n",
    "param_grid = {'n_estimators': [500,1000], 'max_features': [0.2, 9, 12], 'min_samples_leaf':[50]}\n",
    "cadence_model_randomForestRegressor = GridSearchCV(estimator=rfr, param_grid=param_grid, \n",
    "                                                   n_jobs=-1, cv=5, verbose=20, scoring=\"neg_mean_squared_error\")\n",
    "cadence_model_randomForestRegressor.fit(cadence_X_train,cadence_y)"
   ]
  },
  {
   "cell_type": "code",
   "execution_count": 584,
   "metadata": {
    "collapsed": false
   },
   "outputs": [
    {
     "data": {
      "text/plain": [
       "RandomForestRegressor(bootstrap=True, criterion='mse', max_depth=None,\n",
       "           max_features=0.2, max_leaf_nodes=None, min_impurity_split=1e-07,\n",
       "           min_samples_leaf=50, min_samples_split=2,\n",
       "           min_weight_fraction_leaf=0.0, n_estimators=1000, n_jobs=1,\n",
       "           oob_score=False, random_state=None, verbose=0, warm_start=False)"
      ]
     },
     "execution_count": 584,
     "metadata": {},
     "output_type": "execute_result"
    }
   ],
   "source": [
    "cadence_model_randomForestRegressor.best_estimator_"
   ]
  },
  {
   "cell_type": "code",
   "execution_count": 585,
   "metadata": {
    "collapsed": false
   },
   "outputs": [
    {
     "data": {
      "text/plain": [
       "-134.24583833621844"
      ]
     },
     "execution_count": 585,
     "metadata": {},
     "output_type": "execute_result"
    }
   ],
   "source": [
    "cadence_model_randomForestRegressor.best_score_"
   ]
  },
  {
   "cell_type": "code",
   "execution_count": 586,
   "metadata": {
    "collapsed": false
   },
   "outputs": [
    {
     "data": {
      "text/plain": [
       "{'max_features': 0.2, 'min_samples_leaf': 50, 'n_estimators': 1000}"
      ]
     },
     "execution_count": 586,
     "metadata": {},
     "output_type": "execute_result"
    }
   ],
   "source": [
    "cadence_model_randomForestRegressor.best_params_"
   ]
  },
  {
   "cell_type": "markdown",
   "metadata": {},
   "source": [
    "## Cadence: Adding an xgboost model:"
   ]
  },
  {
   "cell_type": "code",
   "execution_count": 555,
   "metadata": {
    "collapsed": false
   },
   "outputs": [
    {
     "name": "stderr",
     "output_type": "stream",
     "text": [
      "/Users/bujiexu/anaconda/lib/python2.7/site-packages/sklearn/cross_validation.py:44: DeprecationWarning: This module was deprecated in version 0.18 in favor of the model_selection module into which all the refactored classes and functions are moved. Also note that the interface of the new CV iterators are different from that of this module. This module will be removed in 0.20.\n",
      "  \"This module will be removed in 0.20.\", DeprecationWarning)\n"
     ]
    }
   ],
   "source": [
    "import xgboost as xgboost"
   ]
  },
  {
   "cell_type": "code",
   "execution_count": null,
   "metadata": {
    "collapsed": true
   },
   "outputs": [],
   "source": []
  },
  {
   "cell_type": "markdown",
   "metadata": {},
   "source": [
    "### Ridge"
   ]
  },
  {
   "cell_type": "code",
   "execution_count": 409,
   "metadata": {
    "collapsed": true
   },
   "outputs": [],
   "source": [
    "# model_ridge = Ridge()\n",
    "# # alphas = [1e-10, 1e-8, 1e-4, 1e-3, 1e-2, 1, 5, 10, 20, 50, 75]\n",
    "# cv_ridge = [rmse_cv(Ridge(alpha = alpha)).mean() \n",
    "#             for alpha in alphas]"
   ]
  },
  {
   "cell_type": "code",
   "execution_count": 543,
   "metadata": {
    "collapsed": false
   },
   "outputs": [],
   "source": [
    "# cv_ridge = pd.Series(cv_ridge, index = alphas)\n",
    "# cv_ridge.plot(title = \"Validation - Just Do It\")\n",
    "# plt.xlabel(\"alpha\")\n",
    "# plt.ylabel(\"rmse\")"
   ]
  },
  {
   "cell_type": "code",
   "execution_count": 545,
   "metadata": {
    "collapsed": false
   },
   "outputs": [],
   "source": [
    "# cv_ridge.min()"
   ]
  },
  {
   "cell_type": "code",
   "execution_count": 413,
   "metadata": {
    "collapsed": false
   },
   "outputs": [],
   "source": [
    "# model_ridge = RidgeCV(alphas=[1e-8, 1e-4, 1e-3, 1e-2, 1, 5, 10, 20, 50, 75], normalize=True).fit(X_train,y)"
   ]
  },
  {
   "cell_type": "code",
   "execution_count": 544,
   "metadata": {
    "collapsed": false
   },
   "outputs": [],
   "source": [
    "# rmse_cv(mode_ridge).mean()"
   ]
  },
  {
   "cell_type": "code",
   "execution_count": 546,
   "metadata": {
    "collapsed": false
   },
   "outputs": [],
   "source": [
    "# # validation curve\n",
    "# title = \"Validation Curve (Ridge)\"\n",
    "# cv = 5 \n",
    "# plot_validation_curve(Ridge(), title, X_train, y, cv = 5, n_jobs= 4,\n",
    "#                       param_range=[1e-8, 1e-4, 1e-3, 1e-2, 1, 5, 10, 20, 50, 75])"
   ]
  },
  {
   "cell_type": "code",
   "execution_count": 547,
   "metadata": {
    "collapsed": false
   },
   "outputs": [],
   "source": [
    "# learning curve\n",
    "# title = \"Learning Curve (Ridge)\"\n",
    "# cv = ShuffleSplit(n_splits=10, test_size = 0.2, random_state=0)\n",
    "# plot_learning_curve(model_lasso,title, X_train,y, cv = cv, n_jobs=4)"
   ]
  },
  {
   "cell_type": "code",
   "execution_count": 548,
   "metadata": {
    "collapsed": false
   },
   "outputs": [],
   "source": [
    "# coef = pd.Series(model_ridge.coef_, index=columns)\n",
    "# coef"
   ]
  },
  {
   "cell_type": "markdown",
   "metadata": {},
   "source": [
    "\n",
    "### Lasso\n",
    "Let's try out the Lasso model"
   ]
  },
  {
   "cell_type": "code",
   "execution_count": 380,
   "metadata": {
    "collapsed": false
   },
   "outputs": [],
   "source": [
    "# model_lasso = LassoCV(alphas=[10,5, 1, 0.1, 0.001, 0.0005],normalize=True).fit(X_train, y)"
   ]
  },
  {
   "cell_type": "code",
   "execution_count": 549,
   "metadata": {
    "collapsed": false
   },
   "outputs": [],
   "source": [
    "# rmse_cv(model_lasso).mean()"
   ]
  },
  {
   "cell_type": "code",
   "execution_count": 550,
   "metadata": {
    "collapsed": false
   },
   "outputs": [],
   "source": [
    "# coef = pd.Series(model_lasso.coef_, index=columns)"
   ]
  },
  {
   "cell_type": "code",
   "execution_count": 551,
   "metadata": {
    "collapsed": false
   },
   "outputs": [],
   "source": [
    "# print(\"Lasso picked \" + str(sum(coef !=0)) + \" variables and eliminated the other \" + \n",
    "# str(sum(coef == 0)) + \" variables\")"
   ]
  },
  {
   "cell_type": "code",
   "execution_count": 552,
   "metadata": {
    "collapsed": false
   },
   "outputs": [],
   "source": [
    "# coef"
   ]
  },
  {
   "cell_type": "code",
   "execution_count": 553,
   "metadata": {
    "collapsed": false
   },
   "outputs": [],
   "source": [
    "# # take a look directly at what the most important coefficients are:\n",
    "# imp_coef = pd.concat([coef.sort_values().head(8),coef.sort_values().tail(8)])\n",
    "# matplotlib.rcParams['figure.figsize'] = (8.0, 10.0)\n",
    "# imp_coef.plot(kind = \"barh\")\n",
    "# plt.title(\"Coefficients in the Lasso Model\")"
   ]
  },
  {
   "cell_type": "code",
   "execution_count": 554,
   "metadata": {
    "collapsed": false
   },
   "outputs": [],
   "source": [
    "# # look residuals \n",
    "# matplotlib.rcParams['figure.figsize'] = (6.0, 6.0)\n",
    "# preds = pd.DataFrame({\"preds\":model.predict(X_train), \"true\":y})\n",
    "# preds[\"residuals\"] = preds[\"true\"] - preds[\"preds\"]\n",
    "# preds.plot(x = \"preds\", y = \"true\", kind = \"scatter\")\n",
    "# # preds.plot(x = \"preds\", y = \"residuals\", kind = \"scatter\")"
   ]
  },
  {
   "cell_type": "markdown",
   "metadata": {},
   "source": [
    "### Predict (Cadence)"
   ]
  },
  {
   "cell_type": "code",
   "execution_count": 487,
   "metadata": {
    "collapsed": false
   },
   "outputs": [
    {
     "data": {
      "text/plain": [
       "array([[ 0.43695652,  0.57674051,  0.0031211 , ...,  0.        ,\n",
       "         0.        ,  0.18672426],\n",
       "       [ 0.36956522,  0.60601266,  0.00202475, ...,  0.        ,\n",
       "         0.        ,  0.57132757],\n",
       "       [ 0.36521739,  0.60917722,  0.00692547, ...,  0.        ,\n",
       "         0.        ,  0.17074478],\n",
       "       ..., \n",
       "       [ 0.35652174,  0.58781646,  0.00473989, ...,  0.        ,\n",
       "         0.        ,  0.21959634],\n",
       "       [ 0.37173913,  0.56447785,  0.00751158, ...,  0.        ,\n",
       "         0.        ,  0.15131518],\n",
       "       [ 0.45434783,  0.59493671,  0.00420828, ...,  0.        ,\n",
       "         0.        ,  0.17371835]])"
      ]
     },
     "execution_count": 487,
     "metadata": {},
     "output_type": "execute_result"
    }
   ],
   "source": [
    "X_test"
   ]
  },
  {
   "cell_type": "code",
   "execution_count": 588,
   "metadata": {
    "collapsed": false
   },
   "outputs": [
    {
     "data": {
      "text/html": [
       "<div>\n",
       "<table border=\"1\" class=\"dataframe\">\n",
       "  <thead>\n",
       "    <tr style=\"text-align: right;\">\n",
       "      <th></th>\n",
       "      <th>Id</th>\n",
       "      <th>Cadence</th>\n",
       "    </tr>\n",
       "  </thead>\n",
       "  <tbody>\n",
       "    <tr>\n",
       "      <th>30000</th>\n",
       "      <td>30001.0</td>\n",
       "      <td>73.165053</td>\n",
       "    </tr>\n",
       "    <tr>\n",
       "      <th>30001</th>\n",
       "      <td>30002.0</td>\n",
       "      <td>96.268277</td>\n",
       "    </tr>\n",
       "    <tr>\n",
       "      <th>30002</th>\n",
       "      <td>30003.0</td>\n",
       "      <td>91.290159</td>\n",
       "    </tr>\n",
       "    <tr>\n",
       "      <th>30003</th>\n",
       "      <td>30004.0</td>\n",
       "      <td>88.206047</td>\n",
       "    </tr>\n",
       "    <tr>\n",
       "      <th>30004</th>\n",
       "      <td>30005.0</td>\n",
       "      <td>69.468570</td>\n",
       "    </tr>\n",
       "  </tbody>\n",
       "</table>\n",
       "</div>"
      ],
      "text/plain": [
       "            Id    Cadence\n",
       "30000  30001.0  73.165053\n",
       "30001  30002.0  96.268277\n",
       "30002  30003.0  91.290159\n",
       "30003  30004.0  88.206047\n",
       "30004  30005.0  69.468570"
      ]
     },
     "execution_count": 588,
     "metadata": {},
     "output_type": "execute_result"
    }
   ],
   "source": [
    "cadence_test.Cadence = cadence_model_randomForestRegressor.predict(cadence_X_test)\n",
    "cadence_result = cadence_test[['Id','Cadence']]\n",
    "cadence_result.head()"
   ]
  },
  {
   "cell_type": "code",
   "execution_count": 492,
   "metadata": {
    "collapsed": true
   },
   "outputs": [],
   "source": [
    "cadence_result.to_csv(path_or_buf=\"../data/cadence_result(randomforest).csv\", index=False, sep= ';')"
   ]
  },
  {
   "cell_type": "markdown",
   "metadata": {},
   "source": [
    "# Part3: Power: Data Preprocessing"
   ]
  },
  {
   "cell_type": "code",
   "execution_count": 563,
   "metadata": {
    "collapsed": true
   },
   "outputs": [],
   "source": [
    "power = cadence"
   ]
  },
  {
   "cell_type": "code",
   "execution_count": 564,
   "metadata": {
    "collapsed": false
   },
   "outputs": [
    {
     "data": {
      "text/html": [
       "<div>\n",
       "<table border=\"1\" class=\"dataframe\">\n",
       "  <thead>\n",
       "    <tr style=\"text-align: right;\">\n",
       "      <th></th>\n",
       "      <th>Average_Gradient</th>\n",
       "      <th>Average_heart_rate</th>\n",
       "      <th>Cadence</th>\n",
       "      <th>Distance</th>\n",
       "      <th>Highest_point</th>\n",
       "      <th>Id</th>\n",
       "      <th>Lowest_point</th>\n",
       "      <th>Max_Gradient</th>\n",
       "      <th>Max_heart_rate</th>\n",
       "      <th>Measured_time</th>\n",
       "      <th>...</th>\n",
       "      <th>Hour_15</th>\n",
       "      <th>Hour_16</th>\n",
       "      <th>Hour_17</th>\n",
       "      <th>Hour_18</th>\n",
       "      <th>Hour_19</th>\n",
       "      <th>Hour_20</th>\n",
       "      <th>Hour_21</th>\n",
       "      <th>Hour_22</th>\n",
       "      <th>Hour_23</th>\n",
       "      <th>1/Measured_time</th>\n",
       "    </tr>\n",
       "  </thead>\n",
       "  <tbody>\n",
       "    <tr>\n",
       "      <th>0</th>\n",
       "      <td>0.0</td>\n",
       "      <td>105.8</td>\n",
       "      <td>85.3</td>\n",
       "      <td>9980.400</td>\n",
       "      <td>128.4</td>\n",
       "      <td>NaN</td>\n",
       "      <td>124.6</td>\n",
       "      <td>5.0</td>\n",
       "      <td>114</td>\n",
       "      <td>1375</td>\n",
       "      <td>...</td>\n",
       "      <td>0</td>\n",
       "      <td>0</td>\n",
       "      <td>0</td>\n",
       "      <td>0</td>\n",
       "      <td>0</td>\n",
       "      <td>0</td>\n",
       "      <td>0</td>\n",
       "      <td>0</td>\n",
       "      <td>0</td>\n",
       "      <td>0.000727</td>\n",
       "    </tr>\n",
       "    <tr>\n",
       "      <th>1</th>\n",
       "      <td>3.3</td>\n",
       "      <td>157.5</td>\n",
       "      <td>88.3</td>\n",
       "      <td>1666.010</td>\n",
       "      <td>204.6</td>\n",
       "      <td>NaN</td>\n",
       "      <td>147.9</td>\n",
       "      <td>16.0</td>\n",
       "      <td>170</td>\n",
       "      <td>252</td>\n",
       "      <td>...</td>\n",
       "      <td>0</td>\n",
       "      <td>0</td>\n",
       "      <td>0</td>\n",
       "      <td>0</td>\n",
       "      <td>0</td>\n",
       "      <td>0</td>\n",
       "      <td>0</td>\n",
       "      <td>0</td>\n",
       "      <td>0</td>\n",
       "      <td>0.003968</td>\n",
       "    </tr>\n",
       "    <tr>\n",
       "      <th>2</th>\n",
       "      <td>0.0</td>\n",
       "      <td>158.9</td>\n",
       "      <td>103.4</td>\n",
       "      <td>345.600</td>\n",
       "      <td>59.0</td>\n",
       "      <td>NaN</td>\n",
       "      <td>59.0</td>\n",
       "      <td>0.0</td>\n",
       "      <td>160</td>\n",
       "      <td>36</td>\n",
       "      <td>...</td>\n",
       "      <td>0</td>\n",
       "      <td>0</td>\n",
       "      <td>0</td>\n",
       "      <td>0</td>\n",
       "      <td>0</td>\n",
       "      <td>0</td>\n",
       "      <td>0</td>\n",
       "      <td>0</td>\n",
       "      <td>0</td>\n",
       "      <td>0.027778</td>\n",
       "    </tr>\n",
       "    <tr>\n",
       "      <th>3</th>\n",
       "      <td>-8.3</td>\n",
       "      <td>99.1</td>\n",
       "      <td>66.4</td>\n",
       "      <td>1572.900</td>\n",
       "      <td>617.8</td>\n",
       "      <td>NaN</td>\n",
       "      <td>487.2</td>\n",
       "      <td>-0.5</td>\n",
       "      <td>104</td>\n",
       "      <td>123</td>\n",
       "      <td>...</td>\n",
       "      <td>0</td>\n",
       "      <td>0</td>\n",
       "      <td>0</td>\n",
       "      <td>0</td>\n",
       "      <td>0</td>\n",
       "      <td>0</td>\n",
       "      <td>0</td>\n",
       "      <td>0</td>\n",
       "      <td>0</td>\n",
       "      <td>0.008130</td>\n",
       "    </tr>\n",
       "    <tr>\n",
       "      <th>4</th>\n",
       "      <td>-7.6</td>\n",
       "      <td>100.3</td>\n",
       "      <td>60.3</td>\n",
       "      <td>435.352</td>\n",
       "      <td>54.4</td>\n",
       "      <td>NaN</td>\n",
       "      <td>21.4</td>\n",
       "      <td>-4.8</td>\n",
       "      <td>111</td>\n",
       "      <td>59</td>\n",
       "      <td>...</td>\n",
       "      <td>0</td>\n",
       "      <td>0</td>\n",
       "      <td>0</td>\n",
       "      <td>0</td>\n",
       "      <td>0</td>\n",
       "      <td>0</td>\n",
       "      <td>0</td>\n",
       "      <td>0</td>\n",
       "      <td>0</td>\n",
       "      <td>0.016949</td>\n",
       "    </tr>\n",
       "  </tbody>\n",
       "</table>\n",
       "<p>5 rows × 74 columns</p>\n",
       "</div>"
      ],
      "text/plain": [
       "   Average_Gradient  Average_heart_rate  Cadence  Distance  Highest_point  Id  \\\n",
       "0               0.0               105.8     85.3  9980.400          128.4 NaN   \n",
       "1               3.3               157.5     88.3  1666.010          204.6 NaN   \n",
       "2               0.0               158.9    103.4   345.600           59.0 NaN   \n",
       "3              -8.3                99.1     66.4  1572.900          617.8 NaN   \n",
       "4              -7.6               100.3     60.3   435.352           54.4 NaN   \n",
       "\n",
       "   Lowest_point  Max_Gradient  Max_heart_rate  Measured_time       ...         \\\n",
       "0         124.6           5.0             114           1375       ...          \n",
       "1         147.9          16.0             170            252       ...          \n",
       "2          59.0           0.0             160             36       ...          \n",
       "3         487.2          -0.5             104            123       ...          \n",
       "4          21.4          -4.8             111             59       ...          \n",
       "\n",
       "   Hour_15  Hour_16  Hour_17  Hour_18  Hour_19  Hour_20  Hour_21  Hour_22  \\\n",
       "0        0        0        0        0        0        0        0        0   \n",
       "1        0        0        0        0        0        0        0        0   \n",
       "2        0        0        0        0        0        0        0        0   \n",
       "3        0        0        0        0        0        0        0        0   \n",
       "4        0        0        0        0        0        0        0        0   \n",
       "\n",
       "   Hour_23  1/Measured_time  \n",
       "0        0         0.000727  \n",
       "1        0         0.003968  \n",
       "2        0         0.027778  \n",
       "3        0         0.008130  \n",
       "4        0         0.016949  \n",
       "\n",
       "[5 rows x 74 columns]"
      ]
     },
     "execution_count": 564,
     "metadata": {},
     "output_type": "execute_result"
    }
   ],
   "source": [
    "power.head()"
   ]
  },
  {
   "cell_type": "code",
   "execution_count": 565,
   "metadata": {
    "collapsed": false
   },
   "outputs": [],
   "source": [
    "power_train = power.dropna(subset=['Cadence','Power'],how = 'any')\n",
    "power_test = power.loc[cadence['Power'].isnull()]"
   ]
  },
  {
   "cell_type": "code",
   "execution_count": 566,
   "metadata": {
    "collapsed": true
   },
   "outputs": [],
   "source": [
    "dropList = ['Power','Id']\n",
    "power_X_train, power_y = power_train.drop(dropList, axis=1), power_train['Power']\n",
    "columns = power_X_train.columns\n",
    "power_X_test = power_test.drop(dropList, axis=1)"
   ]
  },
  {
   "cell_type": "code",
   "execution_count": 561,
   "metadata": {
    "collapsed": false
   },
   "outputs": [],
   "source": [
    "# from sklearn.preprocessing import MinMaxScaler\n",
    "# min_max = MinMaxScaler()\n",
    "# X_train = min_max.fit_transform(X_train)\n",
    "# X_test = min_max.transform(X_test)"
   ]
  },
  {
   "cell_type": "code",
   "execution_count": 562,
   "metadata": {
    "collapsed": false
   },
   "outputs": [
    {
     "data": {
      "text/plain": [
       "(120000, 72)"
      ]
     },
     "execution_count": 562,
     "metadata": {},
     "output_type": "execute_result"
    }
   ],
   "source": [
    "power_X_train.shape"
   ]
  },
  {
   "cell_type": "markdown",
   "metadata": {},
   "source": [
    "## Power: Models"
   ]
  },
  {
   "cell_type": "markdown",
   "metadata": {},
   "source": [
    "## Power: RandomForestRegressor"
   ]
  },
  {
   "cell_type": "code",
   "execution_count": 567,
   "metadata": {
    "collapsed": false
   },
   "outputs": [
    {
     "name": "stdout",
     "output_type": "stream",
     "text": [
      "Fitting 5 folds for each of 6 candidates, totalling 30 fits\n",
      "[CV] max_features=0.2, n_estimators=500 ..............................\n",
      "[CV] max_features=0.2, n_estimators=500 ..............................\n",
      "[CV] max_features=0.2, n_estimators=500 ..............................\n",
      "[CV] max_features=0.2, n_estimators=500 ..............................\n",
      "[CV]  max_features=0.2, n_estimators=500, score=-1942.240303, total= 6.6min\n"
     ]
    },
    {
     "name": "stderr",
     "output_type": "stream",
     "text": [
      "[Parallel(n_jobs=4)]: Done   1 tasks      | elapsed:  7.6min\n"
     ]
    },
    {
     "name": "stdout",
     "output_type": "stream",
     "text": [
      "[CV] max_features=0.2, n_estimators=500 ..............................\n",
      "[CV]  max_features=0.2, n_estimators=500, score=-2583.795866, total= 6.7min\n"
     ]
    },
    {
     "name": "stderr",
     "output_type": "stream",
     "text": [
      "[Parallel(n_jobs=4)]: Done   2 tasks      | elapsed:  7.7min\n"
     ]
    },
    {
     "name": "stdout",
     "output_type": "stream",
     "text": [
      "[CV] max_features=0.2, n_estimators=1000 .............................\n",
      "[CV]  max_features=0.2, n_estimators=500, score=-2266.025260, total= 6.7min\n"
     ]
    },
    {
     "name": "stderr",
     "output_type": "stream",
     "text": [
      "[Parallel(n_jobs=4)]: Done   3 tasks      | elapsed:  7.7min\n"
     ]
    },
    {
     "name": "stdout",
     "output_type": "stream",
     "text": [
      "[CV] max_features=0.2, n_estimators=1000 .............................\n",
      "[CV]  max_features=0.2, n_estimators=500, score=-3227.246768, total= 7.1min\n"
     ]
    },
    {
     "name": "stderr",
     "output_type": "stream",
     "text": [
      "[Parallel(n_jobs=4)]: Done   4 tasks      | elapsed:  8.0min\n"
     ]
    },
    {
     "name": "stdout",
     "output_type": "stream",
     "text": [
      "[CV] max_features=0.2, n_estimators=1000 .............................\n",
      "[CV]  max_features=0.2, n_estimators=500, score=-2147.185858, total=77.2min\n"
     ]
    },
    {
     "name": "stderr",
     "output_type": "stream",
     "text": [
      "[Parallel(n_jobs=4)]: Done   5 tasks      | elapsed: 85.4min\n"
     ]
    },
    {
     "name": "stdout",
     "output_type": "stream",
     "text": [
      "[CV] max_features=0.2, n_estimators=1000 .............................\n",
      "[CV]  max_features=0.2, n_estimators=1000, score=-1937.219476, total=84.1min\n"
     ]
    },
    {
     "name": "stderr",
     "output_type": "stream",
     "text": [
      "[Parallel(n_jobs=4)]: Done   6 tasks      | elapsed: 95.1min\n"
     ]
    },
    {
     "name": "stdout",
     "output_type": "stream",
     "text": [
      "[CV] max_features=0.2, n_estimators=1000 .............................\n",
      "[CV]  max_features=0.2, n_estimators=1000, score=-2577.241003, total=84.7min\n"
     ]
    },
    {
     "name": "stderr",
     "output_type": "stream",
     "text": [
      "[Parallel(n_jobs=4)]: Done   7 tasks      | elapsed: 95.9min\n"
     ]
    },
    {
     "name": "stdout",
     "output_type": "stream",
     "text": [
      "[CV] max_features=9, n_estimators=500 ................................\n",
      "[CV]  max_features=0.2, n_estimators=1000, score=-3238.250975, total=85.4min\n"
     ]
    },
    {
     "name": "stderr",
     "output_type": "stream",
     "text": [
      "[Parallel(n_jobs=4)]: Done   8 tasks      | elapsed: 96.7min\n"
     ]
    },
    {
     "name": "stdout",
     "output_type": "stream",
     "text": [
      "[CV] max_features=9, n_estimators=500 ................................\n",
      "[CV]  max_features=9, n_estimators=500, score=-2008.969261, total= 6.0min\n"
     ]
    },
    {
     "name": "stderr",
     "output_type": "stream",
     "text": [
      "[Parallel(n_jobs=4)]: Done   9 tasks      | elapsed: 103.0min\n"
     ]
    },
    {
     "name": "stdout",
     "output_type": "stream",
     "text": [
      "[CV] max_features=9, n_estimators=500 ................................\n",
      "[CV]  max_features=0.2, n_estimators=1000, score=-2262.455583, total=15.9min\n"
     ]
    },
    {
     "name": "stderr",
     "output_type": "stream",
     "text": [
      "[Parallel(n_jobs=4)]: Done  10 tasks      | elapsed: 103.4min\n"
     ]
    },
    {
     "name": "stdout",
     "output_type": "stream",
     "text": [
      "[CV] max_features=9, n_estimators=500 ................................\n",
      "[CV]  max_features=9, n_estimators=500, score=-3388.631239, total= 5.9min\n"
     ]
    },
    {
     "name": "stderr",
     "output_type": "stream",
     "text": [
      "[Parallel(n_jobs=4)]: Done  11 tasks      | elapsed: 103.6min\n"
     ]
    },
    {
     "name": "stdout",
     "output_type": "stream",
     "text": [
      "[CV] max_features=9, n_estimators=500 ................................\n",
      "[CV]  max_features=9, n_estimators=500, score=-2689.753793, total= 5.0min\n"
     ]
    },
    {
     "name": "stderr",
     "output_type": "stream",
     "text": [
      "[Parallel(n_jobs=4)]: Done  12 tasks      | elapsed: 108.7min\n"
     ]
    },
    {
     "name": "stdout",
     "output_type": "stream",
     "text": [
      "[CV] max_features=9, n_estimators=1000 ...............................\n",
      "[CV]  max_features=9, n_estimators=500, score=-2315.947914, total= 5.1min\n"
     ]
    },
    {
     "name": "stderr",
     "output_type": "stream",
     "text": [
      "[Parallel(n_jobs=4)]: Done  13 tasks      | elapsed: 109.1min\n"
     ]
    },
    {
     "name": "stdout",
     "output_type": "stream",
     "text": [
      "[CV] max_features=9, n_estimators=1000 ...............................\n",
      "[CV]  max_features=9, n_estimators=500, score=-2221.531676, total= 5.1min\n"
     ]
    },
    {
     "name": "stderr",
     "output_type": "stream",
     "text": [
      "[Parallel(n_jobs=4)]: Done  14 tasks      | elapsed: 109.2min\n"
     ]
    },
    {
     "name": "stdout",
     "output_type": "stream",
     "text": [
      "[CV] max_features=9, n_estimators=1000 ...............................\n",
      "[CV]  max_features=0.2, n_estimators=1000, score=-2138.286188, total=15.6min\n"
     ]
    },
    {
     "name": "stderr",
     "output_type": "stream",
     "text": [
      "[Parallel(n_jobs=4)]: Done  15 tasks      | elapsed: 111.7min\n"
     ]
    },
    {
     "name": "stdout",
     "output_type": "stream",
     "text": [
      "[CV] max_features=9, n_estimators=1000 ...............................\n",
      "[CV]  max_features=9, n_estimators=1000, score=-2007.268792, total=10.6min\n"
     ]
    },
    {
     "name": "stderr",
     "output_type": "stream",
     "text": [
      "[Parallel(n_jobs=4)]: Done  16 tasks      | elapsed: 122.6min\n"
     ]
    },
    {
     "name": "stdout",
     "output_type": "stream",
     "text": [
      "[CV] max_features=9, n_estimators=1000 ...............................\n",
      "[CV]  max_features=9, n_estimators=1000, score=-2687.044098, total=11.3min\n"
     ]
    },
    {
     "name": "stderr",
     "output_type": "stream",
     "text": [
      "[Parallel(n_jobs=4)]: Done  17 tasks      | elapsed: 123.9min\n"
     ]
    },
    {
     "name": "stdout",
     "output_type": "stream",
     "text": [
      "[CV] max_features=12, n_estimators=500 ...............................\n",
      "[CV]  max_features=9, n_estimators=1000, score=-3379.005170, total=11.7min\n"
     ]
    },
    {
     "name": "stderr",
     "output_type": "stream",
     "text": [
      "[Parallel(n_jobs=4)]: Done  18 tasks      | elapsed: 124.2min\n"
     ]
    },
    {
     "name": "stdout",
     "output_type": "stream",
     "text": [
      "[CV] max_features=12, n_estimators=500 ...............................\n",
      "[CV]  max_features=9, n_estimators=1000, score=-2316.783829, total=12.5min\n"
     ]
    },
    {
     "name": "stderr",
     "output_type": "stream",
     "text": [
      "[Parallel(n_jobs=4)]: Done  19 tasks      | elapsed: 125.7min\n"
     ]
    },
    {
     "name": "stdout",
     "output_type": "stream",
     "text": [
      "[CV] max_features=12, n_estimators=500 ...............................\n",
      "[CV]  max_features=12, n_estimators=500, score=-1962.710125, total= 6.0min\n"
     ]
    },
    {
     "name": "stderr",
     "output_type": "stream",
     "text": [
      "[Parallel(n_jobs=4)]: Done  20 tasks      | elapsed: 130.7min\n"
     ]
    },
    {
     "name": "stdout",
     "output_type": "stream",
     "text": [
      "[CV] max_features=12, n_estimators=500 ...............................\n",
      "[CV]  max_features=12, n_estimators=500, score=-3278.031296, total= 6.3min\n"
     ]
    },
    {
     "name": "stderr",
     "output_type": "stream",
     "text": [
      "[Parallel(n_jobs=4)]: Done  21 tasks      | elapsed: 131.2min\n"
     ]
    },
    {
     "name": "stdout",
     "output_type": "stream",
     "text": [
      "[CV] max_features=12, n_estimators=500 ...............................\n",
      "[CV]  max_features=12, n_estimators=500, score=-2607.099277, total= 6.2min\n"
     ]
    },
    {
     "name": "stderr",
     "output_type": "stream",
     "text": [
      "[Parallel(n_jobs=4)]: Done  22 tasks      | elapsed: 132.5min\n"
     ]
    },
    {
     "name": "stdout",
     "output_type": "stream",
     "text": [
      "[CV] max_features=12, n_estimators=1000 ..............................\n",
      "[CV]  max_features=9, n_estimators=1000, score=-2224.598556, total=10.6min\n"
     ]
    },
    {
     "name": "stderr",
     "output_type": "stream",
     "text": [
      "[Parallel(n_jobs=4)]: Done  23 tasks      | elapsed: 134.2min\n"
     ]
    },
    {
     "name": "stdout",
     "output_type": "stream",
     "text": [
      "[CV] max_features=12, n_estimators=1000 ..............................\n",
      "[CV]  max_features=12, n_estimators=500, score=-2276.843581, total= 5.7min\n",
      "[CV] max_features=12, n_estimators=1000 ..............................\n",
      "[CV]  max_features=12, n_estimators=500, score=-2170.550547, total= 5.8min\n"
     ]
    },
    {
     "name": "stderr",
     "output_type": "stream",
     "text": [
      "[Parallel(n_jobs=4)]: Done  25 out of  30 | elapsed: 137.5min remaining: 27.5min\n"
     ]
    },
    {
     "name": "stdout",
     "output_type": "stream",
     "text": [
      "[CV] max_features=12, n_estimators=1000 ..............................\n",
      "[CV]  max_features=12, n_estimators=1000, score=-1952.551499, total=11.8min\n",
      "[CV] max_features=12, n_estimators=1000 ..............................\n",
      "[CV]  max_features=12, n_estimators=1000, score=-3274.335706, total=16.1min\n"
     ]
    },
    {
     "name": "stderr",
     "output_type": "stream",
     "text": [
      "[Parallel(n_jobs=4)]: Done  27 out of  30 | elapsed: 152.0min remaining: 16.9min\n"
     ]
    },
    {
     "name": "stdout",
     "output_type": "stream",
     "text": [
      "[CV]  max_features=12, n_estimators=1000, score=-2608.122988, total=16.2min\n",
      "[CV]  max_features=12, n_estimators=1000, score=-2276.296852, total=16.1min\n",
      "[CV]  max_features=12, n_estimators=1000, score=-2162.756212, total=12.8min\n"
     ]
    },
    {
     "name": "stderr",
     "output_type": "stream",
     "text": [
      "[Parallel(n_jobs=4)]: Done  30 out of  30 | elapsed: 159.4min finished\n"
     ]
    },
    {
     "data": {
      "text/plain": [
       "GridSearchCV(cv=5, error_score='raise',\n",
       "       estimator=RandomForestRegressor(bootstrap=True, criterion='mse', max_depth=None,\n",
       "           max_features='auto', max_leaf_nodes=None,\n",
       "           min_impurity_split=1e-07, min_samples_leaf=1,\n",
       "           min_samples_split=2, min_weight_fraction_leaf=0.0,\n",
       "           n_estimators=10, n_jobs=1, oob_score=False, random_state=None,\n",
       "           verbose=0, warm_start=False),\n",
       "       fit_params={}, iid=True, n_jobs=4,\n",
       "       param_grid={'n_estimators': [500, 1000], 'max_features': [0.2, 9, 12]},\n",
       "       pre_dispatch='2*n_jobs', refit=True, return_train_score=True,\n",
       "       scoring='neg_mean_squared_error', verbose=20)"
      ]
     },
     "execution_count": 567,
     "metadata": {},
     "output_type": "execute_result"
    }
   ],
   "source": [
    "from sklearn.ensemble import RandomForestRegressor\n",
    "from sklearn.model_selection import GridSearchCV\n",
    "rfr = RandomForestRegressor()\n",
    "param_grid = {'n_estimators': [500,1000], 'max_features': [0.2, 9, 12]}\n",
    "model_randomForest = GridSearchCV(estimator=rfr, param_grid=param_grid, n_jobs=4, cv=5, verbose=20, scoring=\"neg_mean_squared_error\")\n",
    "model_randomForest.fit(power_X_train, power_y)"
   ]
  },
  {
   "cell_type": "code",
   "execution_count": 568,
   "metadata": {
    "collapsed": false
   },
   "outputs": [
    {
     "data": {
      "text/plain": [
       "RandomForestRegressor(bootstrap=True, criterion='mse', max_depth=None,\n",
       "           max_features=0.2, max_leaf_nodes=None, min_impurity_split=1e-07,\n",
       "           min_samples_leaf=1, min_samples_split=2,\n",
       "           min_weight_fraction_leaf=0.0, n_estimators=1000, n_jobs=1,\n",
       "           oob_score=False, random_state=None, verbose=0, warm_start=False)"
      ]
     },
     "execution_count": 568,
     "metadata": {},
     "output_type": "execute_result"
    }
   ],
   "source": [
    "model_randomForest.best_estimator_"
   ]
  },
  {
   "cell_type": "code",
   "execution_count": 569,
   "metadata": {
    "collapsed": false
   },
   "outputs": [
    {
     "data": {
      "text/plain": [
       "-2430.6906451010364"
      ]
     },
     "execution_count": 569,
     "metadata": {},
     "output_type": "execute_result"
    }
   ],
   "source": [
    "model_randomForest.best_score_"
   ]
  },
  {
   "cell_type": "code",
   "execution_count": 570,
   "metadata": {
    "collapsed": false
   },
   "outputs": [
    {
     "data": {
      "text/plain": [
       "{'max_features': 0.2, 'n_estimators': 1000}"
      ]
     },
     "execution_count": 570,
     "metadata": {},
     "output_type": "execute_result"
    }
   ],
   "source": [
    "model_randomForest.best_params_"
   ]
  },
  {
   "cell_type": "markdown",
   "metadata": {},
   "source": [
    "### Power: Predict"
   ]
  },
  {
   "cell_type": "code",
   "execution_count": 573,
   "metadata": {
    "collapsed": false
   },
   "outputs": [
    {
     "data": {
      "text/html": [
       "<div>\n",
       "<table border=\"1\" class=\"dataframe\">\n",
       "  <thead>\n",
       "    <tr style=\"text-align: right;\">\n",
       "      <th></th>\n",
       "      <th>Average_Gradient</th>\n",
       "      <th>Average_heart_rate</th>\n",
       "      <th>Cadence</th>\n",
       "      <th>Distance</th>\n",
       "      <th>Highest_point</th>\n",
       "      <th>Lowest_point</th>\n",
       "      <th>Max_Gradient</th>\n",
       "      <th>Max_heart_rate</th>\n",
       "      <th>Measured_time</th>\n",
       "      <th>Moving_time</th>\n",
       "      <th>...</th>\n",
       "      <th>Hour_15</th>\n",
       "      <th>Hour_16</th>\n",
       "      <th>Hour_17</th>\n",
       "      <th>Hour_18</th>\n",
       "      <th>Hour_19</th>\n",
       "      <th>Hour_20</th>\n",
       "      <th>Hour_21</th>\n",
       "      <th>Hour_22</th>\n",
       "      <th>Hour_23</th>\n",
       "      <th>1/Measured_time</th>\n",
       "    </tr>\n",
       "  </thead>\n",
       "  <tbody>\n",
       "    <tr>\n",
       "      <th>15000</th>\n",
       "      <td>-0.4</td>\n",
       "      <td>114.8</td>\n",
       "      <td>83.1</td>\n",
       "      <td>9824.80</td>\n",
       "      <td>71.4</td>\n",
       "      <td>25.6</td>\n",
       "      <td>6.1</td>\n",
       "      <td>136</td>\n",
       "      <td>1906</td>\n",
       "      <td>1223</td>\n",
       "      <td>...</td>\n",
       "      <td>0</td>\n",
       "      <td>0</td>\n",
       "      <td>0</td>\n",
       "      <td>0</td>\n",
       "      <td>0</td>\n",
       "      <td>0</td>\n",
       "      <td>0</td>\n",
       "      <td>0</td>\n",
       "      <td>0</td>\n",
       "      <td>0.000525</td>\n",
       "    </tr>\n",
       "    <tr>\n",
       "      <th>15001</th>\n",
       "      <td>0.0</td>\n",
       "      <td>145.8</td>\n",
       "      <td>93.2</td>\n",
       "      <td>351.68</td>\n",
       "      <td>32.0</td>\n",
       "      <td>32.0</td>\n",
       "      <td>0.0</td>\n",
       "      <td>150</td>\n",
       "      <td>38</td>\n",
       "      <td>38</td>\n",
       "      <td>...</td>\n",
       "      <td>0</td>\n",
       "      <td>0</td>\n",
       "      <td>0</td>\n",
       "      <td>0</td>\n",
       "      <td>0</td>\n",
       "      <td>0</td>\n",
       "      <td>0</td>\n",
       "      <td>0</td>\n",
       "      <td>0</td>\n",
       "      <td>0.026316</td>\n",
       "    </tr>\n",
       "    <tr>\n",
       "      <th>15002</th>\n",
       "      <td>-3.7</td>\n",
       "      <td>117.0</td>\n",
       "      <td>89.6</td>\n",
       "      <td>1099.72</td>\n",
       "      <td>85.9</td>\n",
       "      <td>44.7</td>\n",
       "      <td>-0.6</td>\n",
       "      <td>137</td>\n",
       "      <td>136</td>\n",
       "      <td>136</td>\n",
       "      <td>...</td>\n",
       "      <td>0</td>\n",
       "      <td>0</td>\n",
       "      <td>0</td>\n",
       "      <td>0</td>\n",
       "      <td>0</td>\n",
       "      <td>0</td>\n",
       "      <td>0</td>\n",
       "      <td>0</td>\n",
       "      <td>0</td>\n",
       "      <td>0.007353</td>\n",
       "    </tr>\n",
       "    <tr>\n",
       "      <th>15003</th>\n",
       "      <td>1.7</td>\n",
       "      <td>121.4</td>\n",
       "      <td>93.0</td>\n",
       "      <td>574.70</td>\n",
       "      <td>22.0</td>\n",
       "      <td>8.1</td>\n",
       "      <td>9.7</td>\n",
       "      <td>126</td>\n",
       "      <td>75</td>\n",
       "      <td>75</td>\n",
       "      <td>...</td>\n",
       "      <td>0</td>\n",
       "      <td>0</td>\n",
       "      <td>0</td>\n",
       "      <td>0</td>\n",
       "      <td>0</td>\n",
       "      <td>0</td>\n",
       "      <td>0</td>\n",
       "      <td>0</td>\n",
       "      <td>0</td>\n",
       "      <td>0.013333</td>\n",
       "    </tr>\n",
       "    <tr>\n",
       "      <th>15004</th>\n",
       "      <td>0.0</td>\n",
       "      <td>112.9</td>\n",
       "      <td>93.5</td>\n",
       "      <td>1035.60</td>\n",
       "      <td>129.4</td>\n",
       "      <td>127.0</td>\n",
       "      <td>14.4</td>\n",
       "      <td>115</td>\n",
       "      <td>133</td>\n",
       "      <td>133</td>\n",
       "      <td>...</td>\n",
       "      <td>0</td>\n",
       "      <td>0</td>\n",
       "      <td>0</td>\n",
       "      <td>0</td>\n",
       "      <td>0</td>\n",
       "      <td>0</td>\n",
       "      <td>0</td>\n",
       "      <td>0</td>\n",
       "      <td>0</td>\n",
       "      <td>0.007519</td>\n",
       "    </tr>\n",
       "  </tbody>\n",
       "</table>\n",
       "<p>5 rows × 72 columns</p>\n",
       "</div>"
      ],
      "text/plain": [
       "       Average_Gradient  Average_heart_rate  Cadence  Distance  Highest_point  \\\n",
       "15000              -0.4               114.8     83.1   9824.80           71.4   \n",
       "15001               0.0               145.8     93.2    351.68           32.0   \n",
       "15002              -3.7               117.0     89.6   1099.72           85.9   \n",
       "15003               1.7               121.4     93.0    574.70           22.0   \n",
       "15004               0.0               112.9     93.5   1035.60          129.4   \n",
       "\n",
       "       Lowest_point  Max_Gradient  Max_heart_rate  Measured_time  Moving_time  \\\n",
       "15000          25.6           6.1             136           1906         1223   \n",
       "15001          32.0           0.0             150             38           38   \n",
       "15002          44.7          -0.6             137            136          136   \n",
       "15003           8.1           9.7             126             75           75   \n",
       "15004         127.0          14.4             115            133          133   \n",
       "\n",
       "            ...         Hour_15  Hour_16  Hour_17  Hour_18  Hour_19  Hour_20  \\\n",
       "15000       ...               0        0        0        0        0        0   \n",
       "15001       ...               0        0        0        0        0        0   \n",
       "15002       ...               0        0        0        0        0        0   \n",
       "15003       ...               0        0        0        0        0        0   \n",
       "15004       ...               0        0        0        0        0        0   \n",
       "\n",
       "       Hour_21  Hour_22  Hour_23  1/Measured_time  \n",
       "15000        0        0        0         0.000525  \n",
       "15001        0        0        0         0.026316  \n",
       "15002        0        0        0         0.007353  \n",
       "15003        0        0        0         0.013333  \n",
       "15004        0        0        0         0.007519  \n",
       "\n",
       "[5 rows x 72 columns]"
      ]
     },
     "execution_count": 573,
     "metadata": {},
     "output_type": "execute_result"
    }
   ],
   "source": [
    "power_X_test.head()"
   ]
  },
  {
   "cell_type": "code",
   "execution_count": 574,
   "metadata": {
    "collapsed": false
   },
   "outputs": [],
   "source": [
    "def power_predict(model):\n",
    "    power_test.Power = model.predict(power_X_test)\n",
    "    power_result = power_test[['Id','Power']]\n",
    "    return power_result\n",
    "power_result = power_predict(model_randomForest)"
   ]
  },
  {
   "cell_type": "code",
   "execution_count": 575,
   "metadata": {
    "collapsed": false
   },
   "outputs": [
    {
     "data": {
      "text/html": [
       "<div>\n",
       "<table border=\"1\" class=\"dataframe\">\n",
       "  <thead>\n",
       "    <tr style=\"text-align: right;\">\n",
       "      <th></th>\n",
       "      <th>Id</th>\n",
       "      <th>Power</th>\n",
       "    </tr>\n",
       "  </thead>\n",
       "  <tbody>\n",
       "    <tr>\n",
       "      <th>15000</th>\n",
       "      <td>15001.0</td>\n",
       "      <td>123.0967</td>\n",
       "    </tr>\n",
       "    <tr>\n",
       "      <th>15001</th>\n",
       "      <td>15002.0</td>\n",
       "      <td>163.7930</td>\n",
       "    </tr>\n",
       "    <tr>\n",
       "      <th>15002</th>\n",
       "      <td>15003.0</td>\n",
       "      <td>82.9308</td>\n",
       "    </tr>\n",
       "    <tr>\n",
       "      <th>15003</th>\n",
       "      <td>15004.0</td>\n",
       "      <td>143.4607</td>\n",
       "    </tr>\n",
       "    <tr>\n",
       "      <th>15004</th>\n",
       "      <td>15005.0</td>\n",
       "      <td>105.1403</td>\n",
       "    </tr>\n",
       "  </tbody>\n",
       "</table>\n",
       "</div>"
      ],
      "text/plain": [
       "            Id     Power\n",
       "15000  15001.0  123.0967\n",
       "15001  15002.0  163.7930\n",
       "15002  15003.0   82.9308\n",
       "15003  15004.0  143.4607\n",
       "15004  15005.0  105.1403"
      ]
     },
     "execution_count": 575,
     "metadata": {},
     "output_type": "execute_result"
    }
   ],
   "source": [
    "power_result.head()"
   ]
  },
  {
   "cell_type": "markdown",
   "metadata": {},
   "source": [
    "# Final Result"
   ]
  },
  {
   "cell_type": "code",
   "execution_count": 589,
   "metadata": {
    "collapsed": false
   },
   "outputs": [],
   "source": [
    "speed_result = speed_result.rename(columns={'Speed': 'Predictor'})\n",
    "cadence_result = cadence_result.rename(columns = {'Cadence': 'Predictor'})\n",
    "power_result = power_result.rename(columns={'Power': 'Predictor'})"
   ]
  },
  {
   "cell_type": "code",
   "execution_count": 590,
   "metadata": {
    "collapsed": false
   },
   "outputs": [],
   "source": [
    "result = pd.concat((speed_result,cadence_result,power_result))"
   ]
  },
  {
   "cell_type": "code",
   "execution_count": 591,
   "metadata": {
    "collapsed": true
   },
   "outputs": [],
   "source": [
    "result.Id = result.Id.astype(\"int\")"
   ]
  },
  {
   "cell_type": "code",
   "execution_count": 592,
   "metadata": {
    "collapsed": true
   },
   "outputs": [],
   "source": [
    "result.to_csv(path_or_buf=\"../submit/submit3.csv\", sep=\";\",index=False)"
   ]
  }
 ],
 "metadata": {
  "anaconda-cloud": {},
  "kernelspec": {
   "display_name": "Python 2",
   "language": "python",
   "name": "python2"
  },
  "language_info": {
   "codemirror_mode": {
    "name": "ipython",
    "version": 2
   },
   "file_extension": ".py",
   "mimetype": "text/x-python",
   "name": "python",
   "nbconvert_exporter": "python",
   "pygments_lexer": "ipython2",
   "version": "2.7.13"
  }
 },
 "nbformat": 4,
 "nbformat_minor": 0
}
