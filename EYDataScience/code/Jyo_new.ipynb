{
 "cells": [
  {
   "cell_type": "markdown",
   "metadata": {},
   "source": [
    "# Import Library, Define Function, Load Data\n",
    "* import necssary library\n",
    "* a function for model and cross-validation"
   ]
  },
  {
   "cell_type": "code",
   "execution_count": 1,
   "metadata": {
    "collapsed": false
   },
   "outputs": [
    {
     "name": "stderr",
     "output_type": "stream",
     "text": [
      "/Users/xbj/anaconda/lib/python2.7/site-packages/sklearn/cross_validation.py:44: DeprecationWarning: This module was deprecated in version 0.18 in favor of the model_selection module into which all the refactored classes and functions are moved. Also note that the interface of the new CV iterators are different from that of this module. This module will be removed in 0.20.\n",
      "  \"This module will be removed in 0.20.\", DeprecationWarning)\n",
      "/Users/xbj/anaconda/lib/python2.7/site-packages/matplotlib/font_manager.py:273: UserWarning: Matplotlib is building the font cache using fc-list. This may take a moment.\n",
      "  warnings.warn('Matplotlib is building the font cache using fc-list. This may take a moment.')\n"
     ]
    }
   ],
   "source": [
    "# import library\n",
    "import numpy as np\n",
    "import pandas as pd\n",
    "import matplotlib\n",
    "\n",
    "# library for ML\n",
    "import sklearn\n",
    "from sklearn import cross_validation, metrics\n",
    "from sklearn.model_selection import GridSearchCV\n",
    "from sklearn.ensemble import AdaBoostRegressor\n",
    "from sklearn.ensemble import GradientBoostingRegressor\n",
    "from sklearn.ensemble import RandomForestRegressor\n",
    "\n",
    "\n",
    "# library for plot\n",
    "import matplotlib.pylab as plt\n",
    "%matplotlib inline\n",
    "from matplotlib.pylab import rcParams\n",
    "rcParams['figure.figsize'] = 12, 6"
   ]
  },
  {
   "cell_type": "markdown",
   "metadata": {},
   "source": [
    "###  Define a function for modeling and cross-validation\n",
    "\n",
    "This function will do the following:\n",
    "1. fit the model\n",
    "2. determine training mean square error\n",
    "3. perform CV is performCV is True\n",
    "4. plot Feature Importance if printFeatureImportance is True"
   ]
  },
  {
   "cell_type": "code",
   "execution_count": 2,
   "metadata": {
    "collapsed": true
   },
   "outputs": [],
   "source": [
    "def modelfit(model, X, y, performCV=True, printFeatureImportance=True, cv_folds=5):\n",
    "    #Fit the algorithm on the data\n",
    "    columns = X.columns.values\n",
    "    model.fit(X, y)\n",
    "        \n",
    "    #Predict training set:\n",
    "    y_predictions = model.predict(X)\n",
    "        \n",
    "    #Perform cross-validation:\n",
    "    if performCV:\n",
    "        cv_score = cross_validation.cross_val_score(model, X, y, cv=cv_folds, scoring='neg_mean_squared_error')\n",
    "    \n",
    "    #Print model report:\n",
    "    print \"\\nModel Report\"\n",
    "    print \"Mean Square Error: %.4g\" % metrics.mean_squared_error(y, y_predictions)\n",
    "    \n",
    "    if performCV:\n",
    "        print \"CV Score : Mean - %.7g | Std - %.7g | Min - %.7g | Max - %.7g\" % (np.mean(cv_score),np.std(cv_score),np.min(cv_score),np.max(cv_score))\n",
    "                \n",
    "    #Print Feature Importance:\n",
    "    if printFeatureImportance:\n",
    "        feat_imp = pd.Series(model.feature_importances_, columns).sort_values(ascending=False)\n",
    "        feat_imp.plot(kind='bar', title='Feature Importances')\n",
    "        plt.ylabel('Feature Importance Score')"
   ]
  },
  {
   "cell_type": "code",
   "execution_count": 3,
   "metadata": {
    "collapsed": true
   },
   "outputs": [],
   "source": [
    "import xgboost as xgb\n",
    "from xgboost.sklearn import XGBRegressor\n",
    "def xgb_modelfit(alg, X, y, useTrainCV=True, cv_folds=4, early_stopping_rounds=50):\n",
    "    feature_names = X.columns.values\n",
    "    if useTrainCV:\n",
    "        xgb_param = alg.get_xgb_params()\n",
    "        xgtrain = xgb.DMatrix(X, label = y)\n",
    "        cvresult = xgb.cv(xgb_param, xgtrain, num_boost_round=alg.get_params()['n_estimators'], nfold=cv_folds,\n",
    "            metrics='rmse', early_stopping_rounds=early_stopping_rounds, verbose_eval = True)\n",
    "        alg.set_params(n_estimators=cvresult.shape[0])\n",
    "    #Fit the algorithm on the data\n",
    "    alg.fit(X, y,eval_metric='rmse')\n",
    "        \n",
    "    #Predict training set:\n",
    "    dtrain_predictions = alg.predict(X)\n",
    "        \n",
    "    #Print model report:\n",
    "    print \"\\nModel Report\"\n",
    "    print \"Mean Square Error : %.4g\" % metrics.mean_squared_error(y, dtrain_predictions)\n",
    "    \n",
    "    #print feature importance            \n",
    "    feat_imp = pd.Series(alg.booster().get_fscore()).sort_values(ascending=False)\n",
    "    feat_imp.plot(kind='bar', title='Feature Importances')\n",
    "    plt.ylabel('Feature Importance Score')"
   ]
  },
  {
   "cell_type": "code",
   "execution_count": 4,
   "metadata": {
    "collapsed": true
   },
   "outputs": [],
   "source": [
    "# # learning curver\n",
    "from sklearn.model_selection import learning_curve\n",
    "from sklearn.model_selection import ShuffleSplit\n",
    "def plot_learning_curve(estimator, title, X, y, ylim=None, cv=None,\n",
    "                        n_jobs=1, train_sizes=np.linspace(.1, 1.0, 5)):\n",
    "    \"\"\"\n",
    "    Generate a simple plot of the test and training learning curve.\n",
    "\n",
    "    Parameters\n",
    "    ----------\n",
    "    estimator : object type that implements the \"fit\" and \"predict\" methods\n",
    "        An object of that type which is cloned for each validation.\n",
    "\n",
    "    title : string\n",
    "        Title for the chart.\n",
    "\n",
    "    X : array-like, shape (n_samples, n_features)\n",
    "        Training vector, where n_samples is the number of samples and\n",
    "        n_features is the number of features.\n",
    "\n",
    "    y : array-like, shape (n_samples) or (n_samples, n_features), optional\n",
    "        Target relative to X for classification or regression;\n",
    "        None for unsupervised learning.\n",
    "\n",
    "    ylim : tuple, shape (ymin, ymax), optional\n",
    "        Defines minimum and maximum yvalues plotted.\n",
    "\n",
    "    cv : int, cross-validation generator or an iterable, optional\n",
    "        Determines the cross-validation splitting strategy.\n",
    "        Possible inputs for cv are:\n",
    "          - None, to use the default 3-fold cross-validation,\n",
    "          - integer, to specify the number of folds.\n",
    "          - An object to be used as a cross-validation generator.\n",
    "          - An iterable yielding train/test splits.\n",
    "\n",
    "        For integer/None inputs, if ``y`` is binary or multiclass,\n",
    "        :class:`StratifiedKFold` used. If the estimator is not a classifier\n",
    "        or if ``y`` is neither binary nor multiclass, :class:`KFold` is used.\n",
    "\n",
    "        Refer :ref:`User Guide <cross_validation>` for the various\n",
    "        cross-validators that can be used here.\n",
    "\n",
    "    n_jobs : integer, optional\n",
    "        Number of jobs to run in parallel (default 1).\n",
    "    \"\"\"\n",
    "    plt.figure()\n",
    "    plt.title(title)\n",
    "    if ylim is not None:\n",
    "        plt.ylim(*ylim)\n",
    "    plt.xlabel(\"Training examples\")\n",
    "    plt.ylabel(\"Score\")\n",
    "    train_sizes, train_scores, test_scores = learning_curve(\n",
    "        estimator, X, y, scoring=\"neg_mean_squared_error\",cv=cv, n_jobs=n_jobs, train_sizes=train_sizes)\n",
    "    train_scores_mean = np.mean(train_scores, axis=1)\n",
    "    train_scores_std = np.std(train_scores, axis=1)\n",
    "    test_scores_mean = np.mean(test_scores, axis=1)\n",
    "    test_scores_std = np.std(test_scores, axis=1)\n",
    "    plt.grid()\n",
    "\n",
    "    plt.fill_between(train_sizes, train_scores_mean - train_scores_std,\n",
    "                     train_scores_mean + train_scores_std, alpha=0.1,\n",
    "                     color=\"r\")\n",
    "    plt.fill_between(train_sizes, test_scores_mean - test_scores_std,\n",
    "                     test_scores_mean + test_scores_std, alpha=0.1, color=\"g\")\n",
    "    plt.plot(train_sizes, train_scores_mean, 'o-', color=\"r\",\n",
    "             label=\"Training score\")\n",
    "    plt.plot(train_sizes, test_scores_mean, 'o-', color=\"g\",\n",
    "             label=\"Cross-validation score\")\n",
    "\n",
    "    plt.legend(loc=\"best\")\n",
    "    return plt"
   ]
  },
  {
   "cell_type": "code",
   "execution_count": 5,
   "metadata": {
    "collapsed": false
   },
   "outputs": [],
   "source": [
    "# load data\n",
    "train_csv = pd.read_csv(filepath_or_buffer=\"../data/data_train.csv\",sep=\";\")\n",
    "test_csv = pd.read_csv(filepath_or_buffer=\"../data/data_test.csv\",sep=\";\")"
   ]
  },
  {
   "cell_type": "code",
   "execution_count": 6,
   "metadata": {
    "collapsed": false
   },
   "outputs": [],
   "source": [
    "# concat train and test for feature engineering\n",
    "# deal na and TimeStamp data\n",
    "all_data = pd.concat((train_csv, test_csv))\n",
    "all_data.Speed = all_data.Speed.fillna(all_data.Distance/all_data.Measured_time)\n",
    "all_data.Date = pd.to_datetime(all_data.Date)\n",
    "all_data.Time = pd.to_datetime(all_data.Time)\n",
    "all_data['Year'] = all_data.Date.apply(lambda date:date.year)\n",
    "all_data['Month'] = all_data.Date.apply(lambda date:date.month)\n",
    "all_data['Day'] = all_data.Date.apply(lambda date:date.day)\n",
    "all_data['Hour'] = all_data.Time.apply(lambda time:time.hour)\n",
    "all_data['Average_point'] = (all_data.Highest_point + all_data.Lowest_point) / 2.0"
   ]
  },
  {
   "cell_type": "code",
   "execution_count": 7,
   "metadata": {
    "collapsed": false
   },
   "outputs": [
    {
     "data": {
      "text/html": [
       "<div>\n",
       "<table border=\"1\" class=\"dataframe\">\n",
       "  <thead>\n",
       "    <tr style=\"text-align: right;\">\n",
       "      <th></th>\n",
       "      <th>Average_Gradient</th>\n",
       "      <th>Average_heart_rate</th>\n",
       "      <th>Cadence</th>\n",
       "      <th>Date</th>\n",
       "      <th>Distance</th>\n",
       "      <th>Highest_point</th>\n",
       "      <th>Id</th>\n",
       "      <th>Index</th>\n",
       "      <th>Lowest_point</th>\n",
       "      <th>Max_Gradient</th>\n",
       "      <th>...</th>\n",
       "      <th>Moving_time</th>\n",
       "      <th>Power</th>\n",
       "      <th>RiderID</th>\n",
       "      <th>Speed</th>\n",
       "      <th>Time</th>\n",
       "      <th>Year</th>\n",
       "      <th>Month</th>\n",
       "      <th>Day</th>\n",
       "      <th>Hour</th>\n",
       "      <th>Average_point</th>\n",
       "    </tr>\n",
       "  </thead>\n",
       "  <tbody>\n",
       "    <tr>\n",
       "      <th>0</th>\n",
       "      <td>0.0</td>\n",
       "      <td>105.8</td>\n",
       "      <td>85.3</td>\n",
       "      <td>2015-02-09</td>\n",
       "      <td>9980.400</td>\n",
       "      <td>128.4</td>\n",
       "      <td>NaN</td>\n",
       "      <td>78294</td>\n",
       "      <td>124.6</td>\n",
       "      <td>5.0</td>\n",
       "      <td>...</td>\n",
       "      <td>1375</td>\n",
       "      <td>92.4</td>\n",
       "      <td>1</td>\n",
       "      <td>7.258473</td>\n",
       "      <td>2017-01-04 05:50:12</td>\n",
       "      <td>2015</td>\n",
       "      <td>2</td>\n",
       "      <td>9</td>\n",
       "      <td>5</td>\n",
       "      <td>126.50</td>\n",
       "    </tr>\n",
       "    <tr>\n",
       "      <th>1</th>\n",
       "      <td>3.3</td>\n",
       "      <td>157.5</td>\n",
       "      <td>88.3</td>\n",
       "      <td>2014-08-23</td>\n",
       "      <td>1666.010</td>\n",
       "      <td>204.6</td>\n",
       "      <td>NaN</td>\n",
       "      <td>62861</td>\n",
       "      <td>147.9</td>\n",
       "      <td>16.0</td>\n",
       "      <td>...</td>\n",
       "      <td>252</td>\n",
       "      <td>271.9</td>\n",
       "      <td>1</td>\n",
       "      <td>6.611151</td>\n",
       "      <td>2017-01-04 12:52:26</td>\n",
       "      <td>2014</td>\n",
       "      <td>8</td>\n",
       "      <td>23</td>\n",
       "      <td>12</td>\n",
       "      <td>176.25</td>\n",
       "    </tr>\n",
       "    <tr>\n",
       "      <th>2</th>\n",
       "      <td>0.0</td>\n",
       "      <td>158.9</td>\n",
       "      <td>103.4</td>\n",
       "      <td>2014-09-30</td>\n",
       "      <td>345.600</td>\n",
       "      <td>59.0</td>\n",
       "      <td>NaN</td>\n",
       "      <td>88658</td>\n",
       "      <td>59.0</td>\n",
       "      <td>0.0</td>\n",
       "      <td>...</td>\n",
       "      <td>36</td>\n",
       "      <td>274.4</td>\n",
       "      <td>1</td>\n",
       "      <td>9.600000</td>\n",
       "      <td>2017-01-04 06:19:38</td>\n",
       "      <td>2014</td>\n",
       "      <td>9</td>\n",
       "      <td>30</td>\n",
       "      <td>6</td>\n",
       "      <td>59.00</td>\n",
       "    </tr>\n",
       "    <tr>\n",
       "      <th>3</th>\n",
       "      <td>-8.3</td>\n",
       "      <td>99.1</td>\n",
       "      <td>66.4</td>\n",
       "      <td>2015-02-21</td>\n",
       "      <td>1572.900</td>\n",
       "      <td>617.8</td>\n",
       "      <td>NaN</td>\n",
       "      <td>77748</td>\n",
       "      <td>487.2</td>\n",
       "      <td>-0.5</td>\n",
       "      <td>...</td>\n",
       "      <td>123</td>\n",
       "      <td>72.8</td>\n",
       "      <td>1</td>\n",
       "      <td>12.787805</td>\n",
       "      <td>2017-01-04 14:25:18</td>\n",
       "      <td>2015</td>\n",
       "      <td>2</td>\n",
       "      <td>21</td>\n",
       "      <td>14</td>\n",
       "      <td>552.50</td>\n",
       "    </tr>\n",
       "    <tr>\n",
       "      <th>4</th>\n",
       "      <td>-7.6</td>\n",
       "      <td>100.3</td>\n",
       "      <td>60.3</td>\n",
       "      <td>2012-08-24</td>\n",
       "      <td>435.352</td>\n",
       "      <td>54.4</td>\n",
       "      <td>NaN</td>\n",
       "      <td>64485</td>\n",
       "      <td>21.4</td>\n",
       "      <td>-4.8</td>\n",
       "      <td>...</td>\n",
       "      <td>59</td>\n",
       "      <td>4.9</td>\n",
       "      <td>1</td>\n",
       "      <td>7.378847</td>\n",
       "      <td>2017-01-04 06:34:28</td>\n",
       "      <td>2012</td>\n",
       "      <td>8</td>\n",
       "      <td>24</td>\n",
       "      <td>6</td>\n",
       "      <td>37.90</td>\n",
       "    </tr>\n",
       "  </tbody>\n",
       "</table>\n",
       "<p>5 rows × 22 columns</p>\n",
       "</div>"
      ],
      "text/plain": [
       "   Average_Gradient  Average_heart_rate  Cadence       Date  Distance  \\\n",
       "0               0.0               105.8     85.3 2015-02-09  9980.400   \n",
       "1               3.3               157.5     88.3 2014-08-23  1666.010   \n",
       "2               0.0               158.9    103.4 2014-09-30   345.600   \n",
       "3              -8.3                99.1     66.4 2015-02-21  1572.900   \n",
       "4              -7.6               100.3     60.3 2012-08-24   435.352   \n",
       "\n",
       "   Highest_point  Id  Index  Lowest_point  Max_Gradient      ...        \\\n",
       "0          128.4 NaN  78294         124.6           5.0      ...         \n",
       "1          204.6 NaN  62861         147.9          16.0      ...         \n",
       "2           59.0 NaN  88658          59.0           0.0      ...         \n",
       "3          617.8 NaN  77748         487.2          -0.5      ...         \n",
       "4           54.4 NaN  64485          21.4          -4.8      ...         \n",
       "\n",
       "   Moving_time  Power  RiderID      Speed                Time  Year Month  \\\n",
       "0         1375   92.4        1   7.258473 2017-01-04 05:50:12  2015     2   \n",
       "1          252  271.9        1   6.611151 2017-01-04 12:52:26  2014     8   \n",
       "2           36  274.4        1   9.600000 2017-01-04 06:19:38  2014     9   \n",
       "3          123   72.8        1  12.787805 2017-01-04 14:25:18  2015     2   \n",
       "4           59    4.9        1   7.378847 2017-01-04 06:34:28  2012     8   \n",
       "\n",
       "   Day  Hour  Average_point  \n",
       "0    9     5         126.50  \n",
       "1   23    12         176.25  \n",
       "2   30     6          59.00  \n",
       "3   21    14         552.50  \n",
       "4   24     6          37.90  \n",
       "\n",
       "[5 rows x 22 columns]"
      ]
     },
     "execution_count": 7,
     "metadata": {},
     "output_type": "execute_result"
    }
   ],
   "source": [
    "all_data.head()"
   ]
  },
  {
   "cell_type": "markdown",
   "metadata": {
    "collapsed": true
   },
   "source": [
    "# regression for speed\n",
    "Author: Bujie Xu\n",
    "\n",
    "speed = Distance/measured time"
   ]
  },
  {
   "cell_type": "markdown",
   "metadata": {},
   "source": [
    "### Speed: predict result"
   ]
  },
  {
   "cell_type": "code",
   "execution_count": 9,
   "metadata": {
    "collapsed": false
   },
   "outputs": [
    {
     "data": {
      "text/html": [
       "<div>\n",
       "<table border=\"1\" class=\"dataframe\">\n",
       "  <thead>\n",
       "    <tr style=\"text-align: right;\">\n",
       "      <th></th>\n",
       "      <th>Id</th>\n",
       "      <th>Speed</th>\n",
       "    </tr>\n",
       "  </thead>\n",
       "  <tbody>\n",
       "    <tr>\n",
       "      <th>0</th>\n",
       "      <td>1</td>\n",
       "      <td>10.134000</td>\n",
       "    </tr>\n",
       "    <tr>\n",
       "      <th>1</th>\n",
       "      <td>2</td>\n",
       "      <td>6.063448</td>\n",
       "    </tr>\n",
       "    <tr>\n",
       "      <th>2</th>\n",
       "      <td>3</td>\n",
       "      <td>12.037037</td>\n",
       "    </tr>\n",
       "    <tr>\n",
       "      <th>3</th>\n",
       "      <td>4</td>\n",
       "      <td>5.485714</td>\n",
       "    </tr>\n",
       "    <tr>\n",
       "      <th>4</th>\n",
       "      <td>5</td>\n",
       "      <td>6.646154</td>\n",
       "    </tr>\n",
       "  </tbody>\n",
       "</table>\n",
       "</div>"
      ],
      "text/plain": [
       "   Id      Speed\n",
       "0   1  10.134000\n",
       "1   2   6.063448\n",
       "2   3  12.037037\n",
       "3   4   5.485714\n",
       "4   5   6.646154"
      ]
     },
     "execution_count": 9,
     "metadata": {},
     "output_type": "execute_result"
    }
   ],
   "source": [
    "speed_test = test_csv.loc[test_csv.Speed.isnull(),:]\n",
    "speed_test.loc[:,'Speed'] = speed_test.Distance/speed_test.Measured_time\n",
    "speed_result = speed_test.loc[:,['Id','Speed']]\n",
    "speed_result.head()"
   ]
  },
  {
   "cell_type": "code",
   "execution_count": 10,
   "metadata": {
    "collapsed": false
   },
   "outputs": [
    {
     "data": {
      "text/plain": [
       "Index([u'Average_Gradient', u'Average_heart_rate', u'Cadence', u'Date',\n",
       "       u'Distance', u'Highest_point', u'Id', u'Index', u'Lowest_point',\n",
       "       u'Max_Gradient', u'Max_heart_rate', u'Measured_time', u'Moving_time',\n",
       "       u'Power', u'RiderID', u'Speed', u'Time', u'Year', u'Month', u'Day',\n",
       "       u'Hour', u'Average_point'],\n",
       "      dtype='object')"
      ]
     },
     "execution_count": 10,
     "metadata": {},
     "output_type": "execute_result"
    }
   ],
   "source": [
    "all_data.columns"
   ]
  },
  {
   "cell_type": "markdown",
   "metadata": {},
   "source": [
    "## Part2 :Regression for Candence"
   ]
  },
  {
   "cell_type": "markdown",
   "metadata": {},
   "source": [
    "## Data Preprocessing (Cadence)"
   ]
  },
  {
   "cell_type": "code",
   "execution_count": 55,
   "metadata": {
    "collapsed": false
   },
   "outputs": [],
   "source": [
    "# remove useless columns\n",
    "cadence = all_data"
   ]
  },
  {
   "cell_type": "code",
   "execution_count": 56,
   "metadata": {
    "collapsed": true
   },
   "outputs": [],
   "source": [
    "# Add new feature Season\n",
    "cadence.loc[lambda d:(d.Month >=3) & (d.Month <=5), 'Season'] = 'Spring'\n",
    "cadence.loc[lambda d:(d.Month >=6) & (d.Month <=8), 'Season'] = 'Summer'\n",
    "cadence.loc[lambda d:(d.Month >=9) & (d.Month <=11), 'Season'] = 'Autumn'\n",
    "cadence.loc[lambda d:(d.Month == 12) | (d.Month <=2), 'Season'] = 'Winter'\n",
    "\n",
    "# Add new feature, day,night\n",
    "cadence['Day_Time'] = 0\n",
    "cadence.loc[lambda d:(d.Hour >=6) &(d.Hour <=18), 'Day_Time'] = 1"
   ]
  },
  {
   "cell_type": "code",
   "execution_count": 57,
   "metadata": {
    "collapsed": false
   },
   "outputs": [],
   "source": [
    "# feature engineering\n",
    "dropColumns = ['Index','Date','Time','Moving_time','Month','Day','Hour']\n",
    "cadence = cadence.drop(dropColumns, axis = 1)\n",
    "cadence.RiderID = cadence.RiderID.astype('category')\n",
    "cadence.Year = cadence.Year.astype('category')\n",
    "cadence.Season = cadence.Season.astype('category')\n",
    "cadence['Speed^2'] = cadence.Speed**2\n",
    "cadence['Speed^3'] = cadence.Speed**3\n",
    "cadence['New_Distance'] = cadence.Distance * np.cos(abs(cadence.Average_Gradient))\n",
    "cadence['Average_point'] = (cadence.Highest_point + cadence.Lowest_point)/2\n",
    "cadence['Max_Avg_Gradient'] = cadence.Max_Gradient - cadence.Average_Gradient\n",
    "cadence['Max_Avg_heart_rage'] = cadence.Max_heart_rate - cadence.Average_heart_rate\n",
    "cadence['1/Measured_Time'] = 1/cadence.Measured_time\n",
    "cadence = pd.get_dummies(cadence)"
   ]
  },
  {
   "cell_type": "code",
   "execution_count": 58,
   "metadata": {
    "collapsed": false
   },
   "outputs": [
    {
     "data": {
      "text/plain": [
       "Index([u'Average_Gradient', u'Average_heart_rate', u'Cadence', u'Distance',\n",
       "       u'Highest_point', u'Id', u'Lowest_point', u'Max_Gradient',\n",
       "       u'Max_heart_rate', u'Measured_time', u'Power', u'Speed',\n",
       "       u'Average_point', u'Day_Time', u'Max_GradientVs0', u'Speed^2',\n",
       "       u'Speed^3', u'New_Distance', u'Max_Avg_Gradient', u'Max_Avg_heart_rage',\n",
       "       u'1/Measured_Time', u'RiderID_1', u'RiderID_2', u'RiderID_3',\n",
       "       u'RiderID_4', u'RiderID_5', u'RiderID_6', u'RiderID_7', u'RiderID_8',\n",
       "       u'RiderID_9', u'RiderID_10', u'RiderID_11', u'RiderID_12',\n",
       "       u'RiderID_13', u'RiderID_14', u'RiderID_15', u'Year_2008', u'Year_2009',\n",
       "       u'Year_2010', u'Year_2011', u'Year_2012', u'Year_2013', u'Year_2014',\n",
       "       u'Year_2015', u'Year_2016', u'Season_Autumn', u'Season_Spring',\n",
       "       u'Season_Summer', u'Season_Winter'],\n",
       "      dtype='object')"
      ]
     },
     "execution_count": 58,
     "metadata": {},
     "output_type": "execute_result"
    }
   ],
   "source": [
    "cadence.columns"
   ]
  },
  {
   "cell_type": "code",
   "execution_count": 59,
   "metadata": {
    "collapsed": false
   },
   "outputs": [
    {
     "data": {
      "text/plain": [
       "(120000, 47)"
      ]
     },
     "execution_count": 59,
     "metadata": {},
     "output_type": "execute_result"
    }
   ],
   "source": [
    "cadence_train = cadence.dropna(subset=['Cadence','Power'],how = 'any')\n",
    "cadence_test = cadence.loc[cadence['Cadence'].isnull()]\n",
    "dropList = ['Cadence','Id']\n",
    "cadence_X_train, cadence_y = cadence_train.drop(dropList, axis=1), cadence_train['Cadence']\n",
    "cadence_columns = cadence_X_train.columns\n",
    "cadence_X_test = cadence_test.drop(dropList, axis=1)\n",
    "cadence_X_train.shape"
   ]
  },
  {
   "cell_type": "markdown",
   "metadata": {},
   "source": [
    "## Cadence: Models "
   ]
  },
  {
   "cell_type": "markdown",
   "metadata": {},
   "source": [
    "### 1. RandomForestRegressor"
   ]
  },
  {
   "cell_type": "code",
   "execution_count": 17,
   "metadata": {
    "collapsed": false,
    "scrolled": true
   },
   "outputs": [
    {
     "name": "stdout",
     "output_type": "stream",
     "text": [
      "Fitting 5 folds for each of 1 candidates, totalling 5 fits\n",
      "[CV] max_features=sqrt, n_estimators=500 .............................\n",
      "[CV] max_features=sqrt, n_estimators=500 .............................\n",
      "[CV] max_features=sqrt, n_estimators=500 .............................\n",
      "[CV] max_features=sqrt, n_estimators=500 .............................\n",
      "[CV]  max_features=sqrt, n_estimators=500, score=-97.051391, total= 7.5min\n",
      "[CV]  max_features=sqrt, n_estimators=500, score=-180.507966, total= 7.5min\n",
      "[CV]  max_features=sqrt, n_estimators=500, score=-111.638711, total= 7.5min\n",
      "[CV]  max_features=sqrt, n_estimators=500, score=-80.277630, total= 7.5min\n"
     ]
    },
    {
     "name": "stderr",
     "output_type": "stream",
     "text": [
      "[Parallel(n_jobs=4)]: Done   1 tasks      | elapsed:  9.2min\n",
      "[Parallel(n_jobs=4)]: Done   2 out of   5 | elapsed:  9.2min remaining: 13.8min\n",
      "[Parallel(n_jobs=4)]: Done   3 out of   5 | elapsed:  9.2min remaining:  6.1min\n"
     ]
    },
    {
     "name": "stdout",
     "output_type": "stream",
     "text": [
      "[CV] max_features=sqrt, n_estimators=500 .............................\n",
      "[CV]  max_features=sqrt, n_estimators=500, score=-118.948789, total= 3.3min\n"
     ]
    },
    {
     "name": "stderr",
     "output_type": "stream",
     "text": [
      "[Parallel(n_jobs=4)]: Done   5 out of   5 | elapsed: 12.8min remaining:    0.0s\n",
      "[Parallel(n_jobs=4)]: Done   5 out of   5 | elapsed: 12.8min finished\n"
     ]
    },
    {
     "data": {
      "text/plain": [
       "GridSearchCV(cv=5, error_score='raise',\n",
       "       estimator=RandomForestRegressor(bootstrap=True, criterion='mse', max_depth=None,\n",
       "           max_features='auto', max_leaf_nodes=None,\n",
       "           min_impurity_split=1e-07, min_samples_leaf=1,\n",
       "           min_samples_split=2, min_weight_fraction_leaf=0.0,\n",
       "           n_estimators=10, n_jobs=1, oob_score=False, random_state=None,\n",
       "           verbose=0, warm_start=False),\n",
       "       fit_params={}, iid=True, n_jobs=4,\n",
       "       param_grid={'n_estimators': [500], 'max_features': ['sqrt']},\n",
       "       pre_dispatch='2*n_jobs', refit=True, return_train_score=True,\n",
       "       scoring='neg_mean_squared_error', verbose=20)"
      ]
     },
     "execution_count": 17,
     "metadata": {},
     "output_type": "execute_result"
    }
   ],
   "source": [
    "from sklearn.ensemble import RandomForestRegressor\n",
    "from sklearn.model_selection import GridSearchCV\n",
    "rfr = RandomForestRegressor()\n",
    "param_grid = {'n_estimators': [500], 'max_features': ['sqrt']}\n",
    "cadence_randomForest = GridSearchCV(estimator=rfr, param_grid=param_grid, n_jobs=4, cv=5, verbose=20, scoring=\"neg_mean_squared_error\")\n",
    "cadence_randomForest.fit(cadence_X_train,cadence_y)"
   ]
  },
  {
   "cell_type": "code",
   "execution_count": 18,
   "metadata": {
    "collapsed": false
   },
   "outputs": [
    {
     "data": {
      "text/plain": [
       "-117.68489740553301"
      ]
     },
     "execution_count": 18,
     "metadata": {},
     "output_type": "execute_result"
    }
   ],
   "source": [
    "cadence_randomForest.best_score_"
   ]
  },
  {
   "cell_type": "markdown",
   "metadata": {},
   "source": [
    "### 2. Cadence: xgboost model:"
   ]
  },
  {
   "cell_type": "code",
   "execution_count": 102,
   "metadata": {
    "collapsed": false
   },
   "outputs": [
    {
     "name": "stdout",
     "output_type": "stream",
     "text": [
      "[0]\ttrain-rmse:11.9376+0.0121815\ttest-rmse:12.1083+0.062059\n",
      "[1]\ttrain-rmse:11.3653+0.110389\ttest-rmse:11.6261+0.13523\n",
      "[2]\ttrain-rmse:10.9897+0.125175\ttest-rmse:11.3161+0.136134\n",
      "[3]\ttrain-rmse:10.7842+0.132619\ttest-rmse:11.1636+0.126701\n",
      "[4]\ttrain-rmse:10.6355+0.154602\ttest-rmse:11.1031+0.127696\n",
      "[5]\ttrain-rmse:10.5238+0.13925\ttest-rmse:11.0443+0.104731\n",
      "[6]\ttrain-rmse:10.4284+0.118743\ttest-rmse:11.0229+0.0913231\n",
      "[7]\ttrain-rmse:10.3392+0.118659\ttest-rmse:10.9782+0.105331\n",
      "[8]\ttrain-rmse:10.2544+0.110475\ttest-rmse:10.9431+0.114509\n",
      "[9]\ttrain-rmse:10.1753+0.126245\ttest-rmse:10.9342+0.11469\n",
      "[10]\ttrain-rmse:10.1191+0.111285\ttest-rmse:10.9391+0.100849\n",
      "[11]\ttrain-rmse:9.99513+0.102564\ttest-rmse:10.8838+0.0956608\n",
      "[12]\ttrain-rmse:9.92718+0.0750714\ttest-rmse:10.8814+0.0850451\n",
      "[13]\ttrain-rmse:9.87413+0.0779998\ttest-rmse:10.8554+0.0856708\n",
      "[14]\ttrain-rmse:9.80504+0.0779263\ttest-rmse:10.8633+0.093803\n",
      "[15]\ttrain-rmse:9.75056+0.0713457\ttest-rmse:10.8577+0.088326\n",
      "[16]\ttrain-rmse:9.7029+0.0756368\ttest-rmse:10.8582+0.0905557\n",
      "[17]\ttrain-rmse:9.65898+0.0564155\ttest-rmse:10.8506+0.079482\n",
      "[18]\ttrain-rmse:9.62346+0.0597792\ttest-rmse:10.8559+0.0751981\n",
      "[19]\ttrain-rmse:9.57155+0.0408433\ttest-rmse:10.8553+0.0671088\n",
      "[20]\ttrain-rmse:9.53192+0.0350238\ttest-rmse:10.8602+0.0660776\n",
      "[21]\ttrain-rmse:9.49185+0.0328068\ttest-rmse:10.8634+0.07782\n",
      "[22]\ttrain-rmse:9.4554+0.0341575\ttest-rmse:10.871+0.0732785\n",
      "[23]\ttrain-rmse:9.41556+0.0326907\ttest-rmse:10.8696+0.0743225\n",
      "[24]\ttrain-rmse:9.38285+0.0373035\ttest-rmse:10.8728+0.0776423\n",
      "[25]\ttrain-rmse:9.34969+0.0424259\ttest-rmse:10.8839+0.0740587\n",
      "[26]\ttrain-rmse:9.3149+0.0476764\ttest-rmse:10.8885+0.0861433\n",
      "[27]\ttrain-rmse:9.28734+0.0523308\ttest-rmse:10.889+0.0926762\n",
      "[28]\ttrain-rmse:9.25966+0.0640013\ttest-rmse:10.8902+0.0900725\n",
      "[29]\ttrain-rmse:9.22398+0.0686523\ttest-rmse:10.8969+0.0853789\n",
      "[30]\ttrain-rmse:9.1924+0.0650461\ttest-rmse:10.8991+0.0921419\n",
      "[31]\ttrain-rmse:9.15467+0.0569925\ttest-rmse:10.8835+0.0878627\n",
      "[32]\ttrain-rmse:9.12142+0.0613734\ttest-rmse:10.8972+0.0805521\n",
      "[33]\ttrain-rmse:9.0973+0.0609036\ttest-rmse:10.8972+0.079157\n",
      "[34]\ttrain-rmse:9.0725+0.0509274\ttest-rmse:10.8969+0.0815393\n",
      "[35]\ttrain-rmse:9.04261+0.038381\ttest-rmse:10.8974+0.0778328\n",
      "[36]\ttrain-rmse:9.0175+0.0345806\ttest-rmse:10.9022+0.0756228\n",
      "[37]\ttrain-rmse:8.99079+0.0357036\ttest-rmse:10.9035+0.0783272\n",
      "[38]\ttrain-rmse:8.96543+0.0313696\ttest-rmse:10.9047+0.0846606\n",
      "[39]\ttrain-rmse:8.93585+0.027712\ttest-rmse:10.9193+0.0876865\n",
      "[40]\ttrain-rmse:8.90853+0.0217976\ttest-rmse:10.9248+0.0899729\n",
      "[41]\ttrain-rmse:8.87968+0.0238666\ttest-rmse:10.9307+0.085753\n",
      "[42]\ttrain-rmse:8.86212+0.0152774\ttest-rmse:10.9359+0.0875324\n",
      "[43]\ttrain-rmse:8.84262+0.0220495\ttest-rmse:10.9424+0.0908374\n",
      "[44]\ttrain-rmse:8.81366+0.0216949\ttest-rmse:10.9503+0.0801352\n",
      "[45]\ttrain-rmse:8.78428+0.00813203\ttest-rmse:10.9601+0.0811515\n",
      "[46]\ttrain-rmse:8.76309+0.0121663\ttest-rmse:10.9652+0.0787308\n",
      "[47]\ttrain-rmse:8.74543+0.0142894\ttest-rmse:10.9686+0.0811979\n",
      "[48]\ttrain-rmse:8.71372+0.0149781\ttest-rmse:10.984+0.081641\n",
      "[49]\ttrain-rmse:8.69206+0.0185536\ttest-rmse:10.9933+0.0811188\n",
      "[50]\ttrain-rmse:8.66657+0.0248443\ttest-rmse:11.0002+0.0756235\n",
      "[51]\ttrain-rmse:8.63322+0.0200164\ttest-rmse:11.0164+0.0825747\n",
      "[52]\ttrain-rmse:8.60847+0.0234652\ttest-rmse:11.0181+0.0807637\n",
      "[53]\ttrain-rmse:8.58072+0.0209016\ttest-rmse:11.0153+0.081872\n",
      "[54]\ttrain-rmse:8.5636+0.0255669\ttest-rmse:11.0254+0.0985589\n",
      "[55]\ttrain-rmse:8.54466+0.031568\ttest-rmse:11.037+0.0936453\n",
      "[56]\ttrain-rmse:8.52599+0.0378826\ttest-rmse:11.0422+0.0931359\n",
      "[57]\ttrain-rmse:8.50922+0.038421\ttest-rmse:11.0467+0.0909498\n",
      "[58]\ttrain-rmse:8.48706+0.0462137\ttest-rmse:11.0545+0.0847591\n",
      "[59]\ttrain-rmse:8.46818+0.0418618\ttest-rmse:11.0558+0.0872036\n",
      "[60]\ttrain-rmse:8.44442+0.0401122\ttest-rmse:11.0572+0.0812421\n",
      "[61]\ttrain-rmse:8.413+0.0479416\ttest-rmse:11.065+0.0878445\n",
      "[62]\ttrain-rmse:8.38645+0.04943\ttest-rmse:11.0721+0.0978425\n",
      "[63]\ttrain-rmse:8.36183+0.0409989\ttest-rmse:11.0799+0.0921477\n",
      "[64]\ttrain-rmse:8.34051+0.0466341\ttest-rmse:11.0853+0.0889123\n",
      "[65]\ttrain-rmse:8.32122+0.0536449\ttest-rmse:11.0889+0.0903535\n",
      "[66]\ttrain-rmse:8.30003+0.0527716\ttest-rmse:11.0977+0.0960539\n",
      "\n",
      "Model Report\n",
      "Mean Square Error : 95.82\n"
     ]
    },
    {
     "data": {
      "image/png": "[encoded data removed]",
      "text/plain": [
       "<matplotlib.figure.Figure at 0x113b1f850>"
      ]
     },
     "metadata": {},
     "output_type": "display_data"
    }
   ],
   "source": [
    "xgb1 = XGBRegressor(\n",
    "        learning_rate =1,\n",
    "        n_estimators= 200,\n",
    "        max_depth=6,\n",
    "        min_child_weight=1,\n",
    "        gamma=0,\n",
    "        subsample=1,\n",
    "        colsample_bytree=0.4,\n",
    "        objective= 'reg:linear',\n",
    "        nthread=4,\n",
    "        scale_pos_weight=1,\n",
    "        seed=2017)\n",
    "xgb_modelfit(xgb1, cadence_X_train, cadence_y)"
   ]
  },
  {
   "cell_type": "markdown",
   "metadata": {},
   "source": [
    "use learning_rate = 1, n_estimators = 100 to tune parameters"
   ]
  },
  {
   "cell_type": "code",
   "execution_count": 103,
   "metadata": {
    "collapsed": false
   },
   "outputs": [
    {
     "name": "stdout",
     "output_type": "stream",
     "text": [
      "Fitting 5 folds for each of 9 candidates, totalling 45 fits\n"
     ]
    },
    {
     "name": "stderr",
     "output_type": "stream",
     "text": [
      "[Parallel(n_jobs=4)]: Done  45 out of  45 | elapsed:  6.4min finished\n"
     ]
    },
    {
     "data": {
      "text/plain": [
       "GridSearchCV(cv=5, error_score='raise',\n",
       "       estimator=XGBRegressor(base_score=0.5, colsample_bylevel=1, colsample_bytree=0.4,\n",
       "       gamma=0, learning_rate=1, max_delta_step=0, max_depth=3,\n",
       "       min_child_weight=1, missing=None, n_estimators=100, nthread=4,\n",
       "       objective='reg:linear', reg_alpha=0, reg_lambda=1,\n",
       "       scale_pos_weight=1, seed=2017, silent=True, subsample=1),\n",
       "       fit_params={}, iid=False, n_jobs=4,\n",
       "       param_grid={'max_depth': [4, 5, 6], 'min_child_weight': [3, 4, 5]},\n",
       "       pre_dispatch='2*n_jobs', refit=True, return_train_score=True,\n",
       "       scoring='neg_mean_squared_error', verbose=True)"
      ]
     },
     "execution_count": 103,
     "metadata": {},
     "output_type": "execute_result"
    }
   ],
   "source": [
    "c_param_test1 = {\n",
    "    'max_depth':[4,5,6],\n",
    "    'min_child_weight':[3,4,5]\n",
    "}\n",
    "c_gsearch1 = GridSearchCV(estimator = XGBRegressor( learning_rate = 1, n_estimators= 100, \n",
    "                                        min_child_weight=1, gamma=0, subsample=1, colsample_bytree=0.4,\n",
    "                                        objective= 'reg:linear', nthread=4, seed=2017), \n",
    "                       param_grid = c_param_test1, scoring='neg_mean_squared_error',n_jobs=4,iid=False, cv=5,verbose = True)\n",
    "c_gsearch1.fit(cadence_X_train, cadence_y)"
   ]
  },
  {
   "cell_type": "code",
   "execution_count": 104,
   "metadata": {
    "collapsed": false
   },
   "outputs": [
    {
     "name": "stderr",
     "output_type": "stream",
     "text": [
      "/Users/xbj/anaconda/lib/python2.7/site-packages/sklearn/model_selection/_search.py:667: DeprecationWarning: The grid_scores_ attribute was deprecated in version 0.18 in favor of the more elaborate cv_results_ attribute. The grid_scores_ attribute will not be available from 0.20\n",
      "  DeprecationWarning)\n"
     ]
    },
    {
     "data": {
      "text/plain": [
       "([mean: -132.97160, std: 29.37225, params: {'max_depth': 4, 'min_child_weight': 3},\n",
       "  mean: -135.63316, std: 33.46226, params: {'max_depth': 4, 'min_child_weight': 4},\n",
       "  mean: -133.05091, std: 30.88534, params: {'max_depth': 4, 'min_child_weight': 5},\n",
       "  mean: -140.80962, std: 29.96827, params: {'max_depth': 5, 'min_child_weight': 3},\n",
       "  mean: -138.62335, std: 28.13034, params: {'max_depth': 5, 'min_child_weight': 4},\n",
       "  mean: -140.25675, std: 32.20013, params: {'max_depth': 5, 'min_child_weight': 5},\n",
       "  mean: -150.13759, std: 30.31264, params: {'max_depth': 6, 'min_child_weight': 3},\n",
       "  mean: -146.50041, std: 36.11299, params: {'max_depth': 6, 'min_child_weight': 4},\n",
       "  mean: -146.57711, std: 32.92418, params: {'max_depth': 6, 'min_child_weight': 5}],\n",
       " -132.971596469628,\n",
       " {'max_depth': 4, 'min_child_weight': 3})"
      ]
     },
     "execution_count": 104,
     "metadata": {},
     "output_type": "execute_result"
    }
   ],
   "source": [
    "c_gsearch1.grid_scores_, c_gsearch1.best_score_, c_gsearch1.best_params_"
   ]
  },
  {
   "cell_type": "code",
   "execution_count": 106,
   "metadata": {
    "collapsed": false
   },
   "outputs": [
    {
     "name": "stdout",
     "output_type": "stream",
     "text": [
      "Fitting 5 folds for each of 9 candidates, totalling 45 fits\n"
     ]
    },
    {
     "name": "stderr",
     "output_type": "stream",
     "text": [
      "[Parallel(n_jobs=4)]: Done  45 out of  45 | elapsed:  4.4min finished\n"
     ]
    },
    {
     "data": {
      "text/plain": [
       "GridSearchCV(cv=5, error_score='raise',\n",
       "       estimator=XGBRegressor(base_score=0.5, colsample_bylevel=1, colsample_bytree=0.4,\n",
       "       gamma=0, learning_rate=1, max_delta_step=0, max_depth=3,\n",
       "       min_child_weight=1, missing=None, n_estimators=100, nthread=4,\n",
       "       objective='reg:linear', reg_alpha=0, reg_lambda=1,\n",
       "       scale_pos_weight=1, seed=2017, silent=True, subsample=1),\n",
       "       fit_params={}, iid=False, n_jobs=4,\n",
       "       param_grid={'max_depth': [2, 3, 4], 'min_child_weight': [1, 2, 3]},\n",
       "       pre_dispatch='2*n_jobs', refit=True, return_train_score=True,\n",
       "       scoring='neg_mean_squared_error', verbose=True)"
      ]
     },
     "execution_count": 106,
     "metadata": {},
     "output_type": "execute_result"
    }
   ],
   "source": [
    "c_param_test1b = {\n",
    "    'max_depth':[2,3,4],\n",
    "    'min_child_weight':[1,2,3]\n",
    "}\n",
    "c_gsearch1b = GridSearchCV(estimator = XGBRegressor( learning_rate = 1, n_estimators= 100, \n",
    "                                         gamma=0, subsample=1, colsample_bytree=0.4,\n",
    "                                        objective= 'reg:linear', nthread=4, seed=2017), \n",
    "                       param_grid = c_param_test1b, scoring='neg_mean_squared_error',n_jobs=4,iid=False, cv=5,verbose = True)\n",
    "c_gsearch1b.fit(cadence_X_train, cadence_y)"
   ]
  },
  {
   "cell_type": "code",
   "execution_count": 107,
   "metadata": {
    "collapsed": false
   },
   "outputs": [
    {
     "name": "stderr",
     "output_type": "stream",
     "text": [
      "/Users/xbj/anaconda/lib/python2.7/site-packages/sklearn/model_selection/_search.py:667: DeprecationWarning: The grid_scores_ attribute was deprecated in version 0.18 in favor of the more elaborate cv_results_ attribute. The grid_scores_ attribute will not be available from 0.20\n",
      "  DeprecationWarning)\n"
     ]
    },
    {
     "data": {
      "text/plain": [
       "([mean: -130.10253, std: 34.48733, params: {'max_depth': 2, 'min_child_weight': 1},\n",
       "  mean: -133.23662, std: 38.31277, params: {'max_depth': 2, 'min_child_weight': 2},\n",
       "  mean: -131.13276, std: 35.92480, params: {'max_depth': 2, 'min_child_weight': 3},\n",
       "  mean: -127.27722, std: 26.40977, params: {'max_depth': 3, 'min_child_weight': 1},\n",
       "  mean: -126.87337, std: 27.12933, params: {'max_depth': 3, 'min_child_weight': 2},\n",
       "  mean: -129.44542, std: 29.13559, params: {'max_depth': 3, 'min_child_weight': 3},\n",
       "  mean: -131.52442, std: 31.72120, params: {'max_depth': 4, 'min_child_weight': 1},\n",
       "  mean: -134.85211, std: 31.43745, params: {'max_depth': 4, 'min_child_weight': 2},\n",
       "  mean: -132.97160, std: 29.37225, params: {'max_depth': 4, 'min_child_weight': 3}],\n",
       " -126.87336661984628,\n",
       " {'max_depth': 3, 'min_child_weight': 2})"
      ]
     },
     "execution_count": 107,
     "metadata": {},
     "output_type": "execute_result"
    }
   ],
   "source": [
    "c_gsearch1b.grid_scores_, c_gsearch1b.best_score_, c_gsearch1b.best_params_"
   ]
  },
  {
   "cell_type": "code",
   "execution_count": 110,
   "metadata": {
    "collapsed": false
   },
   "outputs": [
    {
     "name": "stdout",
     "output_type": "stream",
     "text": [
      "Fitting 5 folds for each of 4 candidates, totalling 20 fits\n"
     ]
    },
    {
     "name": "stderr",
     "output_type": "stream",
     "text": [
      "[Parallel(n_jobs=4)]: Done  20 out of  20 | elapsed:  1.9min finished\n"
     ]
    },
    {
     "data": {
      "text/plain": [
       "GridSearchCV(cv=5, error_score='raise',\n",
       "       estimator=XGBRegressor(base_score=0.5, colsample_bylevel=1, colsample_bytree=1, gamma=0,\n",
       "       learning_rate=1, max_delta_step=0, max_depth=3, min_child_weight=2,\n",
       "       missing=None, n_estimators=100, nthread=4, objective='reg:linear',\n",
       "       reg_alpha=0, reg_lambda=1, scale_pos_weight=1, seed=2017,\n",
       "       silent=True, subsample=1),\n",
       "       fit_params={}, iid=False, n_jobs=4,\n",
       "       param_grid={'colsample_bytree': [0.2, 0.3, 0.4, 0.5]},\n",
       "       pre_dispatch='2*n_jobs', refit=True, return_train_score=True,\n",
       "       scoring='neg_mean_squared_error', verbose=True)"
      ]
     },
     "execution_count": 110,
     "metadata": {},
     "output_type": "execute_result"
    }
   ],
   "source": [
    "c_param_test2 = {\n",
    "    'colsample_bytree':[0.2, 0.3, 0.4, 0.5]\n",
    "}\n",
    "c_gsearch2 = GridSearchCV(estimator = XGBRegressor(learning_rate = 1, n_estimators= 100, max_depth= 3,\n",
    "                                         gamma=0, subsample=1, min_child_weight = 2,\n",
    "                                        objective= 'reg:linear', nthread=4, seed=2017), \n",
    "                       param_grid = c_param_test2, scoring='neg_mean_squared_error',n_jobs=4,iid=False, cv=5,verbose = True)\n",
    "c_gsearch2.fit(cadence_X_train, cadence_y)"
   ]
  },
  {
   "cell_type": "code",
   "execution_count": 111,
   "metadata": {
    "collapsed": false
   },
   "outputs": [
    {
     "name": "stderr",
     "output_type": "stream",
     "text": [
      "/Users/xbj/anaconda/lib/python2.7/site-packages/sklearn/model_selection/_search.py:667: DeprecationWarning: The grid_scores_ attribute was deprecated in version 0.18 in favor of the more elaborate cv_results_ attribute. The grid_scores_ attribute will not be available from 0.20\n",
      "  DeprecationWarning)\n"
     ]
    },
    {
     "data": {
      "text/plain": [
       "([mean: -128.17183, std: 29.59397, params: {'colsample_bytree': 0.2},\n",
       "  mean: -128.72772, std: 32.00406, params: {'colsample_bytree': 0.3},\n",
       "  mean: -126.87337, std: 27.12933, params: {'colsample_bytree': 0.4},\n",
       "  mean: -129.29859, std: 27.69490, params: {'colsample_bytree': 0.5}],\n",
       " -126.87336661984628,\n",
       " {'colsample_bytree': 0.4})"
      ]
     },
     "execution_count": 111,
     "metadata": {},
     "output_type": "execute_result"
    }
   ],
   "source": [
    "c_gsearch2.grid_scores_, c_gsearch2.best_score_, c_gsearch2.best_params_"
   ]
  },
  {
   "cell_type": "code",
   "execution_count": 60,
   "metadata": {
    "collapsed": false
   },
   "outputs": [
    {
     "name": "stdout",
     "output_type": "stream",
     "text": [
      "Fitting 5 folds for each of 1 candidates, totalling 5 fits\n"
     ]
    },
    {
     "name": "stderr",
     "output_type": "stream",
     "text": [
      "[Parallel(n_jobs=4)]: Done   5 out of   5 | elapsed:  6.4min finished\n"
     ]
    },
    {
     "data": {
      "text/plain": [
       "GridSearchCV(cv=5, error_score='raise',\n",
       "       estimator=XGBRegressor(base_score=0.5, colsample_bylevel=1, colsample_bytree=0.4,\n",
       "       gamma=0, learning_rate=0.1, max_delta_step=0, max_depth=3,\n",
       "       min_child_weight=2, missing=None, n_estimators=100, nthread=4,\n",
       "       objective='reg:linear', reg_alpha=0, reg_lambda=1,\n",
       "       scale_pos_weight=1, seed=2017, silent=True, subsample=1),\n",
       "       fit_params={}, iid=False, n_jobs=4,\n",
       "       param_grid={'n_estimators': [1000], 'learning_rate': [0.1]},\n",
       "       pre_dispatch='2*n_jobs', refit=True, return_train_score=True,\n",
       "       scoring='neg_mean_squared_error', verbose=True)"
      ]
     },
     "execution_count": 60,
     "metadata": {},
     "output_type": "execute_result"
    }
   ],
   "source": [
    "c_param_test3 = {\n",
    "    'learning_rate':[0.1],\n",
    "    'n_estimators':[1000]\n",
    "}\n",
    "c_gsearch3 = GridSearchCV(estimator = XGBRegressor(gamma=0, subsample=1, colsample_bytree=0.4,max_depth=3,\n",
    "                                                   min_child_weight=2, objective= 'reg:linear', nthread=4, seed=2017), \n",
    "                       param_grid = c_param_test3, scoring='neg_mean_squared_error',n_jobs=4,iid=False, cv=5,verbose = True)\n",
    "c_gsearch3.fit(cadence_X_train, cadence_y)"
   ]
  },
  {
   "cell_type": "code",
   "execution_count": 114,
   "metadata": {
    "collapsed": false
   },
   "outputs": [
    {
     "name": "stderr",
     "output_type": "stream",
     "text": [
      "/Users/xbj/anaconda/lib/python2.7/site-packages/sklearn/model_selection/_search.py:667: DeprecationWarning: The grid_scores_ attribute was deprecated in version 0.18 in favor of the more elaborate cv_results_ attribute. The grid_scores_ attribute will not be available from 0.20\n",
      "  DeprecationWarning)\n"
     ]
    },
    {
     "data": {
      "text/plain": [
       "([mean: -118.94572, std: 27.65405, params: {'n_estimators': 500, 'learning_rate': 0.05},\n",
       "  mean: -115.34686, std: 26.45173, params: {'n_estimators': 1000, 'learning_rate': 0.05},\n",
       "  mean: -116.05697, std: 27.05830, params: {'n_estimators': 500, 'learning_rate': 0.1},\n",
       "  mean: -113.80983, std: 26.54353, params: {'n_estimators': 1000, 'learning_rate': 0.1},\n",
       "  mean: -117.45024, std: 26.74864, params: {'n_estimators': 500, 'learning_rate': 0.5},\n",
       "  mean: -120.02267, std: 27.66735, params: {'n_estimators': 1000, 'learning_rate': 0.5}],\n",
       " -113.80983023350461,\n",
       " {'learning_rate': 0.1, 'n_estimators': 1000})"
      ]
     },
     "execution_count": 114,
     "metadata": {},
     "output_type": "execute_result"
    }
   ],
   "source": [
    "c_gsearch3.grid_scores_, c_gsearch3.best_score_, c_gsearch3.best_params_"
   ]
  },
  {
   "cell_type": "markdown",
   "metadata": {},
   "source": [
    "### 3. Cadence: AdaBoost"
   ]
  },
  {
   "cell_type": "code",
   "execution_count": 21,
   "metadata": {
    "collapsed": false
   },
   "outputs": [],
   "source": [
    "from sklearn.ensemble import AdaBoostRegressor\n",
    "from sklearn.tree import DecisionTreeRegressor\n",
    "from sklearn.model_selection import cross_val_score\n",
    "rd = DecisionTreeRegressor(max_depth=7)\n",
    "clf = AdaBoostRegressor(n_estimators=500,base_estimator=rd, learning_rate = 0.5, random_state= 2017)\n",
    "scores = cross_val_score(clf, cadence_X_train, cadence_y, scoring = \"neg_mean_squared_error\", n_jobs=2)\n",
    "# param_grid = {'n_estimators': [1000], 'max_features': [0.2]}\n",
    "# cadence_model_randomForestRegressor = GridSearchCV(estimator=rfr, param_grid=param_grid, \n",
    "#                                                    n_jobs=-1, cv=5, verbose=20, scoring=\"neg_mean_squared_error\")\n",
    "# cadence_model_AdaBoost.fit(cadence_X_train,cadence_y)"
   ]
  },
  {
   "cell_type": "code",
   "execution_count": 22,
   "metadata": {
    "collapsed": false
   },
   "outputs": [
    {
     "data": {
      "text/plain": [
       "array([-653.71006308, -785.60322364, -513.625924  ])"
      ]
     },
     "execution_count": 22,
     "metadata": {},
     "output_type": "execute_result"
    }
   ],
   "source": [
    "scores"
   ]
  },
  {
   "cell_type": "markdown",
   "metadata": {},
   "source": [
    "### 4. XGM model (Cadence)\n",
    "There 2 types of parameters here:\n",
    "1. Tree-specific parameters\n",
    "  * min_samples_split\n",
    "  * min_samples_leaf\n",
    "  * max_depth\n",
    "  * min_leaf_nodes\n",
    "  * max_features\n",
    "  * loss function\n",
    "2. Boosting specific paramters\n",
    "  * n_estimators\n",
    "  * learning_rate\n",
    "  * subsample\n",
    "\n",
    "\n",
    "**Step1. 首先确定一个暂定的learning_rate和n_estimators**\n",
    "\n",
    "**Step2. 然后用1中的learning_rate和n_estimators来调整tree-specific paramters**\n",
    "\n",
    "**Step3. 然后用tree-specific paramters来调整Boosting specific paramters**"
   ]
  },
  {
   "cell_type": "markdown",
   "metadata": {},
   "source": [
    "##### Step 1- Find the number of estimators for a high learning rate\n",
    "\n",
    "We will use the following benchmarks for parameters:\n",
    "1. min_samples_split = 500 : ~0.5-1% of total values. Since this is imbalanced class problem, we'll take small value\n",
    "2. min_samples_leaf = 50 : Just using for preventing overfitting. will be tuned later.\n",
    "3. max_depth = 8 : since high number of observations and predictors, choose relatively high value\n",
    "4. max_features = 'sqrt' : general thumbrule to start with\n",
    "5. subsample = 0.8 : typically used value (will be tuned later)\n"
   ]
  },
  {
   "cell_type": "code",
   "execution_count": 73,
   "metadata": {
    "collapsed": false
   },
   "outputs": [
    {
     "data": {
      "text/plain": [
       "GridSearchCV(cv=3, error_score='raise',\n",
       "       estimator=GradientBoostingRegressor(alpha=0.9, criterion='friedman_mse', init=None,\n",
       "             learning_rate=0.1, loss='ls', max_depth=8,\n",
       "             max_features='sqrt', max_leaf_nodes=None,\n",
       "             min_impurity_split=1e-07, min_samples_leaf=50,\n",
       "             min_samples_split=500, min_weight_fraction_leaf=0.0,\n",
       "             n_estimators=100, presort='auto', random_state=10,\n",
       "             subsample=0.8, verbose=0, warm_start=False),\n",
       "       fit_params={}, iid=False, n_jobs=4,\n",
       "       param_grid={'n_estimators': [100, 600, 1100, 1600]},\n",
       "       pre_dispatch='2*n_jobs', refit=True, return_train_score=True,\n",
       "       scoring='neg_mean_squared_error', verbose=0)"
      ]
     },
     "execution_count": 73,
     "metadata": {},
     "output_type": "execute_result"
    }
   ],
   "source": [
    "#Choose all predictors except target & IDcols\n",
    "param_test1 = {'n_estimators':range(100,2000,500)}\n",
    "gsearch1 = GridSearchCV(estimator = GradientBoostingRegressor(learning_rate= 0.1 , min_samples_split=500,\n",
    "                                  min_samples_leaf=50,max_depth=8,max_features='sqrt', subsample=0.8,random_state=10), \n",
    "                       param_grid = param_test1, scoring='neg_mean_squared_error',n_jobs=4,iid=False, cv=3)\n",
    "gsearch1.fit(cadence_X_train, cadence_y)"
   ]
  },
  {
   "cell_type": "code",
   "execution_count": 74,
   "metadata": {
    "collapsed": false
   },
   "outputs": [
    {
     "name": "stderr",
     "output_type": "stream",
     "text": [
      "/Users/xbj/anaconda/lib/python2.7/site-packages/sklearn/model_selection/_search.py:667: DeprecationWarning: The grid_scores_ attribute was deprecated in version 0.18 in favor of the more elaborate cv_results_ attribute. The grid_scores_ attribute will not be available from 0.20\n",
      "  DeprecationWarning)\n"
     ]
    },
    {
     "data": {
      "text/plain": [
       "([mean: -127.34266, std: 30.70390, params: {'n_estimators': 100},\n",
       "  mean: -121.04671, std: 26.27690, params: {'n_estimators': 600},\n",
       "  mean: -120.55431, std: 25.27134, params: {'n_estimators': 1100},\n",
       "  mean: -120.54131, std: 24.63748, params: {'n_estimators': 1600}],\n",
       " {'n_estimators': 1600},\n",
       " -120.54130533055474)"
      ]
     },
     "execution_count": 74,
     "metadata": {},
     "output_type": "execute_result"
    }
   ],
   "source": [
    "gsearch1.grid_scores_, gsearch1.best_params_, gsearch1.best_score_"
   ]
  },
  {
   "cell_type": "markdown",
   "metadata": {},
   "source": [
    "So we got 50 as the optimal estimators for the 1 learning rate. \n",
    "\n",
    "## Step 2- Tune tree-specific parameters\n",
    "Now, lets move onto tuning the tree parameters. We will do this in 2 stages:\n",
    "1. Tune max_depth and num_samples_split\n",
    "2. Tune min_samples_leaf\n",
    "3. Tune max_features"
   ]
  },
  {
   "cell_type": "code",
   "execution_count": 43,
   "metadata": {
    "collapsed": false
   },
   "outputs": [
    {
     "data": {
      "text/plain": [
       "GridSearchCV(cv=5, error_score='raise',\n",
       "       estimator=GradientBoostingRegressor(alpha=0.9, criterion='friedman_mse', init=None,\n",
       "             learning_rate=1, loss='ls', max_depth=3, max_features='sqrt',\n",
       "             max_leaf_nodes=None, min_impurity_split=1e-07,\n",
       "             min_samples_leaf=50, min_samples_split=2,\n",
       "             min_weight_fraction_leaf=0.0, n_estimators=50, presort='auto',\n",
       "             random_state=10, subsample=0.8, verbose=0, warm_start=False),\n",
       "       fit_params={}, iid=False, n_jobs=4,\n",
       "       param_grid={'min_samples_split': [200, 300, 400, 500, 600, 700, 800, 900, 1000], 'max_depth': [5, 7, 9, 11, 13, 15]},\n",
       "       pre_dispatch='2*n_jobs', refit=True, return_train_score=True,\n",
       "       scoring='neg_mean_squared_error', verbose=0)"
      ]
     },
     "execution_count": 43,
     "metadata": {},
     "output_type": "execute_result"
    }
   ],
   "source": [
    "param_test2 = {'max_depth':range(5,16,2), 'min_samples_split':range(200,1001,100)}\n",
    "gsearch2 = GridSearchCV(estimator = GradientBoostingRegressor(learning_rate=1, n_estimators= 50,\n",
    "                                  min_samples_leaf=50,max_features='sqrt', subsample=0.8,random_state=10), \n",
    "                       param_grid = param_test2, scoring='neg_mean_squared_error',n_jobs=4,iid=False, cv=5)\n",
    "gsearch2.fit(cadence_X_train, cadence_y)"
   ]
  },
  {
   "cell_type": "markdown",
   "metadata": {},
   "source": [
    "we get the follow as optimal parameter\n",
    "1. max_depth: 5\n",
    "2. min_samples_split :400\n",
    "\n",
    "#### Now let's tune max_features\n",
    "we test sqrt to 30%"
   ]
  },
  {
   "cell_type": "code",
   "execution_count": null,
   "metadata": {
    "collapsed": false
   },
   "outputs": [],
   "source": [
    "gsearch3.best_estimator_, gsearch3.best_params_,gsearch3.best_score_"
   ]
  },
  {
   "cell_type": "markdown",
   "metadata": {},
   "source": [
    "### Predict (Cadence)"
   ]
  },
  {
   "cell_type": "code",
   "execution_count": 63,
   "metadata": {
    "collapsed": false
   },
   "outputs": [],
   "source": [
    "# define a function for predict result\n",
    "def cadenec_predict(model):\n",
    "    cadence_test.loc[:,'Cadence'] = model.predict(cadence_X_test)\n",
    "    result = cadence_test.loc[:,['Id','Cadence']]\n",
    "    return result"
   ]
  },
  {
   "cell_type": "code",
   "execution_count": 64,
   "metadata": {
    "collapsed": false
   },
   "outputs": [],
   "source": [
    "cadence_result = cadenec_predict(c_gsearch3.best_estimator_)"
   ]
  },
  {
   "cell_type": "markdown",
   "metadata": {},
   "source": [
    "# Part3: Power: Data Preprocessing"
   ]
  },
  {
   "cell_type": "code",
   "execution_count": 44,
   "metadata": {
    "collapsed": false
   },
   "outputs": [],
   "source": [
    "power = all_data"
   ]
  },
  {
   "cell_type": "code",
   "execution_count": 45,
   "metadata": {
    "collapsed": false
   },
   "outputs": [],
   "source": [
    "# Add new feature Season\n",
    "power.loc[lambda d:(d.Month >=3) & (d.Month <=5), 'Season'] = 'Spring'\n",
    "power.loc[lambda d:(d.Month >=6) & (d.Month <=8), 'Season'] = 'Summer'\n",
    "power.loc[lambda d:(d.Month >=9) & (d.Month <=11), 'Season'] = 'Autumn'\n",
    "power.loc[lambda d:(d.Month == 12) | (d.Month <=2), 'Season'] = 'Winter'\n",
    "\n",
    "# Add new feature, day,night\n",
    "power['Day_Time'] = 0\n",
    "power.loc[lambda d:(d.Hour >=6) &(d.Hour <=18), 'Day_Time'] = 1\n",
    "\n",
    "# Add New feature, Max_\n",
    "power['Max_GradientVs0'] = 1\n",
    "power.loc[lambda d:d.Max_Gradient < 0, 'Max_GradientVs0'] = -1"
   ]
  },
  {
   "cell_type": "code",
   "execution_count": 46,
   "metadata": {
    "collapsed": false
   },
   "outputs": [],
   "source": [
    "# feature engineering\n",
    "dropColumns = ['Index','Date','Time','Moving_time','Month','Day','Hour']\n",
    "power = power.drop(dropColumns, axis = 1)\n",
    "power.RiderID = power.RiderID.astype('category')\n",
    "power.Year = power.Year.astype('category')\n",
    "power.Season = power.Season.astype('category')\n",
    "power['Speed^2'] = power.Speed**2\n",
    "power['Speed^3'] = power.Speed**3\n",
    "power['Average_point'] = (power.Highest_point + power.Lowest_point)/2\n",
    "power['Max_Avg_Gradient'] = power.Max_Gradient - power.Average_Gradient\n",
    "power['Max_Avg_heart_rage'] = power.Max_heart_rate - power.Average_heart_rate\n",
    "power['Energy'] = power.Power * power.Measured_time\n",
    "power = pd.get_dummies(power)"
   ]
  },
  {
   "cell_type": "code",
   "execution_count": 47,
   "metadata": {
    "collapsed": false
   },
   "outputs": [],
   "source": [
    "power_train = power.dropna(subset=['Cadence','Power'],how = 'any')\n",
    "power_test = power.loc[power['Power'].isnull()]\n",
    "dropList = ['Power','Id','Energy']\n",
    "power_X_train, power_y = power_train.drop(dropList, axis=1), power_train['Energy']\n",
    "columns = power_X_train.columns\n",
    "power_X_test = power_test.drop(dropList, axis=1)"
   ]
  },
  {
   "cell_type": "code",
   "execution_count": 48,
   "metadata": {
    "collapsed": false
   },
   "outputs": [
    {
     "data": {
      "text/plain": [
       "Index([u'Average_Gradient', u'Average_heart_rate', u'Cadence', u'Distance',\n",
       "       u'Highest_point', u'Lowest_point', u'Max_Gradient', u'Max_heart_rate',\n",
       "       u'Measured_time', u'Speed', u'Average_point', u'Day_Time',\n",
       "       u'Max_GradientVs0', u'Speed^2', u'Speed^3', u'Max_Avg_Gradient',\n",
       "       u'Max_Avg_heart_rage', u'RiderID_1', u'RiderID_2', u'RiderID_3',\n",
       "       u'RiderID_4', u'RiderID_5', u'RiderID_6', u'RiderID_7', u'RiderID_8',\n",
       "       u'RiderID_9', u'RiderID_10', u'RiderID_11', u'RiderID_12',\n",
       "       u'RiderID_13', u'RiderID_14', u'RiderID_15', u'Year_2008', u'Year_2009',\n",
       "       u'Year_2010', u'Year_2011', u'Year_2012', u'Year_2013', u'Year_2014',\n",
       "       u'Year_2015', u'Year_2016', u'Season_Autumn', u'Season_Spring',\n",
       "       u'Season_Summer', u'Season_Winter'],\n",
       "      dtype='object')"
      ]
     },
     "execution_count": 48,
     "metadata": {},
     "output_type": "execute_result"
    }
   ],
   "source": [
    "power_X_train.columns"
   ]
  },
  {
   "cell_type": "code",
   "execution_count": 65,
   "metadata": {
    "collapsed": false
   },
   "outputs": [
    {
     "data": {
      "text/plain": [
       "Index([u'Average_Gradient', u'Average_heart_rate', u'Cadence', u'Distance',\n",
       "       u'Highest_point', u'Id', u'Lowest_point', u'Max_Gradient',\n",
       "       u'Max_heart_rate', u'Measured_time', u'Power', u'Speed',\n",
       "       u'Average_point', u'Day_Time', u'Max_GradientVs0', u'Speed^2',\n",
       "       u'Speed^3', u'Max_Avg_Gradient', u'Max_Avg_heart_rage', u'Energy',\n",
       "       u'RiderID_1', u'RiderID_2', u'RiderID_3', u'RiderID_4', u'RiderID_5',\n",
       "       u'RiderID_6', u'RiderID_7', u'RiderID_8', u'RiderID_9', u'RiderID_10',\n",
       "       u'RiderID_11', u'RiderID_12', u'RiderID_13', u'RiderID_14',\n",
       "       u'RiderID_15', u'Year_2008', u'Year_2009', u'Year_2010', u'Year_2011',\n",
       "       u'Year_2012', u'Year_2013', u'Year_2014', u'Year_2015', u'Year_2016',\n",
       "       u'Season_Autumn', u'Season_Spring', u'Season_Summer', u'Season_Winter',\n",
       "       u'Engery'],\n",
       "      dtype='object')"
      ]
     },
     "execution_count": 65,
     "metadata": {},
     "output_type": "execute_result"
    }
   ],
   "source": [
    "power_test.columns"
   ]
  },
  {
   "cell_type": "markdown",
   "metadata": {},
   "source": [
    "## Power: Models"
   ]
  },
  {
   "cell_type": "markdown",
   "metadata": {},
   "source": [
    "## Power: RandomForestRegressor"
   ]
  },
  {
   "cell_type": "code",
   "execution_count": 28,
   "metadata": {
    "collapsed": false
   },
   "outputs": [
    {
     "name": "stdout",
     "output_type": "stream",
     "text": [
      "Fitting 5 folds for each of 2 candidates, totalling 10 fits\n",
      "[CV] max_features=0.2, n_estimators=1000 .............................\n",
      "[CV]  max_features=0.2, n_estimators=1000, score=-1954.285316, total= 9.2min\n"
     ]
    },
    {
     "name": "stderr",
     "output_type": "stream",
     "text": [
      "[Parallel(n_jobs=1)]: Done   1 out of   1 | elapsed: 11.1min remaining:    0.0s\n"
     ]
    },
    {
     "name": "stdout",
     "output_type": "stream",
     "text": [
      "[CV] max_features=0.2, n_estimators=1000 .............................\n",
      "[CV]  max_features=0.2, n_estimators=1000, score=-3255.465330, total=10.1min\n"
     ]
    },
    {
     "name": "stderr",
     "output_type": "stream",
     "text": [
      "[Parallel(n_jobs=1)]: Done   2 out of   2 | elapsed: 22.7min remaining:    0.0s\n"
     ]
    },
    {
     "name": "stdout",
     "output_type": "stream",
     "text": [
      "[CV] max_features=0.2, n_estimators=1000 .............................\n",
      "[CV]  max_features=0.2, n_estimators=1000, score=-2745.031442, total= 9.5min\n"
     ]
    },
    {
     "name": "stderr",
     "output_type": "stream",
     "text": [
      "[Parallel(n_jobs=1)]: Done   3 out of   3 | elapsed: 33.6min remaining:    0.0s\n"
     ]
    },
    {
     "name": "stdout",
     "output_type": "stream",
     "text": [
      "[CV] max_features=0.2, n_estimators=1000 .............................\n"
     ]
    },
    {
     "ename": "KeyboardInterrupt",
     "evalue": "",
     "output_type": "error",
     "traceback": [
      "\u001b[0;31m---------------------------------------------------------------------------\u001b[0m",
      "\u001b[0;31mKeyboardInterrupt\u001b[0m                         Traceback (most recent call last)",
      "\u001b[0;32m<ipython-input-28-f3bffee640b5>\u001b[0m in \u001b[0;36m<module>\u001b[0;34m()\u001b[0m\n\u001b[1;32m      4\u001b[0m \u001b[0mparam_grid\u001b[0m \u001b[0;34m=\u001b[0m \u001b[0;34m{\u001b[0m\u001b[0;34m'n_estimators'\u001b[0m\u001b[0;34m:\u001b[0m \u001b[0;34m[\u001b[0m\u001b[0;36m1000\u001b[0m\u001b[0;34m]\u001b[0m\u001b[0;34m,\u001b[0m \u001b[0;34m'max_features'\u001b[0m\u001b[0;34m:\u001b[0m \u001b[0;34m[\u001b[0m\u001b[0;36m0.2\u001b[0m\u001b[0;34m,\u001b[0m \u001b[0;34m'sqrt'\u001b[0m\u001b[0;34m]\u001b[0m\u001b[0;34m}\u001b[0m\u001b[0;34m\u001b[0m\u001b[0m\n\u001b[1;32m      5\u001b[0m \u001b[0mpower_randomForest\u001b[0m \u001b[0;34m=\u001b[0m \u001b[0mGridSearchCV\u001b[0m\u001b[0;34m(\u001b[0m\u001b[0mestimator\u001b[0m\u001b[0;34m=\u001b[0m\u001b[0mrfr\u001b[0m\u001b[0;34m,\u001b[0m \u001b[0mparam_grid\u001b[0m\u001b[0;34m=\u001b[0m\u001b[0mparam_grid\u001b[0m\u001b[0;34m,\u001b[0m \u001b[0mn_jobs\u001b[0m\u001b[0;34m=\u001b[0m\u001b[0;36m1\u001b[0m\u001b[0;34m,\u001b[0m \u001b[0mcv\u001b[0m\u001b[0;34m=\u001b[0m\u001b[0;36m5\u001b[0m\u001b[0;34m,\u001b[0m \u001b[0mverbose\u001b[0m\u001b[0;34m=\u001b[0m\u001b[0;36m20\u001b[0m\u001b[0;34m,\u001b[0m \u001b[0mscoring\u001b[0m\u001b[0;34m=\u001b[0m\u001b[0;34m\"neg_mean_squared_error\"\u001b[0m\u001b[0;34m)\u001b[0m\u001b[0;34m\u001b[0m\u001b[0m\n\u001b[0;32m----> 6\u001b[0;31m \u001b[0mpower_randomForest\u001b[0m\u001b[0;34m.\u001b[0m\u001b[0mfit\u001b[0m\u001b[0;34m(\u001b[0m\u001b[0mpower_X_train\u001b[0m\u001b[0;34m,\u001b[0m \u001b[0mpower_y\u001b[0m\u001b[0;34m)\u001b[0m\u001b[0;34m\u001b[0m\u001b[0m\n\u001b[0m",
      "\u001b[0;32m/Users/xbj/anaconda/lib/python2.7/site-packages/sklearn/model_selection/_search.pyc\u001b[0m in \u001b[0;36mfit\u001b[0;34m(self, X, y, groups)\u001b[0m\n\u001b[1;32m    943\u001b[0m             \u001b[0mtrain\u001b[0m\u001b[0;34m/\u001b[0m\u001b[0mtest\u001b[0m \u001b[0mset\u001b[0m\u001b[0;34m.\u001b[0m\u001b[0;34m\u001b[0m\u001b[0m\n\u001b[1;32m    944\u001b[0m         \"\"\"\n\u001b[0;32m--> 945\u001b[0;31m         \u001b[0;32mreturn\u001b[0m \u001b[0mself\u001b[0m\u001b[0;34m.\u001b[0m\u001b[0m_fit\u001b[0m\u001b[0;34m(\u001b[0m\u001b[0mX\u001b[0m\u001b[0;34m,\u001b[0m \u001b[0my\u001b[0m\u001b[0;34m,\u001b[0m \u001b[0mgroups\u001b[0m\u001b[0;34m,\u001b[0m \u001b[0mParameterGrid\u001b[0m\u001b[0;34m(\u001b[0m\u001b[0mself\u001b[0m\u001b[0;34m.\u001b[0m\u001b[0mparam_grid\u001b[0m\u001b[0;34m)\u001b[0m\u001b[0;34m)\u001b[0m\u001b[0;34m\u001b[0m\u001b[0m\n\u001b[0m\u001b[1;32m    946\u001b[0m \u001b[0;34m\u001b[0m\u001b[0m\n\u001b[1;32m    947\u001b[0m \u001b[0;34m\u001b[0m\u001b[0m\n",
      "\u001b[0;32m/Users/xbj/anaconda/lib/python2.7/site-packages/sklearn/model_selection/_search.pyc\u001b[0m in \u001b[0;36m_fit\u001b[0;34m(self, X, y, groups, parameter_iterable)\u001b[0m\n\u001b[1;32m    562\u001b[0m                                   \u001b[0mreturn_times\u001b[0m\u001b[0;34m=\u001b[0m\u001b[0mTrue\u001b[0m\u001b[0;34m,\u001b[0m \u001b[0mreturn_parameters\u001b[0m\u001b[0;34m=\u001b[0m\u001b[0mTrue\u001b[0m\u001b[0;34m,\u001b[0m\u001b[0;34m\u001b[0m\u001b[0m\n\u001b[1;32m    563\u001b[0m                                   error_score=self.error_score)\n\u001b[0;32m--> 564\u001b[0;31m           \u001b[0;32mfor\u001b[0m \u001b[0mparameters\u001b[0m \u001b[0;32min\u001b[0m \u001b[0mparameter_iterable\u001b[0m\u001b[0;34m\u001b[0m\u001b[0m\n\u001b[0m\u001b[1;32m    565\u001b[0m           for train, test in cv_iter)\n\u001b[1;32m    566\u001b[0m \u001b[0;34m\u001b[0m\u001b[0m\n",
      "\u001b[0;32m/Users/xbj/anaconda/lib/python2.7/site-packages/sklearn/externals/joblib/parallel.pyc\u001b[0m in \u001b[0;36m__call__\u001b[0;34m(self, iterable)\u001b[0m\n\u001b[1;32m    756\u001b[0m             \u001b[0;31m# was dispatched. In particular this covers the edge\u001b[0m\u001b[0;34m\u001b[0m\u001b[0;34m\u001b[0m\u001b[0m\n\u001b[1;32m    757\u001b[0m             \u001b[0;31m# case of Parallel used with an exhausted iterator.\u001b[0m\u001b[0;34m\u001b[0m\u001b[0;34m\u001b[0m\u001b[0m\n\u001b[0;32m--> 758\u001b[0;31m             \u001b[0;32mwhile\u001b[0m \u001b[0mself\u001b[0m\u001b[0;34m.\u001b[0m\u001b[0mdispatch_one_batch\u001b[0m\u001b[0;34m(\u001b[0m\u001b[0miterator\u001b[0m\u001b[0;34m)\u001b[0m\u001b[0;34m:\u001b[0m\u001b[0;34m\u001b[0m\u001b[0m\n\u001b[0m\u001b[1;32m    759\u001b[0m                 \u001b[0mself\u001b[0m\u001b[0;34m.\u001b[0m\u001b[0m_iterating\u001b[0m \u001b[0;34m=\u001b[0m \u001b[0mTrue\u001b[0m\u001b[0;34m\u001b[0m\u001b[0m\n\u001b[1;32m    760\u001b[0m             \u001b[0;32melse\u001b[0m\u001b[0;34m:\u001b[0m\u001b[0;34m\u001b[0m\u001b[0m\n",
      "\u001b[0;32m/Users/xbj/anaconda/lib/python2.7/site-packages/sklearn/externals/joblib/parallel.pyc\u001b[0m in \u001b[0;36mdispatch_one_batch\u001b[0;34m(self, iterator)\u001b[0m\n\u001b[1;32m    606\u001b[0m                 \u001b[0;32mreturn\u001b[0m \u001b[0mFalse\u001b[0m\u001b[0;34m\u001b[0m\u001b[0m\n\u001b[1;32m    607\u001b[0m             \u001b[0;32melse\u001b[0m\u001b[0;34m:\u001b[0m\u001b[0;34m\u001b[0m\u001b[0m\n\u001b[0;32m--> 608\u001b[0;31m                 \u001b[0mself\u001b[0m\u001b[0;34m.\u001b[0m\u001b[0m_dispatch\u001b[0m\u001b[0;34m(\u001b[0m\u001b[0mtasks\u001b[0m\u001b[0;34m)\u001b[0m\u001b[0;34m\u001b[0m\u001b[0m\n\u001b[0m\u001b[1;32m    609\u001b[0m                 \u001b[0;32mreturn\u001b[0m \u001b[0mTrue\u001b[0m\u001b[0;34m\u001b[0m\u001b[0m\n\u001b[1;32m    610\u001b[0m \u001b[0;34m\u001b[0m\u001b[0m\n",
      "\u001b[0;32m/Users/xbj/anaconda/lib/python2.7/site-packages/sklearn/externals/joblib/parallel.pyc\u001b[0m in \u001b[0;36m_dispatch\u001b[0;34m(self, batch)\u001b[0m\n\u001b[1;32m    569\u001b[0m         \u001b[0mdispatch_timestamp\u001b[0m \u001b[0;34m=\u001b[0m \u001b[0mtime\u001b[0m\u001b[0;34m.\u001b[0m\u001b[0mtime\u001b[0m\u001b[0;34m(\u001b[0m\u001b[0;34m)\u001b[0m\u001b[0;34m\u001b[0m\u001b[0m\n\u001b[1;32m    570\u001b[0m         \u001b[0mcb\u001b[0m \u001b[0;34m=\u001b[0m \u001b[0mBatchCompletionCallBack\u001b[0m\u001b[0;34m(\u001b[0m\u001b[0mdispatch_timestamp\u001b[0m\u001b[0;34m,\u001b[0m \u001b[0mlen\u001b[0m\u001b[0;34m(\u001b[0m\u001b[0mbatch\u001b[0m\u001b[0;34m)\u001b[0m\u001b[0;34m,\u001b[0m \u001b[0mself\u001b[0m\u001b[0;34m)\u001b[0m\u001b[0;34m\u001b[0m\u001b[0m\n\u001b[0;32m--> 571\u001b[0;31m         \u001b[0mjob\u001b[0m \u001b[0;34m=\u001b[0m \u001b[0mself\u001b[0m\u001b[0;34m.\u001b[0m\u001b[0m_backend\u001b[0m\u001b[0;34m.\u001b[0m\u001b[0mapply_async\u001b[0m\u001b[0;34m(\u001b[0m\u001b[0mbatch\u001b[0m\u001b[0;34m,\u001b[0m \u001b[0mcallback\u001b[0m\u001b[0;34m=\u001b[0m\u001b[0mcb\u001b[0m\u001b[0;34m)\u001b[0m\u001b[0;34m\u001b[0m\u001b[0m\n\u001b[0m\u001b[1;32m    572\u001b[0m         \u001b[0mself\u001b[0m\u001b[0;34m.\u001b[0m\u001b[0m_jobs\u001b[0m\u001b[0;34m.\u001b[0m\u001b[0mappend\u001b[0m\u001b[0;34m(\u001b[0m\u001b[0mjob\u001b[0m\u001b[0;34m)\u001b[0m\u001b[0;34m\u001b[0m\u001b[0m\n\u001b[1;32m    573\u001b[0m \u001b[0;34m\u001b[0m\u001b[0m\n",
      "\u001b[0;32m/Users/xbj/anaconda/lib/python2.7/site-packages/sklearn/externals/joblib/_parallel_backends.pyc\u001b[0m in \u001b[0;36mapply_async\u001b[0;34m(self, func, callback)\u001b[0m\n\u001b[1;32m    107\u001b[0m     \u001b[0;32mdef\u001b[0m \u001b[0mapply_async\u001b[0m\u001b[0;34m(\u001b[0m\u001b[0mself\u001b[0m\u001b[0;34m,\u001b[0m \u001b[0mfunc\u001b[0m\u001b[0;34m,\u001b[0m \u001b[0mcallback\u001b[0m\u001b[0;34m=\u001b[0m\u001b[0mNone\u001b[0m\u001b[0;34m)\u001b[0m\u001b[0;34m:\u001b[0m\u001b[0;34m\u001b[0m\u001b[0m\n\u001b[1;32m    108\u001b[0m         \u001b[0;34m\"\"\"Schedule a func to be run\"\"\"\u001b[0m\u001b[0;34m\u001b[0m\u001b[0m\n\u001b[0;32m--> 109\u001b[0;31m         \u001b[0mresult\u001b[0m \u001b[0;34m=\u001b[0m \u001b[0mImmediateResult\u001b[0m\u001b[0;34m(\u001b[0m\u001b[0mfunc\u001b[0m\u001b[0;34m)\u001b[0m\u001b[0;34m\u001b[0m\u001b[0m\n\u001b[0m\u001b[1;32m    110\u001b[0m         \u001b[0;32mif\u001b[0m \u001b[0mcallback\u001b[0m\u001b[0;34m:\u001b[0m\u001b[0;34m\u001b[0m\u001b[0m\n\u001b[1;32m    111\u001b[0m             \u001b[0mcallback\u001b[0m\u001b[0;34m(\u001b[0m\u001b[0mresult\u001b[0m\u001b[0;34m)\u001b[0m\u001b[0;34m\u001b[0m\u001b[0m\n",
      "\u001b[0;32m/Users/xbj/anaconda/lib/python2.7/site-packages/sklearn/externals/joblib/_parallel_backends.pyc\u001b[0m in \u001b[0;36m__init__\u001b[0;34m(self, batch)\u001b[0m\n\u001b[1;32m    324\u001b[0m         \u001b[0;31m# Don't delay the application, to avoid keeping the input\u001b[0m\u001b[0;34m\u001b[0m\u001b[0;34m\u001b[0m\u001b[0m\n\u001b[1;32m    325\u001b[0m         \u001b[0;31m# arguments in memory\u001b[0m\u001b[0;34m\u001b[0m\u001b[0;34m\u001b[0m\u001b[0m\n\u001b[0;32m--> 326\u001b[0;31m         \u001b[0mself\u001b[0m\u001b[0;34m.\u001b[0m\u001b[0mresults\u001b[0m \u001b[0;34m=\u001b[0m \u001b[0mbatch\u001b[0m\u001b[0;34m(\u001b[0m\u001b[0;34m)\u001b[0m\u001b[0;34m\u001b[0m\u001b[0m\n\u001b[0m\u001b[1;32m    327\u001b[0m \u001b[0;34m\u001b[0m\u001b[0m\n\u001b[1;32m    328\u001b[0m     \u001b[0;32mdef\u001b[0m \u001b[0mget\u001b[0m\u001b[0;34m(\u001b[0m\u001b[0mself\u001b[0m\u001b[0;34m)\u001b[0m\u001b[0;34m:\u001b[0m\u001b[0;34m\u001b[0m\u001b[0m\n",
      "\u001b[0;32m/Users/xbj/anaconda/lib/python2.7/site-packages/sklearn/externals/joblib/parallel.pyc\u001b[0m in \u001b[0;36m__call__\u001b[0;34m(self)\u001b[0m\n\u001b[1;32m    129\u001b[0m \u001b[0;34m\u001b[0m\u001b[0m\n\u001b[1;32m    130\u001b[0m     \u001b[0;32mdef\u001b[0m \u001b[0m__call__\u001b[0m\u001b[0;34m(\u001b[0m\u001b[0mself\u001b[0m\u001b[0;34m)\u001b[0m\u001b[0;34m:\u001b[0m\u001b[0;34m\u001b[0m\u001b[0m\n\u001b[0;32m--> 131\u001b[0;31m         \u001b[0;32mreturn\u001b[0m \u001b[0;34m[\u001b[0m\u001b[0mfunc\u001b[0m\u001b[0;34m(\u001b[0m\u001b[0;34m*\u001b[0m\u001b[0margs\u001b[0m\u001b[0;34m,\u001b[0m \u001b[0;34m**\u001b[0m\u001b[0mkwargs\u001b[0m\u001b[0;34m)\u001b[0m \u001b[0;32mfor\u001b[0m \u001b[0mfunc\u001b[0m\u001b[0;34m,\u001b[0m \u001b[0margs\u001b[0m\u001b[0;34m,\u001b[0m \u001b[0mkwargs\u001b[0m \u001b[0;32min\u001b[0m \u001b[0mself\u001b[0m\u001b[0;34m.\u001b[0m\u001b[0mitems\u001b[0m\u001b[0;34m]\u001b[0m\u001b[0;34m\u001b[0m\u001b[0m\n\u001b[0m\u001b[1;32m    132\u001b[0m \u001b[0;34m\u001b[0m\u001b[0m\n\u001b[1;32m    133\u001b[0m     \u001b[0;32mdef\u001b[0m \u001b[0m__len__\u001b[0m\u001b[0;34m(\u001b[0m\u001b[0mself\u001b[0m\u001b[0;34m)\u001b[0m\u001b[0;34m:\u001b[0m\u001b[0;34m\u001b[0m\u001b[0m\n",
      "\u001b[0;32m/Users/xbj/anaconda/lib/python2.7/site-packages/sklearn/model_selection/_validation.pyc\u001b[0m in \u001b[0;36m_fit_and_score\u001b[0;34m(estimator, X, y, scorer, train, test, verbose, parameters, fit_params, return_train_score, return_parameters, return_n_test_samples, return_times, error_score)\u001b[0m\n\u001b[1;32m    236\u001b[0m             \u001b[0mestimator\u001b[0m\u001b[0;34m.\u001b[0m\u001b[0mfit\u001b[0m\u001b[0;34m(\u001b[0m\u001b[0mX_train\u001b[0m\u001b[0;34m,\u001b[0m \u001b[0;34m**\u001b[0m\u001b[0mfit_params\u001b[0m\u001b[0;34m)\u001b[0m\u001b[0;34m\u001b[0m\u001b[0m\n\u001b[1;32m    237\u001b[0m         \u001b[0;32melse\u001b[0m\u001b[0;34m:\u001b[0m\u001b[0;34m\u001b[0m\u001b[0m\n\u001b[0;32m--> 238\u001b[0;31m             \u001b[0mestimator\u001b[0m\u001b[0;34m.\u001b[0m\u001b[0mfit\u001b[0m\u001b[0;34m(\u001b[0m\u001b[0mX_train\u001b[0m\u001b[0;34m,\u001b[0m \u001b[0my_train\u001b[0m\u001b[0;34m,\u001b[0m \u001b[0;34m**\u001b[0m\u001b[0mfit_params\u001b[0m\u001b[0;34m)\u001b[0m\u001b[0;34m\u001b[0m\u001b[0m\n\u001b[0m\u001b[1;32m    239\u001b[0m \u001b[0;34m\u001b[0m\u001b[0m\n\u001b[1;32m    240\u001b[0m     \u001b[0;32mexcept\u001b[0m \u001b[0mException\u001b[0m \u001b[0;32mas\u001b[0m \u001b[0me\u001b[0m\u001b[0;34m:\u001b[0m\u001b[0;34m\u001b[0m\u001b[0m\n",
      "\u001b[0;32m/Users/xbj/anaconda/lib/python2.7/site-packages/sklearn/ensemble/forest.pyc\u001b[0m in \u001b[0;36mfit\u001b[0;34m(self, X, y, sample_weight)\u001b[0m\n\u001b[1;32m    324\u001b[0m                     \u001b[0mt\u001b[0m\u001b[0;34m,\u001b[0m \u001b[0mself\u001b[0m\u001b[0;34m,\u001b[0m \u001b[0mX\u001b[0m\u001b[0;34m,\u001b[0m \u001b[0my\u001b[0m\u001b[0;34m,\u001b[0m \u001b[0msample_weight\u001b[0m\u001b[0;34m,\u001b[0m \u001b[0mi\u001b[0m\u001b[0;34m,\u001b[0m \u001b[0mlen\u001b[0m\u001b[0;34m(\u001b[0m\u001b[0mtrees\u001b[0m\u001b[0;34m)\u001b[0m\u001b[0;34m,\u001b[0m\u001b[0;34m\u001b[0m\u001b[0m\n\u001b[1;32m    325\u001b[0m                     verbose=self.verbose, class_weight=self.class_weight)\n\u001b[0;32m--> 326\u001b[0;31m                 for i, t in enumerate(trees))\n\u001b[0m\u001b[1;32m    327\u001b[0m \u001b[0;34m\u001b[0m\u001b[0m\n\u001b[1;32m    328\u001b[0m             \u001b[0;31m# Collect newly grown trees\u001b[0m\u001b[0;34m\u001b[0m\u001b[0;34m\u001b[0m\u001b[0m\n",
      "\u001b[0;32m/Users/xbj/anaconda/lib/python2.7/site-packages/sklearn/externals/joblib/parallel.pyc\u001b[0m in \u001b[0;36m__call__\u001b[0;34m(self, iterable)\u001b[0m\n\u001b[1;32m    756\u001b[0m             \u001b[0;31m# was dispatched. In particular this covers the edge\u001b[0m\u001b[0;34m\u001b[0m\u001b[0;34m\u001b[0m\u001b[0m\n\u001b[1;32m    757\u001b[0m             \u001b[0;31m# case of Parallel used with an exhausted iterator.\u001b[0m\u001b[0;34m\u001b[0m\u001b[0;34m\u001b[0m\u001b[0m\n\u001b[0;32m--> 758\u001b[0;31m             \u001b[0;32mwhile\u001b[0m \u001b[0mself\u001b[0m\u001b[0;34m.\u001b[0m\u001b[0mdispatch_one_batch\u001b[0m\u001b[0;34m(\u001b[0m\u001b[0miterator\u001b[0m\u001b[0;34m)\u001b[0m\u001b[0;34m:\u001b[0m\u001b[0;34m\u001b[0m\u001b[0m\n\u001b[0m\u001b[1;32m    759\u001b[0m                 \u001b[0mself\u001b[0m\u001b[0;34m.\u001b[0m\u001b[0m_iterating\u001b[0m \u001b[0;34m=\u001b[0m \u001b[0mTrue\u001b[0m\u001b[0;34m\u001b[0m\u001b[0m\n\u001b[1;32m    760\u001b[0m             \u001b[0;32melse\u001b[0m\u001b[0;34m:\u001b[0m\u001b[0;34m\u001b[0m\u001b[0m\n",
      "\u001b[0;32m/Users/xbj/anaconda/lib/python2.7/site-packages/sklearn/externals/joblib/parallel.pyc\u001b[0m in \u001b[0;36mdispatch_one_batch\u001b[0;34m(self, iterator)\u001b[0m\n\u001b[1;32m    606\u001b[0m                 \u001b[0;32mreturn\u001b[0m \u001b[0mFalse\u001b[0m\u001b[0;34m\u001b[0m\u001b[0m\n\u001b[1;32m    607\u001b[0m             \u001b[0;32melse\u001b[0m\u001b[0;34m:\u001b[0m\u001b[0;34m\u001b[0m\u001b[0m\n\u001b[0;32m--> 608\u001b[0;31m                 \u001b[0mself\u001b[0m\u001b[0;34m.\u001b[0m\u001b[0m_dispatch\u001b[0m\u001b[0;34m(\u001b[0m\u001b[0mtasks\u001b[0m\u001b[0;34m)\u001b[0m\u001b[0;34m\u001b[0m\u001b[0m\n\u001b[0m\u001b[1;32m    609\u001b[0m                 \u001b[0;32mreturn\u001b[0m \u001b[0mTrue\u001b[0m\u001b[0;34m\u001b[0m\u001b[0m\n\u001b[1;32m    610\u001b[0m \u001b[0;34m\u001b[0m\u001b[0m\n",
      "\u001b[0;32m/Users/xbj/anaconda/lib/python2.7/site-packages/sklearn/externals/joblib/parallel.pyc\u001b[0m in \u001b[0;36m_dispatch\u001b[0;34m(self, batch)\u001b[0m\n\u001b[1;32m    569\u001b[0m         \u001b[0mdispatch_timestamp\u001b[0m \u001b[0;34m=\u001b[0m \u001b[0mtime\u001b[0m\u001b[0;34m.\u001b[0m\u001b[0mtime\u001b[0m\u001b[0;34m(\u001b[0m\u001b[0;34m)\u001b[0m\u001b[0;34m\u001b[0m\u001b[0m\n\u001b[1;32m    570\u001b[0m         \u001b[0mcb\u001b[0m \u001b[0;34m=\u001b[0m \u001b[0mBatchCompletionCallBack\u001b[0m\u001b[0;34m(\u001b[0m\u001b[0mdispatch_timestamp\u001b[0m\u001b[0;34m,\u001b[0m \u001b[0mlen\u001b[0m\u001b[0;34m(\u001b[0m\u001b[0mbatch\u001b[0m\u001b[0;34m)\u001b[0m\u001b[0;34m,\u001b[0m \u001b[0mself\u001b[0m\u001b[0;34m)\u001b[0m\u001b[0;34m\u001b[0m\u001b[0m\n\u001b[0;32m--> 571\u001b[0;31m         \u001b[0mjob\u001b[0m \u001b[0;34m=\u001b[0m \u001b[0mself\u001b[0m\u001b[0;34m.\u001b[0m\u001b[0m_backend\u001b[0m\u001b[0;34m.\u001b[0m\u001b[0mapply_async\u001b[0m\u001b[0;34m(\u001b[0m\u001b[0mbatch\u001b[0m\u001b[0;34m,\u001b[0m \u001b[0mcallback\u001b[0m\u001b[0;34m=\u001b[0m\u001b[0mcb\u001b[0m\u001b[0;34m)\u001b[0m\u001b[0;34m\u001b[0m\u001b[0m\n\u001b[0m\u001b[1;32m    572\u001b[0m         \u001b[0mself\u001b[0m\u001b[0;34m.\u001b[0m\u001b[0m_jobs\u001b[0m\u001b[0;34m.\u001b[0m\u001b[0mappend\u001b[0m\u001b[0;34m(\u001b[0m\u001b[0mjob\u001b[0m\u001b[0;34m)\u001b[0m\u001b[0;34m\u001b[0m\u001b[0m\n\u001b[1;32m    573\u001b[0m \u001b[0;34m\u001b[0m\u001b[0m\n",
      "\u001b[0;32m/Users/xbj/anaconda/lib/python2.7/site-packages/sklearn/externals/joblib/_parallel_backends.pyc\u001b[0m in \u001b[0;36mapply_async\u001b[0;34m(self, func, callback)\u001b[0m\n\u001b[1;32m    107\u001b[0m     \u001b[0;32mdef\u001b[0m \u001b[0mapply_async\u001b[0m\u001b[0;34m(\u001b[0m\u001b[0mself\u001b[0m\u001b[0;34m,\u001b[0m \u001b[0mfunc\u001b[0m\u001b[0;34m,\u001b[0m \u001b[0mcallback\u001b[0m\u001b[0;34m=\u001b[0m\u001b[0mNone\u001b[0m\u001b[0;34m)\u001b[0m\u001b[0;34m:\u001b[0m\u001b[0;34m\u001b[0m\u001b[0m\n\u001b[1;32m    108\u001b[0m         \u001b[0;34m\"\"\"Schedule a func to be run\"\"\"\u001b[0m\u001b[0;34m\u001b[0m\u001b[0m\n\u001b[0;32m--> 109\u001b[0;31m         \u001b[0mresult\u001b[0m \u001b[0;34m=\u001b[0m \u001b[0mImmediateResult\u001b[0m\u001b[0;34m(\u001b[0m\u001b[0mfunc\u001b[0m\u001b[0;34m)\u001b[0m\u001b[0;34m\u001b[0m\u001b[0m\n\u001b[0m\u001b[1;32m    110\u001b[0m         \u001b[0;32mif\u001b[0m \u001b[0mcallback\u001b[0m\u001b[0;34m:\u001b[0m\u001b[0;34m\u001b[0m\u001b[0m\n\u001b[1;32m    111\u001b[0m             \u001b[0mcallback\u001b[0m\u001b[0;34m(\u001b[0m\u001b[0mresult\u001b[0m\u001b[0;34m)\u001b[0m\u001b[0;34m\u001b[0m\u001b[0m\n",
      "\u001b[0;32m/Users/xbj/anaconda/lib/python2.7/site-packages/sklearn/externals/joblib/_parallel_backends.pyc\u001b[0m in \u001b[0;36m__init__\u001b[0;34m(self, batch)\u001b[0m\n\u001b[1;32m    324\u001b[0m         \u001b[0;31m# Don't delay the application, to avoid keeping the input\u001b[0m\u001b[0;34m\u001b[0m\u001b[0;34m\u001b[0m\u001b[0m\n\u001b[1;32m    325\u001b[0m         \u001b[0;31m# arguments in memory\u001b[0m\u001b[0;34m\u001b[0m\u001b[0;34m\u001b[0m\u001b[0m\n\u001b[0;32m--> 326\u001b[0;31m         \u001b[0mself\u001b[0m\u001b[0;34m.\u001b[0m\u001b[0mresults\u001b[0m \u001b[0;34m=\u001b[0m \u001b[0mbatch\u001b[0m\u001b[0;34m(\u001b[0m\u001b[0;34m)\u001b[0m\u001b[0;34m\u001b[0m\u001b[0m\n\u001b[0m\u001b[1;32m    327\u001b[0m \u001b[0;34m\u001b[0m\u001b[0m\n\u001b[1;32m    328\u001b[0m     \u001b[0;32mdef\u001b[0m \u001b[0mget\u001b[0m\u001b[0;34m(\u001b[0m\u001b[0mself\u001b[0m\u001b[0;34m)\u001b[0m\u001b[0;34m:\u001b[0m\u001b[0;34m\u001b[0m\u001b[0m\n",
      "\u001b[0;32m/Users/xbj/anaconda/lib/python2.7/site-packages/sklearn/externals/joblib/parallel.pyc\u001b[0m in \u001b[0;36m__call__\u001b[0;34m(self)\u001b[0m\n\u001b[1;32m    129\u001b[0m \u001b[0;34m\u001b[0m\u001b[0m\n\u001b[1;32m    130\u001b[0m     \u001b[0;32mdef\u001b[0m \u001b[0m__call__\u001b[0m\u001b[0;34m(\u001b[0m\u001b[0mself\u001b[0m\u001b[0;34m)\u001b[0m\u001b[0;34m:\u001b[0m\u001b[0;34m\u001b[0m\u001b[0m\n\u001b[0;32m--> 131\u001b[0;31m         \u001b[0;32mreturn\u001b[0m \u001b[0;34m[\u001b[0m\u001b[0mfunc\u001b[0m\u001b[0;34m(\u001b[0m\u001b[0;34m*\u001b[0m\u001b[0margs\u001b[0m\u001b[0;34m,\u001b[0m \u001b[0;34m**\u001b[0m\u001b[0mkwargs\u001b[0m\u001b[0;34m)\u001b[0m \u001b[0;32mfor\u001b[0m \u001b[0mfunc\u001b[0m\u001b[0;34m,\u001b[0m \u001b[0margs\u001b[0m\u001b[0;34m,\u001b[0m \u001b[0mkwargs\u001b[0m \u001b[0;32min\u001b[0m \u001b[0mself\u001b[0m\u001b[0;34m.\u001b[0m\u001b[0mitems\u001b[0m\u001b[0;34m]\u001b[0m\u001b[0;34m\u001b[0m\u001b[0m\n\u001b[0m\u001b[1;32m    132\u001b[0m \u001b[0;34m\u001b[0m\u001b[0m\n\u001b[1;32m    133\u001b[0m     \u001b[0;32mdef\u001b[0m \u001b[0m__len__\u001b[0m\u001b[0;34m(\u001b[0m\u001b[0mself\u001b[0m\u001b[0;34m)\u001b[0m\u001b[0;34m:\u001b[0m\u001b[0;34m\u001b[0m\u001b[0m\n",
      "\u001b[0;32m/Users/xbj/anaconda/lib/python2.7/site-packages/sklearn/ensemble/forest.pyc\u001b[0m in \u001b[0;36m_parallel_build_trees\u001b[0;34m(tree, forest, X, y, sample_weight, tree_idx, n_trees, verbose, class_weight)\u001b[0m\n\u001b[1;32m    118\u001b[0m             \u001b[0mcurr_sample_weight\u001b[0m \u001b[0;34m*=\u001b[0m \u001b[0mcompute_sample_weight\u001b[0m\u001b[0;34m(\u001b[0m\u001b[0;34m'balanced'\u001b[0m\u001b[0;34m,\u001b[0m \u001b[0my\u001b[0m\u001b[0;34m,\u001b[0m \u001b[0mindices\u001b[0m\u001b[0;34m)\u001b[0m\u001b[0;34m\u001b[0m\u001b[0m\n\u001b[1;32m    119\u001b[0m \u001b[0;34m\u001b[0m\u001b[0m\n\u001b[0;32m--> 120\u001b[0;31m         \u001b[0mtree\u001b[0m\u001b[0;34m.\u001b[0m\u001b[0mfit\u001b[0m\u001b[0;34m(\u001b[0m\u001b[0mX\u001b[0m\u001b[0;34m,\u001b[0m \u001b[0my\u001b[0m\u001b[0;34m,\u001b[0m \u001b[0msample_weight\u001b[0m\u001b[0;34m=\u001b[0m\u001b[0mcurr_sample_weight\u001b[0m\u001b[0;34m,\u001b[0m \u001b[0mcheck_input\u001b[0m\u001b[0;34m=\u001b[0m\u001b[0mFalse\u001b[0m\u001b[0;34m)\u001b[0m\u001b[0;34m\u001b[0m\u001b[0m\n\u001b[0m\u001b[1;32m    121\u001b[0m     \u001b[0;32melse\u001b[0m\u001b[0;34m:\u001b[0m\u001b[0;34m\u001b[0m\u001b[0m\n\u001b[1;32m    122\u001b[0m         \u001b[0mtree\u001b[0m\u001b[0;34m.\u001b[0m\u001b[0mfit\u001b[0m\u001b[0;34m(\u001b[0m\u001b[0mX\u001b[0m\u001b[0;34m,\u001b[0m \u001b[0my\u001b[0m\u001b[0;34m,\u001b[0m \u001b[0msample_weight\u001b[0m\u001b[0;34m=\u001b[0m\u001b[0msample_weight\u001b[0m\u001b[0;34m,\u001b[0m \u001b[0mcheck_input\u001b[0m\u001b[0;34m=\u001b[0m\u001b[0mFalse\u001b[0m\u001b[0;34m)\u001b[0m\u001b[0;34m\u001b[0m\u001b[0m\n",
      "\u001b[0;32m/Users/xbj/anaconda/lib/python2.7/site-packages/sklearn/tree/tree.pyc\u001b[0m in \u001b[0;36mfit\u001b[0;34m(self, X, y, sample_weight, check_input, X_idx_sorted)\u001b[0m\n\u001b[1;32m   1027\u001b[0m             \u001b[0msample_weight\u001b[0m\u001b[0;34m=\u001b[0m\u001b[0msample_weight\u001b[0m\u001b[0;34m,\u001b[0m\u001b[0;34m\u001b[0m\u001b[0m\n\u001b[1;32m   1028\u001b[0m             \u001b[0mcheck_input\u001b[0m\u001b[0;34m=\u001b[0m\u001b[0mcheck_input\u001b[0m\u001b[0;34m,\u001b[0m\u001b[0;34m\u001b[0m\u001b[0m\n\u001b[0;32m-> 1029\u001b[0;31m             X_idx_sorted=X_idx_sorted)\n\u001b[0m\u001b[1;32m   1030\u001b[0m         \u001b[0;32mreturn\u001b[0m \u001b[0mself\u001b[0m\u001b[0;34m\u001b[0m\u001b[0m\n\u001b[1;32m   1031\u001b[0m \u001b[0;34m\u001b[0m\u001b[0m\n",
      "\u001b[0;32m/Users/xbj/anaconda/lib/python2.7/site-packages/sklearn/tree/tree.pyc\u001b[0m in \u001b[0;36mfit\u001b[0;34m(self, X, y, sample_weight, check_input, X_idx_sorted)\u001b[0m\n\u001b[1;32m    348\u001b[0m                                            self.min_impurity_split)\n\u001b[1;32m    349\u001b[0m \u001b[0;34m\u001b[0m\u001b[0m\n\u001b[0;32m--> 350\u001b[0;31m         \u001b[0mbuilder\u001b[0m\u001b[0;34m.\u001b[0m\u001b[0mbuild\u001b[0m\u001b[0;34m(\u001b[0m\u001b[0mself\u001b[0m\u001b[0;34m.\u001b[0m\u001b[0mtree_\u001b[0m\u001b[0;34m,\u001b[0m \u001b[0mX\u001b[0m\u001b[0;34m,\u001b[0m \u001b[0my\u001b[0m\u001b[0;34m,\u001b[0m \u001b[0msample_weight\u001b[0m\u001b[0;34m,\u001b[0m \u001b[0mX_idx_sorted\u001b[0m\u001b[0;34m)\u001b[0m\u001b[0;34m\u001b[0m\u001b[0m\n\u001b[0m\u001b[1;32m    351\u001b[0m \u001b[0;34m\u001b[0m\u001b[0m\n\u001b[1;32m    352\u001b[0m         \u001b[0;32mif\u001b[0m \u001b[0mself\u001b[0m\u001b[0;34m.\u001b[0m\u001b[0mn_outputs_\u001b[0m \u001b[0;34m==\u001b[0m \u001b[0;36m1\u001b[0m\u001b[0;34m:\u001b[0m\u001b[0;34m\u001b[0m\u001b[0m\n",
      "\u001b[0;31mKeyboardInterrupt\u001b[0m: "
     ]
    }
   ],
   "source": [
    "from sklearn.ensemble import RandomForestRegressor\n",
    "from sklearn.model_selection import GridSearchCV\n",
    "rfr = RandomForestRegressor()\n",
    "param_grid = {'n_estimators': [1000], 'max_features': [0.2, 'sqrt']}\n",
    "power_randomForest = GridSearchCV(estimator=rfr, param_grid=param_grid, n_jobs=1, cv=5, verbose=20, scoring=\"neg_mean_squared_error\")\n",
    "power_randomForest.fit(power_X_train, power_y)"
   ]
  },
  {
   "cell_type": "code",
   "execution_count": 27,
   "metadata": {
    "collapsed": false
   },
   "outputs": [
    {
     "name": "stderr",
     "output_type": "stream",
     "text": [
      "/Users/xbj/anaconda/lib/python2.7/site-packages/sklearn/model_selection/_search.py:667: DeprecationWarning: The grid_scores_ attribute was deprecated in version 0.18 in favor of the more elaborate cv_results_ attribute. The grid_scores_ attribute will not be available from 0.20\n",
      "  DeprecationWarning)\n"
     ]
    },
    {
     "data": {
      "text/plain": [
       "([mean: -2564.81425, std: 474.98426, params: {'max_features': 'sqrt', 'n_estimators': 1000}],\n",
       " -2564.814246608581)"
      ]
     },
     "execution_count": 27,
     "metadata": {},
     "output_type": "execute_result"
    }
   ],
   "source": [
    "power_randomForest.grid_scores_,power_randomForest.best_score_"
   ]
  },
  {
   "cell_type": "code",
   "execution_count": 155,
   "metadata": {
    "collapsed": false
   },
   "outputs": [
    {
     "data": {
      "text/plain": [
       "[0, 1400, 0, 1400]"
      ]
     },
     "execution_count": 155,
     "metadata": {},
     "output_type": "execute_result"
    },
    {
     "data": {
      "image/png": "[encoded data removed]",
      "text/plain": [
       "<matplotlib.figure.Figure at 0x1123c3d10>"
      ]
     },
     "metadata": {},
     "output_type": "display_data"
    }
   ],
   "source": [
    "plt.figure(figsize=(8,8))\n",
    "plt.plot(power_y, power_randomForest.predict(power_X_train), 'ro')\n",
    "plt.axis([0,1400,0,1400])"
   ]
  },
  {
   "cell_type": "code",
   "execution_count": 95,
   "metadata": {
    "collapsed": false
   },
   "outputs": [
    {
     "name": "stdout",
     "output_type": "stream",
     "text": [
      "\n",
      "Model Report\n",
      "Mean Square Error: 267.9\n"
     ]
    },
    {
     "data": {
      "image/png": "[encoded data removed]",
      "text/plain": [
       "<matplotlib.figure.Figure at 0x1143a70d0>"
      ]
     },
     "metadata": {},
     "output_type": "display_data"
    }
   ],
   "source": [
    "modelfit(model=power_randomForest.best_estimator_,X=power_X_train,y=power_y,performCV=False)"
   ]
  },
  {
   "cell_type": "code",
   "execution_count": 212,
   "metadata": {
    "collapsed": false
   },
   "outputs": [
    {
     "data": {
      "text/plain": [
       "(RandomForestRegressor(bootstrap=True, criterion='mse', max_depth=None,\n",
       "            max_features=10, max_leaf_nodes=None, min_impurity_split=1e-07,\n",
       "            min_samples_leaf=1, min_samples_split=2,\n",
       "            min_weight_fraction_leaf=0.0, n_estimators=500, n_jobs=1,\n",
       "            oob_score=False, random_state=None, verbose=0, warm_start=False),\n",
       " -2439.3975099241266,\n",
       " {'max_features': 10, 'n_estimators': 500})"
      ]
     },
     "execution_count": 212,
     "metadata": {},
     "output_type": "execute_result"
    }
   ],
   "source": [
    "power_model_randomForest.best_estimator_,power_model_randomForest.best_score_,power_model_randomForest.best_params_"
   ]
  },
  {
   "cell_type": "markdown",
   "metadata": {},
   "source": [
    "### Power: Xgboost"
   ]
  },
  {
   "cell_type": "code",
   "execution_count": 77,
   "metadata": {
    "collapsed": false
   },
   "outputs": [
    {
     "name": "stdout",
     "output_type": "stream",
     "text": [
      "[0]\ttrain-rmse:61.5117+0.124995\ttest-rmse:62.054+0.445907\n",
      "[1]\ttrain-rmse:58.1978+0.294927\ttest-rmse:59.1053+0.626385\n",
      "[2]\ttrain-rmse:55.8928+0.51176\ttest-rmse:57.1408+0.48944\n",
      "[3]\ttrain-rmse:54.4073+0.674682\ttest-rmse:56.0669+0.544218\n",
      "[4]\ttrain-rmse:53.2514+0.515613\ttest-rmse:55.139+0.713766\n",
      "[5]\ttrain-rmse:52.3638+0.413896\ttest-rmse:54.4349+0.737118\n",
      "[6]\ttrain-rmse:51.2883+0.295677\ttest-rmse:53.6366+0.49399\n",
      "[7]\ttrain-rmse:50.6833+0.344995\ttest-rmse:53.3145+0.507686\n",
      "[8]\ttrain-rmse:50.1099+0.292794\ttest-rmse:52.9129+0.610901\n",
      "[9]\ttrain-rmse:49.5253+0.217321\ttest-rmse:52.5146+0.724204\n",
      "[10]\ttrain-rmse:48.9034+0.411849\ttest-rmse:52.0553+0.697546\n",
      "[11]\ttrain-rmse:48.494+0.320975\ttest-rmse:51.7653+0.812201\n",
      "[12]\ttrain-rmse:48.1746+0.278516\ttest-rmse:51.6306+0.807815\n",
      "[13]\ttrain-rmse:47.6889+0.412915\ttest-rmse:51.3201+0.709113\n",
      "[14]\ttrain-rmse:47.3588+0.453555\ttest-rmse:51.2094+0.65159\n",
      "[15]\ttrain-rmse:47.0573+0.440606\ttest-rmse:51.0703+0.617461\n",
      "[16]\ttrain-rmse:46.7571+0.38634\ttest-rmse:50.9294+0.638945\n",
      "[17]\ttrain-rmse:46.4896+0.426749\ttest-rmse:50.7887+0.620722\n",
      "[18]\ttrain-rmse:46.1753+0.42734\ttest-rmse:50.669+0.628828\n",
      "[19]\ttrain-rmse:45.9168+0.376057\ttest-rmse:50.5047+0.691804\n",
      "[20]\ttrain-rmse:45.6181+0.347495\ttest-rmse:50.3768+0.734795\n",
      "[21]\ttrain-rmse:45.3754+0.309019\ttest-rmse:50.3232+0.78326\n",
      "[22]\ttrain-rmse:45.1891+0.266894\ttest-rmse:50.2334+0.826627\n",
      "[23]\ttrain-rmse:44.9516+0.265865\ttest-rmse:50.1095+0.855396\n",
      "[24]\ttrain-rmse:44.7577+0.24828\ttest-rmse:50.05+0.870297\n",
      "[25]\ttrain-rmse:44.5357+0.224558\ttest-rmse:49.9957+0.924475\n",
      "[26]\ttrain-rmse:44.3869+0.219113\ttest-rmse:49.9748+0.878904\n",
      "[27]\ttrain-rmse:44.1652+0.195425\ttest-rmse:49.9687+0.903632\n",
      "[28]\ttrain-rmse:43.9379+0.235777\ttest-rmse:49.9022+0.847444\n",
      "[29]\ttrain-rmse:43.7202+0.255385\ttest-rmse:49.8792+0.845363\n",
      "[30]\ttrain-rmse:43.5426+0.275409\ttest-rmse:49.8511+0.794685\n",
      "[31]\ttrain-rmse:43.3222+0.328864\ttest-rmse:49.8095+0.793449\n",
      "[32]\ttrain-rmse:43.1582+0.315302\ttest-rmse:49.8039+0.816518\n",
      "[33]\ttrain-rmse:42.972+0.344795\ttest-rmse:49.7602+0.83848\n",
      "[34]\ttrain-rmse:42.8032+0.343994\ttest-rmse:49.7317+0.825541\n",
      "[35]\ttrain-rmse:42.6325+0.343562\ttest-rmse:49.706+0.835198\n",
      "[36]\ttrain-rmse:42.4633+0.388503\ttest-rmse:49.6644+0.861087\n",
      "[37]\ttrain-rmse:42.3076+0.351504\ttest-rmse:49.6451+0.874232\n",
      "[38]\ttrain-rmse:42.1626+0.361706\ttest-rmse:49.6246+0.865957\n",
      "[39]\ttrain-rmse:41.9955+0.350232\ttest-rmse:49.599+0.896911\n",
      "[40]\ttrain-rmse:41.8453+0.34822\ttest-rmse:49.5543+0.874128\n",
      "[41]\ttrain-rmse:41.6773+0.365289\ttest-rmse:49.5333+0.88853\n",
      "[42]\ttrain-rmse:41.538+0.389047\ttest-rmse:49.5141+0.861657\n",
      "[43]\ttrain-rmse:41.4477+0.398366\ttest-rmse:49.5063+0.847035\n",
      "[44]\ttrain-rmse:41.2993+0.413926\ttest-rmse:49.4795+0.866636\n",
      "[45]\ttrain-rmse:41.1468+0.383279\ttest-rmse:49.4429+0.893359\n",
      "[46]\ttrain-rmse:41.0548+0.381188\ttest-rmse:49.4139+0.884902\n",
      "[47]\ttrain-rmse:40.8941+0.381214\ttest-rmse:49.391+0.893484\n",
      "[48]\ttrain-rmse:40.7762+0.375614\ttest-rmse:49.3808+0.894314\n",
      "[49]\ttrain-rmse:40.5849+0.404283\ttest-rmse:49.3974+0.899957\n",
      "[50]\ttrain-rmse:40.4599+0.405287\ttest-rmse:49.4342+0.996984\n",
      "[51]\ttrain-rmse:40.3395+0.425412\ttest-rmse:49.4198+1.0111\n",
      "[52]\ttrain-rmse:40.2418+0.418023\ttest-rmse:49.3992+1.02113\n",
      "[53]\ttrain-rmse:40.1103+0.416679\ttest-rmse:49.3752+1.01308\n",
      "[54]\ttrain-rmse:40.0059+0.425397\ttest-rmse:49.3867+1.0077\n",
      "[55]\ttrain-rmse:39.9027+0.400694\ttest-rmse:49.378+1.00472\n",
      "[56]\ttrain-rmse:39.8138+0.39674\ttest-rmse:49.3651+0.994434\n",
      "[57]\ttrain-rmse:39.7467+0.373363\ttest-rmse:49.3814+0.99283\n",
      "[58]\ttrain-rmse:39.6691+0.371935\ttest-rmse:49.3701+0.999492\n",
      "[59]\ttrain-rmse:39.5762+0.336937\ttest-rmse:49.3415+0.997183\n",
      "[60]\ttrain-rmse:39.4772+0.317858\ttest-rmse:49.3354+0.997423\n",
      "[61]\ttrain-rmse:39.3969+0.334012\ttest-rmse:49.3373+0.982196\n",
      "[62]\ttrain-rmse:39.3032+0.320816\ttest-rmse:49.3247+0.971037\n",
      "[63]\ttrain-rmse:39.2167+0.318976\ttest-rmse:49.3272+0.961807\n",
      "[64]\ttrain-rmse:39.1128+0.298149\ttest-rmse:49.3306+0.965448\n",
      "[65]\ttrain-rmse:39.0239+0.288775\ttest-rmse:49.3202+0.959295\n",
      "[66]\ttrain-rmse:38.9223+0.290146\ttest-rmse:49.3067+0.975908\n",
      "[67]\ttrain-rmse:38.8173+0.306613\ttest-rmse:49.2754+0.968586\n",
      "[68]\ttrain-rmse:38.7247+0.29174\ttest-rmse:49.2717+0.974204\n",
      "[69]\ttrain-rmse:38.6412+0.309536\ttest-rmse:49.2917+0.961366\n",
      "[70]\ttrain-rmse:38.5561+0.299903\ttest-rmse:49.2916+0.956085\n",
      "[71]\ttrain-rmse:38.4798+0.30785\ttest-rmse:49.2798+0.950331\n",
      "[72]\ttrain-rmse:38.3877+0.317498\ttest-rmse:49.294+0.955516\n",
      "[73]\ttrain-rmse:38.2604+0.278927\ttest-rmse:49.3089+0.916879\n",
      "[74]\ttrain-rmse:38.1515+0.294118\ttest-rmse:49.2898+0.923865\n",
      "[75]\ttrain-rmse:38.0603+0.282307\ttest-rmse:49.2997+0.921012\n",
      "[76]\ttrain-rmse:37.9744+0.267288\ttest-rmse:49.2994+0.936911\n",
      "[77]\ttrain-rmse:37.8623+0.307282\ttest-rmse:49.2927+0.949235\n",
      "\n",
      "Model Report\n",
      "Mean Square Error : 1576\n"
     ]
    },
    {
     "data": {
      "image/png": "[encoded data removed]",
      "text/plain": [
       "<matplotlib.figure.Figure at 0x111bd50d0>"
      ]
     },
     "metadata": {},
     "output_type": "display_data"
    }
   ],
   "source": [
    "power_xgb = XGBRegressor(\n",
    "        learning_rate = 1,\n",
    "        n_estimators= 200,\n",
    "        max_depth= 6,\n",
    "        min_child_weight=1,\n",
    "        gamma=0,\n",
    "        subsample=1,\n",
    "        colsample_bytree=0.4,\n",
    "        objective= 'reg:linear',\n",
    "        nthread=4,\n",
    "        seed = 2017)\n",
    "xgb_modelfit(alg=power_xgb,X=power_X_train,y=power_y,useTrainCV=True,cv_folds=5,early_stopping_rounds=10)"
   ]
  },
  {
   "cell_type": "markdown",
   "metadata": {},
   "source": [
    "use learning rate = 1 and n_estimators = 78 to tune other parameter"
   ]
  },
  {
   "cell_type": "code",
   "execution_count": 111,
   "metadata": {
    "collapsed": false
   },
   "outputs": [
    {
     "data": {
      "text/plain": [
       "XGBRegressor(base_score=0.5, colsample_bylevel=1, colsample_bytree=0.3,\n",
       "       gamma=0, learning_rate=0.1, max_delta_step=0, max_depth=5,\n",
       "       min_child_weight=1, missing=None, n_estimators=2000, nthread=4,\n",
       "       objective='reg:linear', reg_alpha=0, reg_lambda=1,\n",
       "       scale_pos_weight=1, seed=2017, silent=True, subsample=1)"
      ]
     },
     "execution_count": 111,
     "metadata": {},
     "output_type": "execute_result"
    }
   ],
   "source": [
    "power_xgb.fit(power_X_train, power_y)"
   ]
  },
  {
   "cell_type": "code",
   "execution_count": 82,
   "metadata": {
    "collapsed": false
   },
   "outputs": [
    {
     "name": "stdout",
     "output_type": "stream",
     "text": [
      "Fitting 5 folds for each of 9 candidates, totalling 45 fits\n"
     ]
    },
    {
     "name": "stderr",
     "output_type": "stream",
     "text": [
      "[Parallel(n_jobs=4)]: Done  45 out of  45 | elapsed:  8.5min finished\n"
     ]
    },
    {
     "data": {
      "text/plain": [
       "GridSearchCV(cv=5, error_score='raise',\n",
       "       estimator=XGBRegressor(base_score=0.5, colsample_bylevel=1, colsample_bytree=0.4,\n",
       "       gamma=0, learning_rate=1, max_delta_step=0, max_depth=3,\n",
       "       min_child_weight=1, missing=None, n_estimators=78, nthread=4,\n",
       "       objective='reg:linear', reg_alpha=0, reg_lambda=1,\n",
       "       scale_pos_weight=1, seed=2017, silent=True, subsample=1),\n",
       "       fit_params={}, iid=False, n_jobs=4,\n",
       "       param_grid={'max_depth': [4, 5, 6], 'min_child_weight': [3, 4, 5]},\n",
       "       pre_dispatch='2*n_jobs', refit=True, return_train_score=True,\n",
       "       scoring='neg_mean_squared_error', verbose=True)"
      ]
     },
     "execution_count": 82,
     "metadata": {},
     "output_type": "execute_result"
    }
   ],
   "source": [
    "#Grid seach on subsample and max_features\n",
    "#Choose all predictors except target & IDcols\n",
    "param_test1 = {\n",
    "    'max_depth':[4,5,6],\n",
    "    'min_child_weight':[3,4,5]\n",
    "}\n",
    "gsearch1 = GridSearchCV(estimator = XGBRegressor( learning_rate = 1, n_estimators= 78, \n",
    "                                        min_child_weight=1, gamma=0, subsample=1, colsample_bytree=0.4,\n",
    "                                        objective= 'reg:linear', nthread=4, seed=2017), \n",
    "                       param_grid = param_test1, scoring='neg_mean_squared_error',n_jobs=4,iid=False, cv=5,verbose = True)\n",
    "gsearch1.fit(power_X_train, power_y)"
   ]
  },
  {
   "cell_type": "code",
   "execution_count": 83,
   "metadata": {
    "collapsed": false
   },
   "outputs": [
    {
     "name": "stderr",
     "output_type": "stream",
     "text": [
      "/Users/xbj/anaconda/lib/python2.7/site-packages/sklearn/model_selection/_search.py:667: DeprecationWarning: The grid_scores_ attribute was deprecated in version 0.18 in favor of the more elaborate cv_results_ attribute. The grid_scores_ attribute will not be available from 0.20\n",
      "  DeprecationWarning)\n"
     ]
    },
    {
     "data": {
      "text/plain": [
       "([mean: -2776.92912, std: 397.11067, params: {'max_depth': 4, 'min_child_weight': 3},\n",
       "  mean: -2764.41713, std: 379.98224, params: {'max_depth': 4, 'min_child_weight': 4},\n",
       "  mean: -2785.30040, std: 413.44172, params: {'max_depth': 4, 'min_child_weight': 5},\n",
       "  mean: -2809.51866, std: 470.62747, params: {'max_depth': 5, 'min_child_weight': 3},\n",
       "  mean: -2738.63782, std: 441.06689, params: {'max_depth': 5, 'min_child_weight': 4},\n",
       "  mean: -2806.28506, std: 475.31115, params: {'max_depth': 5, 'min_child_weight': 5},\n",
       "  mean: -2924.77489, std: 462.18964, params: {'max_depth': 6, 'min_child_weight': 3},\n",
       "  mean: -2925.96746, std: 476.97400, params: {'max_depth': 6, 'min_child_weight': 4},\n",
       "  mean: -2905.60636, std: 485.81999, params: {'max_depth': 6, 'min_child_weight': 5}],\n",
       " {'max_depth': 5, 'min_child_weight': 4},\n",
       " -2738.6378197000281)"
      ]
     },
     "execution_count": 83,
     "metadata": {},
     "output_type": "execute_result"
    }
   ],
   "source": [
    "gsearch1.grid_scores_, gsearch1.best_params_, gsearch1.best_score_"
   ]
  },
  {
   "cell_type": "markdown",
   "metadata": {},
   "source": [
    "max_depth:5 , min_child_weight:4"
   ]
  },
  {
   "cell_type": "code",
   "execution_count": 84,
   "metadata": {
    "collapsed": false
   },
   "outputs": [
    {
     "name": "stdout",
     "output_type": "stream",
     "text": [
      "Fitting 5 folds for each of 16 candidates, totalling 80 fits\n"
     ]
    },
    {
     "name": "stderr",
     "output_type": "stream",
     "text": [
      "[Parallel(n_jobs=4)]: Done  42 tasks      | elapsed: 11.8min\n",
      "[Parallel(n_jobs=4)]: Done  80 out of  80 | elapsed: 24.2min finished\n"
     ]
    },
    {
     "data": {
      "text/plain": [
       "GridSearchCV(cv=5, error_score='raise',\n",
       "       estimator=XGBRegressor(base_score=0.5, colsample_bylevel=1, colsample_bytree=1, gamma=0,\n",
       "       learning_rate=1, max_delta_step=0, max_depth=5, min_child_weight=4,\n",
       "       missing=None, n_estimators=78, nthread=4, objective='reg:linear',\n",
       "       reg_alpha=0, reg_lambda=1, scale_pos_weight=1, seed=2017,\n",
       "       silent=True, subsample=1),\n",
       "       fit_params={}, iid=False, n_jobs=4,\n",
       "       param_grid={'subsample': [0.6, 0.7, 0.8, 0.9], 'colsample_bytree': [0.6, 0.7, 0.8, 0.9]},\n",
       "       pre_dispatch='2*n_jobs', refit=True, return_train_score=True,\n",
       "       scoring='neg_mean_squared_error', verbose=True)"
      ]
     },
     "execution_count": 84,
     "metadata": {},
     "output_type": "execute_result"
    }
   ],
   "source": [
    "param_test2 = {\n",
    "    'subsample':[i/10.0 for i in range(6,10)],\n",
    "    'colsample_bytree':[i/10.0 for i in range(6,10)]\n",
    "}\n",
    "gsearch2 = GridSearchCV(estimator=XGBRegressor(n_estimators=78, max_depth=5, min_child_weight=4, learning_rate=1, \n",
    "                                               gamma=0,objective= 'reg:linear', nthread=4, seed=2017), \n",
    "                       param_grid = param_test2, scoring='neg_mean_squared_error',n_jobs=4,iid=False, cv=5,verbose = True)\n",
    "gsearch2.fit(power_X_train, power_y)"
   ]
  },
  {
   "cell_type": "code",
   "execution_count": 85,
   "metadata": {
    "collapsed": false
   },
   "outputs": [
    {
     "name": "stderr",
     "output_type": "stream",
     "text": [
      "/Users/xbj/anaconda/lib/python2.7/site-packages/sklearn/model_selection/_search.py:667: DeprecationWarning: The grid_scores_ attribute was deprecated in version 0.18 in favor of the more elaborate cv_results_ attribute. The grid_scores_ attribute will not be available from 0.20\n",
      "  DeprecationWarning)\n"
     ]
    },
    {
     "data": {
      "text/plain": [
       "([mean: -3243.00389, std: 581.40426, params: {'subsample': 0.6, 'colsample_bytree': 0.6},\n",
       "  mean: -3201.74875, std: 629.96530, params: {'subsample': 0.7, 'colsample_bytree': 0.6},\n",
       "  mean: -2982.72732, std: 577.59013, params: {'subsample': 0.8, 'colsample_bytree': 0.6},\n",
       "  mean: -2888.09572, std: 506.71240, params: {'subsample': 0.9, 'colsample_bytree': 0.6},\n",
       "  mean: -3267.78721, std: 636.10373, params: {'subsample': 0.6, 'colsample_bytree': 0.7},\n",
       "  mean: -3074.74936, std: 557.92525, params: {'subsample': 0.7, 'colsample_bytree': 0.7},\n",
       "  mean: -2870.38375, std: 534.36020, params: {'subsample': 0.8, 'colsample_bytree': 0.7},\n",
       "  mean: -2842.23394, std: 504.07109, params: {'subsample': 0.9, 'colsample_bytree': 0.7},\n",
       "  mean: -3148.94636, std: 579.63934, params: {'subsample': 0.6, 'colsample_bytree': 0.8},\n",
       "  mean: -2984.33001, std: 451.25775, params: {'subsample': 0.7, 'colsample_bytree': 0.8},\n",
       "  mean: -2910.92791, std: 499.99158, params: {'subsample': 0.8, 'colsample_bytree': 0.8},\n",
       "  mean: -2826.04792, std: 505.58820, params: {'subsample': 0.9, 'colsample_bytree': 0.8},\n",
       "  mean: -3260.51147, std: 675.20465, params: {'subsample': 0.6, 'colsample_bytree': 0.9},\n",
       "  mean: -3035.53776, std: 580.95266, params: {'subsample': 0.7, 'colsample_bytree': 0.9},\n",
       "  mean: -2863.79660, std: 514.79367, params: {'subsample': 0.8, 'colsample_bytree': 0.9},\n",
       "  mean: -2827.15412, std: 506.71652, params: {'subsample': 0.9, 'colsample_bytree': 0.9}],\n",
       " -2826.0479166617506,\n",
       " {'colsample_bytree': 0.8, 'subsample': 0.9})"
      ]
     },
     "execution_count": 85,
     "metadata": {},
     "output_type": "execute_result"
    }
   ],
   "source": [
    "gsearch2.grid_scores_, gsearch2.best_score_, gsearch2.best_params_"
   ]
  },
  {
   "cell_type": "markdown",
   "metadata": {},
   "source": [
    "colsample_bytree:0.8, subsample:1"
   ]
  },
  {
   "cell_type": "code",
   "execution_count": 88,
   "metadata": {
    "collapsed": false
   },
   "outputs": [
    {
     "name": "stdout",
     "output_type": "stream",
     "text": [
      "Fitting 5 folds for each of 3 candidates, totalling 15 fits\n"
     ]
    },
    {
     "name": "stderr",
     "output_type": "stream",
     "text": [
      "[Parallel(n_jobs=4)]: Done  15 out of  15 | elapsed:  3.6min finished\n"
     ]
    },
    {
     "data": {
      "text/plain": [
       "GridSearchCV(cv=5, error_score='raise',\n",
       "       estimator=XGBRegressor(base_score=0.5, colsample_bylevel=1, colsample_bytree=1, gamma=0,\n",
       "       learning_rate=1, max_delta_step=0, max_depth=5, min_child_weight=4,\n",
       "       missing=None, n_estimators=78, nthread=4, objective='reg:linear',\n",
       "       reg_alpha=0, reg_lambda=1, scale_pos_weight=1, seed=2017,\n",
       "       silent=True, subsample=1),\n",
       "       fit_params={}, iid=False, n_jobs=4,\n",
       "       param_grid={'colsample_bytree': [0.3, 0.4, 0.8]},\n",
       "       pre_dispatch='2*n_jobs', refit=True, return_train_score=True,\n",
       "       scoring='neg_mean_squared_error', verbose=True)"
      ]
     },
     "execution_count": 88,
     "metadata": {},
     "output_type": "execute_result"
    }
   ],
   "source": [
    "param_test2b = {\n",
    "    'colsample_bytree':[0.3,0.4,0.8]\n",
    "}\n",
    "gsearch2b = GridSearchCV(estimator=XGBRegressor(n_estimators=78, max_depth=5, min_child_weight=4, learning_rate=1, subsample=1,\n",
    "                                               gamma=0,objective= 'reg:linear', nthread=4, seed=2017), \n",
    "                       param_grid = param_test2b, scoring='neg_mean_squared_error',n_jobs=4,iid=False, cv=5,verbose = True)\n",
    "gsearch2b.fit(power_X_train, power_y)"
   ]
  },
  {
   "cell_type": "code",
   "execution_count": 90,
   "metadata": {
    "collapsed": false
   },
   "outputs": [
    {
     "name": "stderr",
     "output_type": "stream",
     "text": [
      "/Users/xbj/anaconda/lib/python2.7/site-packages/sklearn/model_selection/_search.py:667: DeprecationWarning: The grid_scores_ attribute was deprecated in version 0.18 in favor of the more elaborate cv_results_ attribute. The grid_scores_ attribute will not be available from 0.20\n",
      "  DeprecationWarning)\n"
     ]
    },
    {
     "data": {
      "text/plain": [
       "([mean: -2854.65115, std: 529.60288, params: {'colsample_bytree': 0.3},\n",
       "  mean: -2738.63782, std: 441.06689, params: {'colsample_bytree': 0.4},\n",
       "  mean: -2761.31949, std: 551.67711, params: {'colsample_bytree': 0.8}],\n",
       " -2738.6378197000281,\n",
       " {'colsample_bytree': 0.4})"
      ]
     },
     "execution_count": 90,
     "metadata": {},
     "output_type": "execute_result"
    }
   ],
   "source": [
    "gsearch2b.grid_scores_, gsearch2b.best_score_, gsearch2b.best_params_"
   ]
  },
  {
   "cell_type": "code",
   "execution_count": 49,
   "metadata": {
    "collapsed": false
   },
   "outputs": [
    {
     "name": "stdout",
     "output_type": "stream",
     "text": [
      "Fitting 5 folds for each of 1 candidates, totalling 5 fits\n"
     ]
    },
    {
     "name": "stderr",
     "output_type": "stream",
     "text": [
      "[Parallel(n_jobs=4)]: Done   5 out of   5 | elapsed:  6.9min finished\n"
     ]
    },
    {
     "data": {
      "text/plain": [
       "GridSearchCV(cv=5, error_score='raise',\n",
       "       estimator=XGBRegressor(base_score=0.5, colsample_bylevel=1, colsample_bytree=0.4,\n",
       "       gamma=0, learning_rate=0.1, max_delta_step=0, max_depth=5,\n",
       "       min_child_weight=4, missing=None, n_estimators=100, nthread=4,\n",
       "       objective='reg:linear', reg_alpha=0, reg_lambda=1,\n",
       "       scale_pos_weight=1, seed=2016, silent=True, subsample=1),\n",
       "       fit_params={}, iid=False, n_jobs=4,\n",
       "       param_grid={'n_estimators': [1000], 'learning_rate': [0.1]},\n",
       "       pre_dispatch='2*n_jobs', refit=True, return_train_score=True,\n",
       "       scoring='neg_mean_squared_error', verbose=True)"
      ]
     },
     "execution_count": 49,
     "metadata": {},
     "output_type": "execute_result"
    }
   ],
   "source": [
    "param_test3 = {\n",
    "    'learning_rate':[0.1],\n",
    "    'n_estimators':[1000]\n",
    "}\n",
    "gsearch3 = GridSearchCV(estimator=XGBRegressor(max_depth=5, min_child_weight=4, subsample=1, colsample_bytree=0.4, \n",
    "                                               gamma=0,objective= 'reg:linear', nthread=4, seed=2016), \n",
    "                       param_grid = param_test3, scoring='neg_mean_squared_error',n_jobs=4,iid=False, cv=5,verbose = True)\n",
    "gsearch3.fit(power_X_train, power_y)"
   ]
  },
  {
   "cell_type": "code",
   "execution_count": 50,
   "metadata": {
    "collapsed": false
   },
   "outputs": [
    {
     "name": "stderr",
     "output_type": "stream",
     "text": [
      "/Users/xbj/anaconda/lib/python2.7/site-packages/sklearn/model_selection/_search.py:667: DeprecationWarning: The grid_scores_ attribute was deprecated in version 0.18 in favor of the more elaborate cv_results_ attribute. The grid_scores_ attribute will not be available from 0.20\n",
      "  DeprecationWarning)\n"
     ]
    },
    {
     "data": {
      "text/plain": [
       "([mean: -874320914.70230, std: 388912272.04421, params: {'n_estimators': 1000, 'learning_rate': 0.1}],\n",
       " -874320914.70230329,\n",
       " {'learning_rate': 0.1, 'n_estimators': 1000})"
      ]
     },
     "execution_count": 50,
     "metadata": {},
     "output_type": "execute_result"
    }
   ],
   "source": [
    "gsearch3.grid_scores_, gsearch3.best_score_, gsearch3.best_params_"
   ]
  },
  {
   "cell_type": "markdown",
   "metadata": {},
   "source": [
    "### Power: Predict"
   ]
  },
  {
   "cell_type": "code",
   "execution_count": 92,
   "metadata": {
    "collapsed": true
   },
   "outputs": [],
   "source": [
    "# define a function for predict result\n",
    "def power_predict(model):\n",
    "    power_test['Energy'] = model.predict(power_X_test)\n",
    "    power_test['Power'] = power_test['Energy'] / power_test['Measured_time']\n",
    "    result = power_test.loc[:,['Id','Power']]\n",
    "    return result"
   ]
  },
  {
   "cell_type": "code",
   "execution_count": 33,
   "metadata": {
    "collapsed": false
   },
   "outputs": [],
   "source": [
    "# RandomForest\n",
    "power_result = power_predict(power_randomForest)"
   ]
  },
  {
   "cell_type": "code",
   "execution_count": 93,
   "metadata": {
    "collapsed": false
   },
   "outputs": [
    {
     "name": "stderr",
     "output_type": "stream",
     "text": [
      "/Users/xbj/anaconda/lib/python2.7/site-packages/ipykernel/__main__.py:3: SettingWithCopyWarning: \n",
      "A value is trying to be set on a copy of a slice from a DataFrame.\n",
      "Try using .loc[row_indexer,col_indexer] = value instead\n",
      "\n",
      "See the caveats in the documentation: http://pandas.pydata.org/pandas-docs/stable/indexing.html#indexing-view-versus-copy\n",
      "  app.launch_new_instance()\n",
      "/Users/xbj/anaconda/lib/python2.7/site-packages/ipykernel/__main__.py:4: SettingWithCopyWarning: \n",
      "A value is trying to be set on a copy of a slice from a DataFrame.\n",
      "Try using .loc[row_indexer,col_indexer] = value instead\n",
      "\n",
      "See the caveats in the documentation: http://pandas.pydata.org/pandas-docs/stable/indexing.html#indexing-view-versus-copy\n"
     ]
    }
   ],
   "source": [
    "# Xgboost\n",
    "power_result = power_predict(gsearch3.best_estimator_)"
   ]
  },
  {
   "cell_type": "markdown",
   "metadata": {},
   "source": [
    "# Final Result"
   ]
  },
  {
   "cell_type": "code",
   "execution_count": 94,
   "metadata": {
    "collapsed": false
   },
   "outputs": [],
   "source": [
    "speed_result = speed_result.rename(columns={'Speed': 'Predictor'})\n",
    "cadence_result = cadence_result.rename(columns = {'Cadence': 'Predictor'})\n",
    "power_result = power_result.rename(columns={'Power': 'Predictor'})"
   ]
  },
  {
   "cell_type": "code",
   "execution_count": 95,
   "metadata": {
    "collapsed": false
   },
   "outputs": [],
   "source": [
    "result = pd.concat((speed_result,cadence_result,power_result))"
   ]
  },
  {
   "cell_type": "code",
   "execution_count": 96,
   "metadata": {
    "collapsed": true
   },
   "outputs": [],
   "source": [
    "result.Id = result.Id.astype(\"int\")"
   ]
  },
  {
   "cell_type": "code",
   "execution_count": 97,
   "metadata": {
    "collapsed": false
   },
   "outputs": [
    {
     "data": {
      "text/html": [
       "<div>\n",
       "<table border=\"1\" class=\"dataframe\">\n",
       "  <thead>\n",
       "    <tr style=\"text-align: right;\">\n",
       "      <th></th>\n",
       "      <th>Id</th>\n",
       "      <th>Predictor</th>\n",
       "    </tr>\n",
       "  </thead>\n",
       "  <tbody>\n",
       "    <tr>\n",
       "      <th>0</th>\n",
       "      <td>1</td>\n",
       "      <td>10.134000</td>\n",
       "    </tr>\n",
       "    <tr>\n",
       "      <th>1</th>\n",
       "      <td>2</td>\n",
       "      <td>6.063448</td>\n",
       "    </tr>\n",
       "    <tr>\n",
       "      <th>2</th>\n",
       "      <td>3</td>\n",
       "      <td>12.037037</td>\n",
       "    </tr>\n",
       "    <tr>\n",
       "      <th>3</th>\n",
       "      <td>4</td>\n",
       "      <td>5.485714</td>\n",
       "    </tr>\n",
       "    <tr>\n",
       "      <th>4</th>\n",
       "      <td>5</td>\n",
       "      <td>6.646154</td>\n",
       "    </tr>\n",
       "    <tr>\n",
       "      <th>5</th>\n",
       "      <td>6</td>\n",
       "      <td>5.400000</td>\n",
       "    </tr>\n",
       "    <tr>\n",
       "      <th>6</th>\n",
       "      <td>7</td>\n",
       "      <td>11.830213</td>\n",
       "    </tr>\n",
       "    <tr>\n",
       "      <th>7</th>\n",
       "      <td>8</td>\n",
       "      <td>6.392593</td>\n",
       "    </tr>\n",
       "    <tr>\n",
       "      <th>8</th>\n",
       "      <td>9</td>\n",
       "      <td>6.520755</td>\n",
       "    </tr>\n",
       "    <tr>\n",
       "      <th>9</th>\n",
       "      <td>10</td>\n",
       "      <td>8.383065</td>\n",
       "    </tr>\n",
       "    <tr>\n",
       "      <th>10</th>\n",
       "      <td>11</td>\n",
       "      <td>7.464196</td>\n",
       "    </tr>\n",
       "    <tr>\n",
       "      <th>11</th>\n",
       "      <td>12</td>\n",
       "      <td>12.941600</td>\n",
       "    </tr>\n",
       "    <tr>\n",
       "      <th>12</th>\n",
       "      <td>13</td>\n",
       "      <td>12.264151</td>\n",
       "    </tr>\n",
       "    <tr>\n",
       "      <th>13</th>\n",
       "      <td>14</td>\n",
       "      <td>8.780488</td>\n",
       "    </tr>\n",
       "    <tr>\n",
       "      <th>14</th>\n",
       "      <td>15</td>\n",
       "      <td>5.964048</td>\n",
       "    </tr>\n",
       "    <tr>\n",
       "      <th>15</th>\n",
       "      <td>16</td>\n",
       "      <td>6.450000</td>\n",
       "    </tr>\n",
       "    <tr>\n",
       "      <th>16</th>\n",
       "      <td>17</td>\n",
       "      <td>7.992727</td>\n",
       "    </tr>\n",
       "    <tr>\n",
       "      <th>17</th>\n",
       "      <td>18</td>\n",
       "      <td>8.866197</td>\n",
       "    </tr>\n",
       "    <tr>\n",
       "      <th>18</th>\n",
       "      <td>19</td>\n",
       "      <td>9.543396</td>\n",
       "    </tr>\n",
       "    <tr>\n",
       "      <th>19</th>\n",
       "      <td>20</td>\n",
       "      <td>8.464103</td>\n",
       "    </tr>\n",
       "    <tr>\n",
       "      <th>20</th>\n",
       "      <td>21</td>\n",
       "      <td>10.890323</td>\n",
       "    </tr>\n",
       "    <tr>\n",
       "      <th>21</th>\n",
       "      <td>22</td>\n",
       "      <td>7.304161</td>\n",
       "    </tr>\n",
       "    <tr>\n",
       "      <th>22</th>\n",
       "      <td>23</td>\n",
       "      <td>9.738318</td>\n",
       "    </tr>\n",
       "    <tr>\n",
       "      <th>23</th>\n",
       "      <td>24</td>\n",
       "      <td>6.112727</td>\n",
       "    </tr>\n",
       "    <tr>\n",
       "      <th>24</th>\n",
       "      <td>25</td>\n",
       "      <td>9.254737</td>\n",
       "    </tr>\n",
       "    <tr>\n",
       "      <th>25</th>\n",
       "      <td>26</td>\n",
       "      <td>7.177143</td>\n",
       "    </tr>\n",
       "    <tr>\n",
       "      <th>26</th>\n",
       "      <td>27</td>\n",
       "      <td>6.283929</td>\n",
       "    </tr>\n",
       "    <tr>\n",
       "      <th>27</th>\n",
       "      <td>28</td>\n",
       "      <td>10.636364</td>\n",
       "    </tr>\n",
       "    <tr>\n",
       "      <th>28</th>\n",
       "      <td>29</td>\n",
       "      <td>7.818605</td>\n",
       "    </tr>\n",
       "    <tr>\n",
       "      <th>29</th>\n",
       "      <td>30</td>\n",
       "      <td>8.079661</td>\n",
       "    </tr>\n",
       "    <tr>\n",
       "      <th>...</th>\n",
       "      <td>...</td>\n",
       "      <td>...</td>\n",
       "    </tr>\n",
       "    <tr>\n",
       "      <th>29970</th>\n",
       "      <td>29971</td>\n",
       "      <td>183.943176</td>\n",
       "    </tr>\n",
       "    <tr>\n",
       "      <th>29971</th>\n",
       "      <td>29972</td>\n",
       "      <td>354.178070</td>\n",
       "    </tr>\n",
       "    <tr>\n",
       "      <th>29972</th>\n",
       "      <td>29973</td>\n",
       "      <td>236.127548</td>\n",
       "    </tr>\n",
       "    <tr>\n",
       "      <th>29973</th>\n",
       "      <td>29974</td>\n",
       "      <td>153.124924</td>\n",
       "    </tr>\n",
       "    <tr>\n",
       "      <th>29974</th>\n",
       "      <td>29975</td>\n",
       "      <td>235.461624</td>\n",
       "    </tr>\n",
       "    <tr>\n",
       "      <th>29975</th>\n",
       "      <td>29976</td>\n",
       "      <td>114.424309</td>\n",
       "    </tr>\n",
       "    <tr>\n",
       "      <th>29976</th>\n",
       "      <td>29977</td>\n",
       "      <td>159.616745</td>\n",
       "    </tr>\n",
       "    <tr>\n",
       "      <th>29977</th>\n",
       "      <td>29978</td>\n",
       "      <td>107.851524</td>\n",
       "    </tr>\n",
       "    <tr>\n",
       "      <th>29978</th>\n",
       "      <td>29979</td>\n",
       "      <td>292.241699</td>\n",
       "    </tr>\n",
       "    <tr>\n",
       "      <th>29979</th>\n",
       "      <td>29980</td>\n",
       "      <td>143.435974</td>\n",
       "    </tr>\n",
       "    <tr>\n",
       "      <th>29980</th>\n",
       "      <td>29981</td>\n",
       "      <td>221.136887</td>\n",
       "    </tr>\n",
       "    <tr>\n",
       "      <th>29981</th>\n",
       "      <td>29982</td>\n",
       "      <td>131.691788</td>\n",
       "    </tr>\n",
       "    <tr>\n",
       "      <th>29982</th>\n",
       "      <td>29983</td>\n",
       "      <td>182.250671</td>\n",
       "    </tr>\n",
       "    <tr>\n",
       "      <th>29983</th>\n",
       "      <td>29984</td>\n",
       "      <td>449.761353</td>\n",
       "    </tr>\n",
       "    <tr>\n",
       "      <th>29984</th>\n",
       "      <td>29985</td>\n",
       "      <td>118.185745</td>\n",
       "    </tr>\n",
       "    <tr>\n",
       "      <th>29985</th>\n",
       "      <td>29986</td>\n",
       "      <td>107.403503</td>\n",
       "    </tr>\n",
       "    <tr>\n",
       "      <th>29986</th>\n",
       "      <td>29987</td>\n",
       "      <td>347.836090</td>\n",
       "    </tr>\n",
       "    <tr>\n",
       "      <th>29987</th>\n",
       "      <td>29988</td>\n",
       "      <td>222.105835</td>\n",
       "    </tr>\n",
       "    <tr>\n",
       "      <th>29988</th>\n",
       "      <td>29989</td>\n",
       "      <td>48.544537</td>\n",
       "    </tr>\n",
       "    <tr>\n",
       "      <th>29989</th>\n",
       "      <td>29990</td>\n",
       "      <td>102.179428</td>\n",
       "    </tr>\n",
       "    <tr>\n",
       "      <th>29990</th>\n",
       "      <td>29991</td>\n",
       "      <td>195.799286</td>\n",
       "    </tr>\n",
       "    <tr>\n",
       "      <th>29991</th>\n",
       "      <td>29992</td>\n",
       "      <td>211.724777</td>\n",
       "    </tr>\n",
       "    <tr>\n",
       "      <th>29992</th>\n",
       "      <td>29993</td>\n",
       "      <td>150.891342</td>\n",
       "    </tr>\n",
       "    <tr>\n",
       "      <th>29993</th>\n",
       "      <td>29994</td>\n",
       "      <td>215.526413</td>\n",
       "    </tr>\n",
       "    <tr>\n",
       "      <th>29994</th>\n",
       "      <td>29995</td>\n",
       "      <td>139.226883</td>\n",
       "    </tr>\n",
       "    <tr>\n",
       "      <th>29995</th>\n",
       "      <td>29996</td>\n",
       "      <td>60.679173</td>\n",
       "    </tr>\n",
       "    <tr>\n",
       "      <th>29996</th>\n",
       "      <td>29997</td>\n",
       "      <td>296.207794</td>\n",
       "    </tr>\n",
       "    <tr>\n",
       "      <th>29997</th>\n",
       "      <td>29998</td>\n",
       "      <td>175.961853</td>\n",
       "    </tr>\n",
       "    <tr>\n",
       "      <th>29998</th>\n",
       "      <td>29999</td>\n",
       "      <td>164.706680</td>\n",
       "    </tr>\n",
       "    <tr>\n",
       "      <th>29999</th>\n",
       "      <td>30000</td>\n",
       "      <td>235.537628</td>\n",
       "    </tr>\n",
       "  </tbody>\n",
       "</table>\n",
       "<p>45000 rows × 2 columns</p>\n",
       "</div>"
      ],
      "text/plain": [
       "          Id   Predictor\n",
       "0          1   10.134000\n",
       "1          2    6.063448\n",
       "2          3   12.037037\n",
       "3          4    5.485714\n",
       "4          5    6.646154\n",
       "5          6    5.400000\n",
       "6          7   11.830213\n",
       "7          8    6.392593\n",
       "8          9    6.520755\n",
       "9         10    8.383065\n",
       "10        11    7.464196\n",
       "11        12   12.941600\n",
       "12        13   12.264151\n",
       "13        14    8.780488\n",
       "14        15    5.964048\n",
       "15        16    6.450000\n",
       "16        17    7.992727\n",
       "17        18    8.866197\n",
       "18        19    9.543396\n",
       "19        20    8.464103\n",
       "20        21   10.890323\n",
       "21        22    7.304161\n",
       "22        23    9.738318\n",
       "23        24    6.112727\n",
       "24        25    9.254737\n",
       "25        26    7.177143\n",
       "26        27    6.283929\n",
       "27        28   10.636364\n",
       "28        29    7.818605\n",
       "29        30    8.079661\n",
       "...      ...         ...\n",
       "29970  29971  183.943176\n",
       "29971  29972  354.178070\n",
       "29972  29973  236.127548\n",
       "29973  29974  153.124924\n",
       "29974  29975  235.461624\n",
       "29975  29976  114.424309\n",
       "29976  29977  159.616745\n",
       "29977  29978  107.851524\n",
       "29978  29979  292.241699\n",
       "29979  29980  143.435974\n",
       "29980  29981  221.136887\n",
       "29981  29982  131.691788\n",
       "29982  29983  182.250671\n",
       "29983  29984  449.761353\n",
       "29984  29985  118.185745\n",
       "29985  29986  107.403503\n",
       "29986  29987  347.836090\n",
       "29987  29988  222.105835\n",
       "29988  29989   48.544537\n",
       "29989  29990  102.179428\n",
       "29990  29991  195.799286\n",
       "29991  29992  211.724777\n",
       "29992  29993  150.891342\n",
       "29993  29994  215.526413\n",
       "29994  29995  139.226883\n",
       "29995  29996   60.679173\n",
       "29996  29997  296.207794\n",
       "29997  29998  175.961853\n",
       "29998  29999  164.706680\n",
       "29999  30000  235.537628\n",
       "\n",
       "[45000 rows x 2 columns]"
      ]
     },
     "execution_count": 97,
     "metadata": {},
     "output_type": "execute_result"
    }
   ],
   "source": [
    "result"
   ]
  },
  {
   "cell_type": "code",
   "execution_count": 99,
   "metadata": {
    "collapsed": true
   },
   "outputs": [],
   "source": [
    "result.to_csv(path_or_buf=\"../submit/submit10.csv\", sep=\";\",index=False)"
   ]
  },
  {
   "cell_type": "code",
   "execution_count": null,
   "metadata": {
    "collapsed": true
   },
   "outputs": [],
   "source": []
  }
 ],
 "metadata": {
  "anaconda-cloud": {},
  "kernelspec": {
   "display_name": "Python [default]",
   "language": "python",
   "name": "python2"
  },
  "language_info": {
   "codemirror_mode": {
    "name": "ipython",
    "version": 2
   },
   "file_extension": ".py",
   "mimetype": "text/x-python",
   "name": "python",
   "nbconvert_exporter": "python",
   "pygments_lexer": "ipython2",
   "version": "2.7.13"
  }
 },
 "nbformat": 4,
 "nbformat_minor": 0
}
