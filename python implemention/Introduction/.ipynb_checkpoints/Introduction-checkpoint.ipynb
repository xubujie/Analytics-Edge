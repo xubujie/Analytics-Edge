{
 "cells": [
  {
   "cell_type": "markdown",
   "metadata": {},
   "source": [
    "###INTERNET PRIVACY POLL (OPTIONAL)\n",
    "\n",
    "Internet privacy has gained widespread attention in recent years. To measure the degree to which people are concerned about hot-button issues like Internet privacy, social scientists conduct polls in which they interview a large number of people about the topic. In this assignment, we will analyze data from a July 2013 Pew Internet and American Life Project poll on Internet anonymity and privacy, which involved interviews across the United States. While the full polling data can be found here, we will use a more limited version of the results, available in AnonymityPoll.csv. The dataset has the following fields (all Internet use-related fields were only collected from interviewees who either use the Internet or have a smartphone):\n",
    "\n",
    "* Internet.Use: A binary variable indicating if the interviewee uses the Internet, at least occasionally (equals 1 if the interviewee uses the Internet, and equals 0 if the interviewee does not use the Internet).\n",
    "* Smartphone: A binary variable indicating if the interviewee has a smartphone (equals 1 if they do have a smartphone, and equals 0 if they don't have a smartphone).\n",
    "* Sex: Male or Female.\n",
    "* Age: Age in years.\n",
    "* State: State of residence of the interviewee.\n",
    "* Region: Census region of the interviewee (Midwest, Northeast, South, or West).\n",
    "* Conservativeness: Self-described level of conservativeness of interviewee, from 1 (very liberal) to 5 (very conservative).\n",
    "* Info.On.Internet: Number of the following items this interviewee believes to be available on the Internet for others to see: (1) Their email address; (2) Their home address; (3) Their home phone number; (4) Their cell phone number; (5) The employer/company they work for; (6) Their political party or political affiliation; (7) Things they've written that have their name on it; (8) A photo of them; (9) A video of them; (10) Which groups or organizations they belong to; and (11) Their birth date.\n",
    "* Worry.About.Info: A binary variable indicating if the interviewee worries about how much information is available about them on the Internet (equals 1 if they worry, and equals 0 if they don't worry).\n",
    "* Privacy.Importance: A score from 0 (privacy is not too important) to 100 (privacy is very important), which combines the degree to which they find privacy important in the following: (1) The websites they browse; (2) Knowledge of the place they are located when they use the Internet; (3) The content and files they download; (4) The times of day they are online; (5) The applications or programs they use; (6) The searches they perform; (7) The content of their email; (8) The people they exchange email with; and (9) The content of their online chats or hangouts with others.\n",
    "* Anonymity.Possible: A binary variable indicating if the interviewee thinks it's possible to use the Internet anonymously, meaning in such a way that online activities can't be traced back to them (equals 1 if he/she believes you can, and equals 0 if he/she believes you can't).\n",
    "* Tried.Masking.Identity: A binary variable indicating if the interviewee has ever tried to mask his/her identity when using the Internet (equals 1 if he/she has tried to mask his/her identity, and equals 0 if he/she has not tried to mask his/her identity).\n",
    "* Privacy.Laws.Effective: A binary variable indicating if the interviewee believes United States law provides reasonable privacy protection for Internet users (equals 1 if he/she believes it does, and equals 0 if he/she believes it doesn't)."
   ]
  },
  {
   "cell_type": "markdown",
   "metadata": {},
   "source": [
    "R:\n",
    "> read.csv()\n",
    "> str(poll)\n",
    "\n",
    "python:\n",
    "> pd.read_csv()\n",
    "> poll.shape"
   ]
  },
  {
   "cell_type": "code",
   "execution_count": 6,
   "metadata": {
    "collapsed": false
   },
   "outputs": [
    {
     "data": {
      "text/plain": [
       "(1002, 13)"
      ]
     },
     "execution_count": 6,
     "metadata": {},
     "output_type": "execute_result"
    }
   ],
   "source": [
    "import numpy as np\n",
    "import pandas as pd\n",
    "\n",
    "poll = pd.read_csv('data/AnonymityPoll.csv')\n",
    "poll.shape"
   ]
  },
  {
   "cell_type": "markdown",
   "metadata": {},
   "source": [
    "### 1.1 LOADING AND SUMMARIZING THE DATASET\n",
    "Let's look at the breakdown of the number of people with smartphones using the table() and summary() commands on the Smartphone variable. (HINT: These three numbers should sum to 1002.)\n",
    "* How many interviewees responded that they use a smartphone?\n",
    "* How many interviewees responded that they don't use a smartphone?\n",
    "* How many interviewees did not respond to the question, resulting in a missing value, or NA, in the summary() output?\n"
   ]
  },
  {
   "cell_type": "code",
   "execution_count": 14,
   "metadata": {
    "collapsed": false
   },
   "outputs": [
    {
     "name": "stdout",
     "output_type": "stream",
     "text": [
      "487\n",
      "472\n",
      "43\n"
     ]
    }
   ],
   "source": [
    "print (poll.Smartphone == 1).sum()\n",
    "print (poll.Smartphone == 0).sum()\n",
    "print 1002 - (poll.Smartphone == 1).sum()-(poll.Smartphone == 0).sum()"
   ]
  },
  {
   "cell_type": "markdown",
   "metadata": {},
   "source": [
    "* table() in R vs crosstab() in python"
   ]
  },
  {
   "cell_type": "code",
   "execution_count": 23,
   "metadata": {
    "collapsed": false
   },
   "outputs": [
    {
     "name": "stdout",
     "output_type": "stream",
     "text": [
      "Region                Midwest  Northeast  South  West\n",
      "State                                                \n",
      "Alabama                     0          0     11     0\n",
      "Arizona                     0          0      0    24\n",
      "Arkansas                    0          0     10     0\n",
      "California                  0          0      0   103\n",
      "Colorado                    0          0      0    19\n",
      "Connecticut                 0          8      0     0\n",
      "Delaware                    0          0      6     0\n",
      "District of Columbia        0          0      2     0\n",
      "Florida                     0          0     42     0\n",
      "Georgia                     0          0     34     0\n",
      "Idaho                       0          0      0     8\n",
      "Illinois                   32          0      0     0\n",
      "Indiana                    27          0      0     0\n",
      "Iowa                       14          0      0     0\n",
      "Kansas                     14          0      0     0\n",
      "Kentucky                    0          0     25     0\n",
      "Louisiana                   0          0     17     0\n",
      "Maine                       0          4      0     0\n",
      "Maryland                    0          0     18     0\n",
      "Massachusetts               0         19      0     0\n",
      "Michigan                   31          0      0     0\n",
      "Minnesota                  15          0      0     0\n",
      "Mississippi                 0          0     11     0\n",
      "Missouri                   26          0      0     0\n",
      "Montana                     0          0      0     5\n",
      "Nebraska                   11          0      0     0\n",
      "Nevada                      0          0      0     8\n",
      "New Hampshire               0          7      0     0\n",
      "New Jersey                  0         16      0     0\n",
      "New Mexico                  0          0      0     5\n",
      "New York                    0         60      0     0\n",
      "North Carolina              0          0     32     0\n",
      "North Dakota                5          0      0     0\n",
      "Ohio                       38          0      0     0\n",
      "Oklahoma                    0          0     14     0\n",
      "Oregon                      0          0      0    20\n",
      "Pennsylvania                0         45      0     0\n",
      "Rhode Island                0          4      0     0\n",
      "South Carolina              0          0     12     0\n",
      "South Dakota                3          0      0     0\n",
      "Tennessee                   0          0     17     0\n",
      "Texas                       0          0     72     0\n",
      "Utah                        0          0      0    11\n",
      "Vermont                     0          3      0     0\n",
      "Virginia                    0          0     31     0\n",
      "Washington                  0          0      0    28\n",
      "West Virginia               0          0      5     0\n",
      "Wisconsin                  23          0      0     0\n",
      "Wyoming                     0          0      0     7\n"
     ]
    },
    {
     "data": {
      "text/plain": [
       "State\n",
       "Texas    72\n",
       "Name: South, dtype: int64"
      ]
     },
     "execution_count": 23,
     "metadata": {},
     "output_type": "execute_result"
    }
   ],
   "source": [
    "table = pd.crosstab(poll.State, poll.Region)\n",
    "print table\n",
    "table.South[table.South == max(table.South)]"
   ]
  },
  {
   "cell_type": "markdown",
   "metadata": {},
   "source": [
    "### 2.1 - INTERNET AND SMARTPHONE USERS  \n",
    "* How many interviewees reported not having used the Internet and not having used a smartphone?\n",
    "* How many interviewees reported having used the Internet and having used a smartphone?\n",
    "* How many interviewees reported having used the Internet but not having used a smartphone?"
   ]
  },
  {
   "cell_type": "code",
   "execution_count": 26,
   "metadata": {
    "collapsed": false
   },
   "outputs": [
    {
     "data": {
      "text/html": [
       "<div style=\"max-height:1000px;max-width:1500px;overflow:auto;\">\n",
       "<table border=\"1\" class=\"dataframe\">\n",
       "  <thead>\n",
       "    <tr style=\"text-align: right;\">\n",
       "      <th>Internet.Use</th>\n",
       "      <th>0.0</th>\n",
       "      <th>1.0</th>\n",
       "    </tr>\n",
       "    <tr>\n",
       "      <th>Smartphone</th>\n",
       "      <th></th>\n",
       "      <th></th>\n",
       "    </tr>\n",
       "  </thead>\n",
       "  <tbody>\n",
       "    <tr>\n",
       "      <th>0</th>\n",
       "      <td>186</td>\n",
       "      <td>285</td>\n",
       "    </tr>\n",
       "    <tr>\n",
       "      <th>1</th>\n",
       "      <td>17</td>\n",
       "      <td>470</td>\n",
       "    </tr>\n",
       "  </tbody>\n",
       "</table>\n",
       "</div>"
      ],
      "text/plain": [
       "Internet.Use    0    1\n",
       "Smartphone            \n",
       "0             186  285\n",
       "1              17  470"
      ]
     },
     "execution_count": 26,
     "metadata": {},
     "output_type": "execute_result"
    }
   ],
   "source": [
    "pd.crosstab(poll.Smartphone, poll['Internet.Use'])"
   ]
  },
  {
   "cell_type": "markdown",
   "metadata": {},
   "source": [
    "* Deal with missing value\n",
    "count the number of missing value"
   ]
  },
  {
   "cell_type": "code",
   "execution_count": 31,
   "metadata": {
    "collapsed": false
   },
   "outputs": [
    {
     "name": "stdout",
     "output_type": "stream",
     "text": [
      "1\n",
      "43\n"
     ]
    }
   ],
   "source": [
    "print poll['Internet.Use'].isnull().sum()\n",
    "print poll['Smartphone'].isnull().sum()"
   ]
  },
  {
   "cell_type": "markdown",
   "metadata": {},
   "source": [
    "* Ceate a subset of the data"
   ]
  },
  {
   "cell_type": "code",
   "execution_count": 54,
   "metadata": {
    "collapsed": false
   },
   "outputs": [
    {
     "data": {
      "text/plain": [
       "(792, 13)"
      ]
     },
     "execution_count": 54,
     "metadata": {},
     "output_type": "execute_result"
    }
   ],
   "source": [
    "newPoll = poll[(poll['Internet.Use'] == 1) | (poll['Smartphone'] == 1)]\n",
    "newPoll.shape"
   ]
  },
  {
   "cell_type": "markdown",
   "metadata": {},
   "source": [
    "* find missing value"
   ]
  },
  {
   "cell_type": "code",
   "execution_count": 58,
   "metadata": {
    "collapsed": false
   },
   "outputs": [
    {
     "data": {
      "text/plain": [
       "Internet.Use               0\n",
       "Smartphone                20\n",
       "Sex                        0\n",
       "Age                       22\n",
       "State                      0\n",
       "Region                     0\n",
       "Conservativeness          45\n",
       "Info.On.Internet           0\n",
       "Worry.About.Info           2\n",
       "Privacy.Importance         5\n",
       "Anonymity.Possible        39\n",
       "Tried.Masking.Identity     8\n",
       "Privacy.Laws.Effective    65\n",
       "dtype: int64"
      ]
     },
     "execution_count": 58,
     "metadata": {},
     "output_type": "execute_result"
    }
   ],
   "source": [
    "newPoll.isnull().sum()"
   ]
  },
  {
   "cell_type": "markdown",
   "metadata": {},
   "source": [
    "1. What is the average number of pieces of personal information on the Internet, according to the Info.On.Internet variable?\n",
    "2. How many interviewees reported a value of 0 for Info.On.Internet?\n",
    "3. How many interviewees reported the maximum value of 11 for Info.On.Internet?"
   ]
  },
  {
   "cell_type": "code",
   "execution_count": 100,
   "metadata": {
    "collapsed": false
   },
   "outputs": [
    {
     "name": "stdout",
     "output_type": "stream",
     "text": [
      "3.79545454545\n",
      "105\n",
      "8\n",
      "{0.0: 105.0, 1.0: 84.0, 2.0: 95.0, 3.0: 101.0, 4.0: 104.0, 5.0: 94.0, 6.0: 67.0, 7.0: 63.0, 8.0: 40.0, 9.0: 18.0, 10.0: 13.0, 11.0: 8.0}\n"
     ]
    }
   ],
   "source": [
    "print newPoll['Info.On.Internet'].mean()\n",
    "print (newPoll['Info.On.Internet'] == 0).sum()\n",
    "print (newPoll['Info.On.Internet'] == 11).sum()\n",
    "\n",
    "# count frequency in column of DataFrame\n",
    "\n",
    "def table(column):\n",
    "    infoDict = {k:v for k,v in zip(set(column),np.zeros(12))}\n",
    "    for v in column:\n",
    "        infoDict[v] = infoDict[v] + 1\n",
    "    return infoDict"
   ]
  },
  {
   "cell_type": "markdown",
   "metadata": {},
   "source": [
    "* What proportion of interviewees who answered the Worry.About.Info question worry about how much information is available about them on the Internet? Note that to compute this proportion you will be dividing by the number of people who answered the Worry.About.Info question, not the total number of people in the data frame."
   ]
  },
  {
   "cell_type": "code",
   "execution_count": 108,
   "metadata": {
    "collapsed": false
   },
   "outputs": [
    {
     "name": "stdout",
     "output_type": "stream",
     "text": [
      "0.488607594937\n"
     ]
    }
   ],
   "source": [
    "total = float(poll['Worry.About.Info'].notnull().sum())\n",
    "worry = (poll['Worry.About.Info'] == 1).sum()\n",
    "print worry/total"
   ]
  },
  {
   "cell_type": "markdown",
   "metadata": {},
   "source": [
    "* What proportion of interviewees who answered the Anonymity.Possible question think it is possible to be completely anonymous on the Internet?"
   ]
  },
  {
   "cell_type": "code",
   "execution_count": 111,
   "metadata": {
    "collapsed": false
   },
   "outputs": [
    {
     "name": "stdout",
     "output_type": "stream",
     "text": [
      "0.369189907039\n"
     ]
    }
   ],
   "source": [
    "total = float(poll['Anonymity.Possible'].notnull().sum())\n",
    "anonymity = (poll['Anonymity.Possible'] == 1).sum()\n",
    "print anonymity/total"
   ]
  },
  {
   "cell_type": "markdown",
   "metadata": {},
   "source": [
    "* What proportion of interviewees who answered the Tried.Masking.Identity question have tried masking their identity on the Internet?"
   ]
  },
  {
   "cell_type": "code",
   "execution_count": 113,
   "metadata": {
    "collapsed": false
   },
   "outputs": [
    {
     "name": "stdout",
     "output_type": "stream",
     "text": [
      "0.163265306122\n"
     ]
    }
   ],
   "source": [
    "total = float(poll['Tried.Masking.Identity'].notnull().sum())\n",
    "tried = (poll['Tried.Masking.Identity'] == 1).sum()\n",
    "print tried/total"
   ]
  },
  {
   "cell_type": "markdown",
   "metadata": {},
   "source": [
    "* What proportion of interviewees who answered the Privacy.Laws.Effective question find United States privacy laws effective?"
   ]
  },
  {
   "cell_type": "code",
   "execution_count": 115,
   "metadata": {
    "collapsed": false
   },
   "outputs": [
    {
     "name": "stdout",
     "output_type": "stream",
     "text": [
      "0.261744966443\n"
     ]
    }
   ],
   "source": [
    "total = float(poll['Privacy.Laws.Effective'].notnull().sum())\n",
    "privacy = (poll['Privacy.Laws.Effective'] == 1).sum()\n",
    "print privacy/total"
   ]
  },
  {
   "cell_type": "markdown",
   "metadata": {},
   "source": [
    "###3 - RELATING DEMOGRAPHICS TO POLLING RESULTS  "
   ]
  },
  {
   "cell_type": "code",
   "execution_count": 128,
   "metadata": {
    "collapsed": false
   },
   "outputs": [
    {
     "data": {
      "text/plain": [
       "<matplotlib.axes._subplots.AxesSubplot at 0x10d773050>"
      ]
     },
     "execution_count": 128,
     "metadata": {},
     "output_type": "execute_result"
    },
    {
     "data": {
      "image/png": "[encoded data removed]",
      "text/plain": [
       "<matplotlib.figure.Figure at 0x10d1da4d0>"
      ]
     },
     "metadata": {},
     "output_type": "display_data"
    }
   ],
   "source": [
    "%matplotlib inline \n",
    "import matplotlib.pyplot as plt\n",
    "\n",
    "newPoll['Age'].hist(bins = 10)"
   ]
  },
  {
   "cell_type": "code",
   "execution_count": 133,
   "metadata": {
    "collapsed": false
   },
   "outputs": [
    {
     "data": {
      "text/plain": [
       "Info.On.Internet\n",
       "0     6\n",
       "1     6\n",
       "2     5\n",
       "3     5\n",
       "4     5\n",
       "5     5\n",
       "6     5\n",
       "7     5\n",
       "8     4\n",
       "9     2\n",
       "10    2\n",
       "11    2\n",
       "dtype: int64"
      ]
     },
     "execution_count": 133,
     "metadata": {},
     "output_type": "execute_result"
    }
   ],
   "source": [
    "pd.crosstab(newPoll.Age, newPoll['Info.On.Internet']).max()"
   ]
  },
  {
   "cell_type": "code",
   "execution_count": 135,
   "metadata": {
    "collapsed": true
   },
   "outputs": [],
   "source": [
    "def rand_jitter(arr):\n",
    "    stdev = .01*(max(arr)-min(arr))\n",
    "    return arr + np.random.randn(len(arr)) * stdev"
   ]
  },
  {
   "cell_type": "code",
   "execution_count": 138,
   "metadata": {
    "collapsed": false
   },
   "outputs": [
    {
     "data": {
      "text/plain": [
       "<matplotlib.collections.PathCollection at 0x10df45cd0>"
      ]
     },
     "execution_count": 138,
     "metadata": {},
     "output_type": "execute_result"
    },
    {
     "data": {
      "image/png": "[encoded data removed]",
      "text/plain": [
       "<matplotlib.figure.Figure at 0x10de3dd90>"
      ]
     },
     "metadata": {},
     "output_type": "display_data"
    }
   ],
   "source": [
    "plt.scatter(rand_jitter(newPoll.Age), rand_jitter(newPoll['Info.On.Internet']))"
   ]
  },
  {
   "cell_type": "markdown",
   "metadata": {},
   "source": [
    "* group Info.On.Internet by whether he/she is a smartphone user"
   ]
  },
  {
   "cell_type": "code",
   "execution_count": 142,
   "metadata": {
    "collapsed": false
   },
   "outputs": [
    {
     "data": {
      "text/plain": [
       "Smartphone\n",
       "0    2.922807\n",
       "1    4.367556\n",
       "Name: Info.On.Internet, dtype: float64"
      ]
     },
     "execution_count": 142,
     "metadata": {},
     "output_type": "execute_result"
    }
   ],
   "source": [
    "smartPhone_groupby = newPoll.groupby('Smartphone')\n",
    "smartPhone_groupby.mean()['Info.On.Internet']"
   ]
  },
  {
   "cell_type": "code",
   "execution_count": 147,
   "metadata": {
    "collapsed": false
   },
   "outputs": [
    {
     "data": {
      "text/html": [
       "<div style=\"max-height:1000px;max-width:1500px;overflow:auto;\">\n",
       "<table border=\"1\" class=\"dataframe\">\n",
       "  <thead>\n",
       "    <tr style=\"text-align: right;\">\n",
       "      <th></th>\n",
       "      <th>Internet.Use</th>\n",
       "      <th>Sex</th>\n",
       "      <th>Age</th>\n",
       "      <th>State</th>\n",
       "      <th>Region</th>\n",
       "      <th>Conservativeness</th>\n",
       "      <th>Info.On.Internet</th>\n",
       "      <th>Worry.About.Info</th>\n",
       "      <th>Privacy.Importance</th>\n",
       "      <th>Anonymity.Possible</th>\n",
       "      <th>Tried.Masking.Identity</th>\n",
       "      <th>Privacy.Laws.Effective</th>\n",
       "    </tr>\n",
       "    <tr>\n",
       "      <th>Smartphone</th>\n",
       "      <th></th>\n",
       "      <th></th>\n",
       "      <th></th>\n",
       "      <th></th>\n",
       "      <th></th>\n",
       "      <th></th>\n",
       "      <th></th>\n",
       "      <th></th>\n",
       "      <th></th>\n",
       "      <th></th>\n",
       "      <th></th>\n",
       "      <th></th>\n",
       "    </tr>\n",
       "  </thead>\n",
       "  <tbody>\n",
       "    <tr>\n",
       "      <th>0</th>\n",
       "      <td>1.000000</td>\n",
       "      <td>0</td>\n",
       "      <td>0</td>\n",
       "      <td>0</td>\n",
       "      <td>0</td>\n",
       "      <td>0.038596</td>\n",
       "      <td>0.150877</td>\n",
       "      <td>0.477193</td>\n",
       "      <td>0</td>\n",
       "      <td>0.343860</td>\n",
       "      <td>0.115789</td>\n",
       "      <td>0.207018</td>\n",
       "    </tr>\n",
       "    <tr>\n",
       "      <th>1</th>\n",
       "      <td>0.965092</td>\n",
       "      <td>0</td>\n",
       "      <td>0</td>\n",
       "      <td>0</td>\n",
       "      <td>0</td>\n",
       "      <td>0.049281</td>\n",
       "      <td>0.082136</td>\n",
       "      <td>0.496920</td>\n",
       "      <td>0</td>\n",
       "      <td>0.347023</td>\n",
       "      <td>0.190965</td>\n",
       "      <td>0.248460</td>\n",
       "    </tr>\n",
       "  </tbody>\n",
       "</table>\n",
       "</div>"
      ],
      "text/plain": [
       "            Internet.Use  Sex  Age  State  Region  Conservativeness  \\\n",
       "Smartphone                                                            \n",
       "0               1.000000    0    0      0       0          0.038596   \n",
       "1               0.965092    0    0      0       0          0.049281   \n",
       "\n",
       "            Info.On.Internet  Worry.About.Info  Privacy.Importance  \\\n",
       "Smartphone                                                           \n",
       "0                   0.150877          0.477193                   0   \n",
       "1                   0.082136          0.496920                   0   \n",
       "\n",
       "            Anonymity.Possible  Tried.Masking.Identity  Privacy.Laws.Effective  \n",
       "Smartphone                                                                      \n",
       "0                     0.343860                0.115789                0.207018  \n",
       "1                     0.347023                0.190965                0.248460  "
      ]
     },
     "execution_count": 147,
     "metadata": {},
     "output_type": "execute_result"
    }
   ],
   "source": [
    "smartPhone_groupby.aggregate(lambda x: (x==1).sum()/float(len(x)))"
   ]
  }
 ],
 "metadata": {
  "kernelspec": {
   "display_name": "Python 2",
   "language": "python",
   "name": "python2"
  },
  "language_info": {
   "codemirror_mode": {
    "name": "ipython",
    "version": 2
   },
   "file_extension": ".py",
   "mimetype": "text/x-python",
   "name": "python",
   "nbconvert_exporter": "python",
   "pygments_lexer": "ipython2",
   "version": "2.7.10"
  }
 },
 "nbformat": 4,
 "nbformat_minor": 0
}
